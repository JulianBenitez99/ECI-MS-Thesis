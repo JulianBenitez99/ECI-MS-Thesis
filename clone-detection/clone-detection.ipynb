{
 "cells": [
  {
   "metadata": {},
   "cell_type": "markdown",
   "source": [
    "# Dataset\n",
    "Unzip the dataset"
   ],
   "id": "2d906b6b742d2b46"
  },
  {
   "cell_type": "code",
   "execution_count": null,
   "id": "initial_id",
   "metadata": {
    "collapsed": true
   },
   "outputs": [],
   "source": "!unzip dataset.zip"
  },
  {
   "metadata": {},
   "cell_type": "markdown",
   "source": [
    "# Dependencies\n",
    "Install necessary dependencies"
   ],
   "id": "7e18c4ff1db205f3"
  },
  {
   "metadata": {},
   "cell_type": "code",
   "outputs": [],
   "execution_count": null,
   "source": "!pip install torch transformers tree_sitter scikit-learn",
   "id": "acabe3f3b470657f"
  },
  {
   "metadata": {},
   "cell_type": "markdown",
   "source": [
    "# Fine-tune\n",
    "Fine-tune the model"
   ],
   "id": "846d06b2e9ebb5a7"
  },
  {
   "metadata": {},
   "cell_type": "code",
   "outputs": [],
   "execution_count": null,
   "source": "!bash fine-tune.sh",
   "id": "5606b4a7e8a257a9"
  }
 ],
 "metadata": {
  "kernelspec": {
   "display_name": "Python 3",
   "language": "python",
   "name": "python3"
  },
  "language_info": {
   "codemirror_mode": {
    "name": "ipython",
    "version": 2
   },
   "file_extension": ".py",
   "mimetype": "text/x-python",
   "name": "python",
   "nbconvert_exporter": "python",
   "pygments_lexer": "ipython2",
   "version": "2.7.6"
  }
 },
 "nbformat": 4,
 "nbformat_minor": 5
}
