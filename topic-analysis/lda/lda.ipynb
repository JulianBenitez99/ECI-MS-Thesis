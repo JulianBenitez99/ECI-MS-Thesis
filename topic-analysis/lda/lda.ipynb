{
 "cells": [
  {
   "cell_type": "code",
   "execution_count": 106,
   "id": "initial_id",
   "metadata": {
    "collapsed": true,
    "ExecuteTime": {
     "end_time": "2024-03-30T22:54:01.091831Z",
     "start_time": "2024-03-30T22:54:01.027678Z"
    }
   },
   "outputs": [],
   "source": [
    "import pandas as pd\n",
    "from IPython.core.interactiveshell import InteractiveShell\n",
    "InteractiveShell.ast_node_interactivity = \"all\" # see the value of multiple statements at once.\n",
    "pd.set_option('display.max_columns', None)\n",
    "pd.set_option('display.max_rows', None)\n"
   ]
  },
  {
   "cell_type": "markdown",
   "source": [
    "python -m spacy download en_core_web_sm"
   ],
   "metadata": {
    "collapsed": false
   },
   "id": "247e764f8f717bfd"
  },
  {
   "cell_type": "code",
   "outputs": [
    {
     "data": {
      "text/plain": "<spacy.lang.en.English at 0x30cc32060>"
     },
     "execution_count": 107,
     "metadata": {},
     "output_type": "execute_result"
    }
   ],
   "source": [
    "import spacy\n",
    "spacy.load('en_core_web_sm')\n",
    "from spacy.lang.en import English\n",
    "parser = English()"
   ],
   "metadata": {
    "collapsed": false,
    "ExecuteTime": {
     "end_time": "2024-03-30T22:54:01.703862Z",
     "start_time": "2024-03-30T22:54:01.102211Z"
    }
   },
   "id": "a6da52321cbbfb7c",
   "execution_count": 107
  },
  {
   "cell_type": "code",
   "outputs": [
    {
     "data": {
      "text/plain": "(15864, 4)"
     },
     "execution_count": 108,
     "metadata": {},
     "output_type": "execute_result"
    },
    {
     "data": {
      "text/plain": "      name       owner                                        description  \\\n0     name       owner                                        description   \n1      hub      mislav  A command-line tool that makes git easier to u...   \n2  lantern  getlantern  Lantern官方版本下载 蓝灯 翻墙 代理 科学上网 外网 加速器 梯子 路由 - Быс...   \n3    revel       revel  A high productivity, full-stack web framework ...   \n4   direnv      direnv                            unclutter your .profile   \n\n                                              topics  \n0                                             topics  \n1          [go homebrew git github-api pull-request]  \n2  [lantern vpn censorship circumvention gfw acce...  \n3  [web-framework web-application web-application...  \n4  [direnv environment shell-extension bash zsh t...  ",
      "text/html": "<div>\n<style scoped>\n    .dataframe tbody tr th:only-of-type {\n        vertical-align: middle;\n    }\n\n    .dataframe tbody tr th {\n        vertical-align: top;\n    }\n\n    .dataframe thead th {\n        text-align: right;\n    }\n</style>\n<table border=\"1\" class=\"dataframe\">\n  <thead>\n    <tr style=\"text-align: right;\">\n      <th></th>\n      <th>name</th>\n      <th>owner</th>\n      <th>description</th>\n      <th>topics</th>\n    </tr>\n  </thead>\n  <tbody>\n    <tr>\n      <th>0</th>\n      <td>name</td>\n      <td>owner</td>\n      <td>description</td>\n      <td>topics</td>\n    </tr>\n    <tr>\n      <th>1</th>\n      <td>hub</td>\n      <td>mislav</td>\n      <td>A command-line tool that makes git easier to u...</td>\n      <td>[go homebrew git github-api pull-request]</td>\n    </tr>\n    <tr>\n      <th>2</th>\n      <td>lantern</td>\n      <td>getlantern</td>\n      <td>Lantern官方版本下载 蓝灯 翻墙 代理 科学上网 外网 加速器 梯子 路由 - Быс...</td>\n      <td>[lantern vpn censorship circumvention gfw acce...</td>\n    </tr>\n    <tr>\n      <th>3</th>\n      <td>revel</td>\n      <td>revel</td>\n      <td>A high productivity, full-stack web framework ...</td>\n      <td>[web-framework web-application web-application...</td>\n    </tr>\n    <tr>\n      <th>4</th>\n      <td>direnv</td>\n      <td>direnv</td>\n      <td>unclutter your .profile</td>\n      <td>[direnv environment shell-extension bash zsh t...</td>\n    </tr>\n  </tbody>\n</table>\n</div>"
     },
     "execution_count": 108,
     "metadata": {},
     "output_type": "execute_result"
    }
   ],
   "source": [
    "df = pd.read_csv('output.csv',header=None, names=['name', 'owner', 'description', 'topics']) \n",
    "df.columns = ['name', 'owner', 'description', 'topics']\n",
    "df.shape\n",
    "df.head()\n"
   ],
   "metadata": {
    "collapsed": false,
    "ExecuteTime": {
     "end_time": "2024-03-30T22:54:01.737187Z",
     "start_time": "2024-03-30T22:54:01.668106Z"
    }
   },
   "id": "e343e3bcdbb3f663",
   "execution_count": 108
  },
  {
   "cell_type": "code",
   "outputs": [],
   "source": [
    "df['description'] = df['description'] + ' ' + df['topics']"
   ],
   "metadata": {
    "collapsed": false,
    "ExecuteTime": {
     "end_time": "2024-03-30T22:54:01.745231Z",
     "start_time": "2024-03-30T22:54:01.733287Z"
    }
   },
   "id": "5d46174e677851dc",
   "execution_count": 109
  },
  {
   "cell_type": "code",
   "outputs": [
    {
     "name": "stdout",
     "output_type": "stream",
     "text": [
      "['description topics', 'A command-line tool that makes git easier to use with GitHub. [go homebrew git github-api pull-request]', 'Lantern官方版本下载 蓝灯 翻墙 代理 科学上网 外网 加速器 梯子 路由 - Быстрый, надежный и безопасный доступ к открытому интернету - lantern proxy vpn censorship-circumvention censorship gfw accelerator پراکسی لنترن، ضدسانسور، امن، قابل اعتماد و پرسرعت [lantern vpn censorship circumvention gfw accelerator router]', 'A high productivity, full-stack web framework for the Go language. [web-framework web-application web-application-framework hacktoberfest revel]', 'unclutter your .profile [direnv environment shell-extension bash zsh tcsh fish shell]', 'An in-memory key:value store/cache (similar to Memcached) library for Go, suitable for single-machine applications. [go cache library]', 'DNS library in Go [dnssec go dns-library dns]', 'A Windows GUI toolkit for the Go Programming Language [go gui gui-toolkit win32 windows windows-desktop declarative declarative-ui]', 'Perkeep (née Camlistore) is your personal storage system for life: a way of storing, syncing, sharing, modelling and backing up content. []', 'Go library for reading and writing XLSX files.  [excel go spreadsheet xlsx]']\n"
     ]
    }
   ],
   "source": [
    "doc_set = df.values.T.tolist()[2]\n",
    "print(doc_set[0:10])\n",
    "# doc_set\n"
   ],
   "metadata": {
    "collapsed": false,
    "ExecuteTime": {
     "end_time": "2024-03-30T22:54:01.761441Z",
     "start_time": "2024-03-30T22:54:01.744935Z"
    }
   },
   "id": "b6f451f4ae1c29cc",
   "execution_count": 110
  },
  {
   "cell_type": "code",
   "outputs": [
    {
     "name": "stderr",
     "output_type": "stream",
     "text": [
      "[nltk_data] Downloading package wordnet to\n",
      "[nltk_data]     /Users/jbenitezg/nltk_data...\n",
      "[nltk_data]   Package wordnet is already up-to-date!\n"
     ]
    },
    {
     "data": {
      "text/plain": "True"
     },
     "execution_count": 111,
     "metadata": {},
     "output_type": "execute_result"
    },
    {
     "name": "stdout",
     "output_type": "stream",
     "text": [
      "Tokenized Docs:\n",
      "[['description', 'topics'], ['a', 'command', 'line', 'tool', 'that', 'makes', 'git', 'easier', 'to', 'use', 'with', 'github', 'go', 'homebrew', 'git', 'github', 'api', 'pull', 'request'], ['lantern官方版本下载', '蓝灯', '翻墙', '代理', '科学上网', '外网', '加速器', '梯子', '路由', 'быстрый', 'надежный', 'и', 'безопасный', 'доступ', 'к', 'открытому', 'интернету', 'lantern', 'proxy', 'vpn', 'censorship', 'circumvention', 'censorship', 'gfw', 'accelerator', 'پراکسی', 'لنترن', 'ضدسانسور', 'امن', 'قابل', 'اعتماد', 'و', 'پرسرعت', 'lantern', 'vpn', 'censorship', 'circumvention', 'gfw', 'accelerator', 'router']]\n"
     ]
    }
   ],
   "source": [
    "import nltk\n",
    "nltk.download('wordnet')\n",
    "from nltk.stem import WordNetLemmatizer\n",
    "from nltk.stem.porter import PorterStemmer\n",
    "from math import isnan\n",
    "\n",
    "stemmer = PorterStemmer()\n",
    "lemmatizer = WordNetLemmatizer()\n",
    "\n",
    "\n",
    "from nltk.tokenize import RegexpTokenizer\n",
    "tokenizer = RegexpTokenizer(r'\\w+')\n",
    "\n",
    "tokenized_docs = []\n",
    "for doc in doc_set:\n",
    "    if type(doc) != str and isnan(doc):\n",
    "        doc = ''\n",
    "    tokens = tokenizer.tokenize(doc.lower())\n",
    "    tokenized_docs.append(tokens)\n",
    "    \n",
    "print(\"Tokenized Docs:\")\n",
    "print(tokenized_docs[0:3])\n",
    "# print(tokenized_docs)\n",
    "\n"
   ],
   "metadata": {
    "collapsed": false,
    "ExecuteTime": {
     "end_time": "2024-03-30T22:54:03.270569Z",
     "start_time": "2024-03-30T22:54:01.758784Z"
    }
   },
   "id": "d4203d513445ecc8",
   "execution_count": 111
  },
  {
   "cell_type": "code",
   "outputs": [
    {
     "name": "stdout",
     "output_type": "stream",
     "text": [
      "[['description', 'topic'], ['a', 'command', 'line', 'tool', 'that', 'make', 'git', 'easier', 'to', 'use', 'with', 'github', 'go', 'homebrew', 'git', 'github', 'api', 'pull', 'request'], ['lantern官方版本下载', '蓝灯', '翻墙', '代理', '科学上网', '外网', '加速器', '梯子', '路由', 'быстрый', 'надежный', 'и', 'безопасный', 'доступ', 'к', 'открытому', 'интернету', 'lantern', 'proxy', 'vpn', 'censorship', 'circumvention', 'censorship', 'gfw', 'accelerator', 'پراکسی', 'لنترن', 'ضدسانسور', 'امن', 'قابل', 'اعتماد', 'و', 'پرسرعت', 'lantern', 'vpn', 'censorship', 'circumvention', 'gfw', 'accelerator', 'router']]\n"
     ]
    }
   ],
   "source": [
    "lemmatized_tokens = []\n",
    "for lst in tokenized_docs:\n",
    "    tokens_lemma = [lemmatizer.lemmatize(i) for i in lst]\n",
    "    lemmatized_tokens.append(tokens_lemma)\n",
    "    \n",
    "print(lemmatized_tokens[0:3])\n"
   ],
   "metadata": {
    "collapsed": false,
    "ExecuteTime": {
     "end_time": "2024-03-30T22:54:03.759365Z",
     "start_time": "2024-03-30T22:54:03.252387Z"
    }
   },
   "id": "3e1f95c51c14252a",
   "execution_count": 112
  },
  {
   "cell_type": "code",
   "outputs": [],
   "source": [
    "from stop_words import get_stop_words\n",
    "en_stop_words = get_stop_words('en')"
   ],
   "metadata": {
    "collapsed": false,
    "ExecuteTime": {
     "end_time": "2024-03-30T22:54:03.766900Z",
     "start_time": "2024-03-30T22:54:03.759781Z"
    }
   },
   "id": "8a1b1b4a5b7e658f",
   "execution_count": 113
  },
  {
   "cell_type": "code",
   "outputs": [
    {
     "name": "stdout",
     "output_type": "stream",
     "text": [
      "[['description', 'topic'], ['command', 'line', 'tool', 'make', 'git', 'easier', 'use', 'github', 'homebrew', 'git', 'github', 'api', 'pull', 'request'], ['lantern官方版本下载', '科学上网', '加速器', 'быстрый', 'надежный', 'безопасный', 'доступ', 'открытому', 'интернету', 'lantern', 'proxy', 'vpn', 'censorship', 'circumvention', 'censorship', 'gfw', 'accelerator', 'پراکسی', 'لنترن', 'ضدسانسور', 'امن', 'قابل', 'اعتماد', 'پرسرعت', 'lantern', 'vpn', 'censorship', 'circumvention', 'gfw', 'accelerator', 'router']]\n"
     ]
    }
   ],
   "source": [
    "n=2\n",
    "tokens = []\n",
    "for lst in lemmatized_tokens:\n",
    "    tokens.append([i for i in lst if not i in en_stop_words if len(i) > n])\n",
    "\n",
    "print(tokens[0:3])\n",
    "# tokens"
   ],
   "metadata": {
    "collapsed": false,
    "ExecuteTime": {
     "end_time": "2024-03-30T22:54:04.093115Z",
     "start_time": "2024-03-30T22:54:03.799727Z"
    }
   },
   "id": "2d25fb521de7a627",
   "execution_count": 114
  },
  {
   "cell_type": "code",
   "outputs": [],
   "source": [
    "from gensim import corpora, models\n",
    "\n",
    "dictionary = corpora.Dictionary(tokens)"
   ],
   "metadata": {
    "collapsed": false,
    "ExecuteTime": {
     "end_time": "2024-03-30T22:54:04.157540Z",
     "start_time": "2024-03-30T22:54:04.076713Z"
    }
   },
   "id": "e9fd852febacdf9b",
   "execution_count": 115
  },
  {
   "cell_type": "code",
   "outputs": [],
   "source": [
    "corpus = [dictionary.doc2bow(text) for text in tokens]\n",
    "\n",
    "import pickle\n",
    "pickle.dump(corpus, open('corpus.pkl', 'wb'))\n",
    "dictionary.save('dictionary.gensim')"
   ],
   "metadata": {
    "collapsed": false,
    "ExecuteTime": {
     "end_time": "2024-03-30T22:54:04.293012Z",
     "start_time": "2024-03-30T22:54:04.189736Z"
    }
   },
   "id": "7162fbca7cadc8d7",
   "execution_count": 116
  },
  {
   "cell_type": "code",
   "outputs": [
    {
     "data": {
      "text/plain": "[(0, 1), (1, 1)]"
     },
     "execution_count": 117,
     "metadata": {},
     "output_type": "execute_result"
    }
   ],
   "source": [
    "corpus[0]"
   ],
   "metadata": {
    "collapsed": false,
    "ExecuteTime": {
     "end_time": "2024-03-30T22:54:04.294805Z",
     "start_time": "2024-03-30T22:54:04.293260Z"
    }
   },
   "id": "35459c25e809bf55",
   "execution_count": 117
  },
  {
   "cell_type": "code",
   "outputs": [],
   "source": [
    "import gensim\n",
    "ldamodel_3 = gensim.models.ldamodel.LdaModel(corpus, num_topics=3, id2word = dictionary, passes=20)\n",
    "ldamodel_3.save('model3.gensim')\n",
    "ldamodel_4 = gensim.models.ldamodel.LdaModel(corpus, num_topics=3, id2word = dictionary, passes=20)\n",
    "ldamodel_4.save('model4.gensim')"
   ],
   "metadata": {
    "collapsed": false,
    "ExecuteTime": {
     "end_time": "2024-03-30T22:54:50.026484Z",
     "start_time": "2024-03-30T22:54:04.293715Z"
    }
   },
   "id": "fc037a38edfddcc1",
   "execution_count": 118
  },
  {
   "cell_type": "code",
   "outputs": [
    {
     "name": "stdout",
     "output_type": "stream",
     "text": [
      "(0, '0.040*\"kubernetes\" + 0.016*\"cloud\" + 0.015*\"golang\"') \n",
      "\n",
      "(1, '0.025*\"golang\" + 0.023*\"minerproxy\" + 0.019*\"http\"') \n",
      "\n",
      "(2, '0.053*\"golang\" + 0.011*\"library\" + 0.010*\"data\"') \n"
     ]
    }
   ],
   "source": [
    "for el in ldamodel_3.print_topics(num_topics=3, num_words=3):\n",
    "    print(el,'\\n')\n"
   ],
   "metadata": {
    "collapsed": false,
    "ExecuteTime": {
     "end_time": "2024-03-30T22:54:50.034524Z",
     "start_time": "2024-03-30T22:54:50.021755Z"
    }
   },
   "id": "6cd90e1b9c5d9874",
   "execution_count": 119
  },
  {
   "cell_type": "code",
   "outputs": [
    {
     "name": "stdout",
     "output_type": "stream",
     "text": [
      "(0, '0.052*\"golang\" + 0.020*\"server\" + 0.016*\"api\"') \n",
      "\n",
      "(1, '0.030*\"golang\" + 0.024*\"tool\" + 0.022*\"minerproxy\"') \n",
      "\n",
      "(2, '0.040*\"kubernetes\" + 0.016*\"cloud\" + 0.015*\"docker\"') \n"
     ]
    }
   ],
   "source": [
    "for el in ldamodel_4.print_topics(num_topics=3, num_words=3):\n",
    "    print(el,'\\n')\n"
   ],
   "metadata": {
    "collapsed": false,
    "ExecuteTime": {
     "end_time": "2024-03-30T22:54:50.035318Z",
     "start_time": "2024-03-30T22:54:50.028413Z"
    }
   },
   "id": "bca890aaf9181063",
   "execution_count": 120
  },
  {
   "cell_type": "code",
   "outputs": [],
   "source": [
    "dictionary = gensim.corpora.Dictionary.load('dictionary.gensim')"
   ],
   "metadata": {
    "collapsed": false,
    "ExecuteTime": {
     "end_time": "2024-03-30T22:54:50.046136Z",
     "start_time": "2024-03-30T22:54:50.033181Z"
    }
   },
   "id": "37e98672eacebbfe",
   "execution_count": 121
  },
  {
   "cell_type": "code",
   "outputs": [],
   "source": [
    "corpus = pickle.load(open('corpus.pkl', 'rb'))"
   ],
   "metadata": {
    "collapsed": false,
    "ExecuteTime": {
     "end_time": "2024-03-30T22:54:50.133574Z",
     "start_time": "2024-03-30T22:54:50.042674Z"
    }
   },
   "id": "d42458db6cd4d66b",
   "execution_count": 122
  },
  {
   "cell_type": "code",
   "outputs": [],
   "source": [
    "lda = gensim.models.ldamodel.LdaModel.load('model3.gensim')"
   ],
   "metadata": {
    "collapsed": false,
    "ExecuteTime": {
     "end_time": "2024-03-30T22:54:50.134094Z",
     "start_time": "2024-03-30T22:54:50.063169Z"
    }
   },
   "id": "7a42addc490986d1",
   "execution_count": 123
  },
  {
   "cell_type": "code",
   "outputs": [],
   "source": [
    "import pyLDAvis.gensim"
   ],
   "metadata": {
    "collapsed": false,
    "ExecuteTime": {
     "end_time": "2024-03-30T22:54:50.136887Z",
     "start_time": "2024-03-30T22:54:50.082093Z"
    }
   },
   "id": "c27da31fc04b8860",
   "execution_count": 124
  },
  {
   "cell_type": "code",
   "outputs": [
    {
     "name": "stderr",
     "output_type": "stream",
     "text": [
      "/Users/jbenitezg/Documents/GitHub/ECI-MS-Thesis/topic-analysis/lda/.venv/lib/python3.12/site-packages/joblib/_utils.py:38: DeprecationWarning: ast.Num is deprecated and will be removed in Python 3.14; use ast.Constant instead\n",
      "  if isinstance(node, ast.Num):  # <number>\n",
      "/Users/jbenitezg/Documents/GitHub/ECI-MS-Thesis/topic-analysis/lda/.venv/lib/python3.12/site-packages/joblib/_utils.py:38: DeprecationWarning: ast.Num is deprecated and will be removed in Python 3.14; use ast.Constant instead\n",
      "  if isinstance(node, ast.Num):  # <number>\n",
      "/Users/jbenitezg/Documents/GitHub/ECI-MS-Thesis/topic-analysis/lda/.venv/lib/python3.12/site-packages/joblib/_utils.py:39: DeprecationWarning: Attribute n is deprecated and will be removed in Python 3.14; use value instead\n",
      "  return node.n\n",
      "/Users/jbenitezg/Documents/GitHub/ECI-MS-Thesis/topic-analysis/lda/.venv/lib/python3.12/site-packages/joblib/_utils.py:38: DeprecationWarning: ast.Num is deprecated and will be removed in Python 3.14; use ast.Constant instead\n",
      "  if isinstance(node, ast.Num):  # <number>\n",
      "/Users/jbenitezg/Documents/GitHub/ECI-MS-Thesis/topic-analysis/lda/.venv/lib/python3.12/site-packages/joblib/_utils.py:39: DeprecationWarning: Attribute n is deprecated and will be removed in Python 3.14; use value instead\n",
      "  return node.n\n"
     ]
    }
   ],
   "source": [
    "lda_display = pyLDAvis.gensim.prepare(lda, corpus, dictionary, sort_topics=False)"
   ],
   "metadata": {
    "collapsed": false,
    "ExecuteTime": {
     "end_time": "2024-03-30T22:54:51.309129Z",
     "start_time": "2024-03-30T22:54:50.107694Z"
    }
   },
   "id": "5030d57c658e1429",
   "execution_count": 125
  },
  {
   "cell_type": "code",
   "outputs": [
    {
     "data": {
      "text/plain": "<IPython.core.display.HTML object>",
      "text/html": "\n<link rel=\"stylesheet\" type=\"text/css\" href=\"https://cdn.jsdelivr.net/gh/bmabey/pyLDAvis@3.4.0/pyLDAvis/js/ldavis.v1.0.0.css\">\n\n\n<div id=\"ldavis_el97722131610238247708372852\" style=\"background-color:white;\"></div>\n<script type=\"text/javascript\">\n\nvar ldavis_el97722131610238247708372852_data = {\"mdsDat\": {\"x\": [-0.23021033555298714, 0.09351690669799394, 0.13669342885499325], \"y\": [0.024060345670509204, -0.20445906614171136, 0.18039872047120217], \"topics\": [1, 2, 3], \"cluster\": [1, 1, 1], \"Freq\": [33.09312491827124, 29.54014898075886, 37.36672610096989]}, \"tinfo\": {\"Term\": [\"kubernetes\", \"minerproxy\", \"http\", \"cloud\", \"docker\", \"security\", \"proxy\", \"command\", \"terraform\", \"data\", \"container\", \"github\", \"database\", \"golang\", \"line\", \"aws\", \"cluster\", \"operator\", \"platform\", \"image\", \"distributed\", \"language\", \"k8s\", \"prometheus\", \"service\", \"provider\", \"native\", \"grpc\", \"server\", \"performance\", \"kubernetes\", \"cloud\", \"docker\", \"container\", \"command\", \"aws\", \"cluster\", \"line\", \"operator\", \"image\", \"k8s\", \"native\", \"manager\", \"sdk\", \"devops\", \"helm\", \"resource\", \"azure\", \"configuration\", \"kubectl\", \"controller\", \"infrastructure\", \"run\", \"environment\", \"gateway\", \"deployment\", \"cross\", \"shell\", \"serverless\", \"event\", \"rest\", \"platform\", \"secret\", \"service\", \"cli\", \"plugin\", \"management\", \"api\", \"build\", \"tool\", \"linux\", \"application\", \"golang\", \"hacktoberfest\", \"client\", \"minerproxy\", \"http\", \"proxy\", \"terraform\", \"github\", \"dns\", \"bot\", \"provider\", \"scanner\", \"com\", \"vulnerability\", \"telegram\", \"tcp\", \"reverse\", \"request\", \"discord\", \"static\", \"websocket\", \"middleware\", \"security\", \"detection\", \"tunnel\", \"bugbounty\", \"authentication\", \"url\", \"action\", \"chat\", \"notification\", \"hacking\", \"slack\", \"domain\", \"android\", \"team\", \"server\", \"tool\", \"video\", \"golang\", \"ssh\", \"web\", \"file\", \"git\", \"client\", \"api\", \"library\", \"written\", \"simple\", \"source\", \"linux\", \"network\", \"data\", \"database\", \"language\", \"prometheus\", \"performance\", \"gin\", \"json\", \"redis\", \"sql\", \"high\", \"monitoring\", \"mysql\", \"blockchain\", \"metric\", \"postgresql\", \"game\", \"programming\", \"time\", \"algorithm\", \"grpc\", \"exporter\", \"gorm\", \"learning\", \"kafka\", \"parser\", \"generic\", \"rpc\", \"template\", \"query\", \"tui\", \"distributed\", \"cache\", \"ethereum\", \"golang\", \"architecture\", \"library\", \"framework\", \"terminal\", \"example\", \"engine\", \"code\", \"system\", \"web\", \"protocol\", \"based\", \"server\", \"written\", \"package\", \"tool\", \"testing\"], \"Freq\": [2304.0, 1193.0, 985.0, 912.0, 852.0, 772.0, 693.0, 632.0, 572.0, 675.0, 594.0, 503.0, 610.0, 5642.0, 496.0, 474.0, 471.0, 428.0, 467.0, 414.0, 484.0, 460.0, 372.0, 417.0, 618.0, 321.0, 352.0, 399.0, 1127.0, 384.0, 2303.754383086532, 912.2627223678002, 851.9051426680876, 593.9569655809833, 632.3545028399183, 473.77339605150956, 470.66920948929334, 495.3585520243064, 427.9080913809239, 414.00478187680073, 372.05470177972666, 352.03376334988167, 327.51424095144455, 278.2826296152435, 251.79095654527345, 199.10668000140888, 211.30140741115838, 184.25372159422656, 234.17668409139893, 175.1497287172362, 175.0372305885362, 178.30404856570425, 189.23533132642496, 161.99562885372328, 173.82560911181267, 147.04736623784495, 168.27579531183846, 164.2896894066412, 137.10523011373388, 202.07859945045874, 205.12067599431424, 454.8091728768233, 252.65215466640885, 507.0851809972549, 757.5356287247454, 274.5119573582708, 335.6123895082021, 676.8629899511259, 250.6737004516607, 727.2933742653267, 292.31748199565294, 321.0860216985369, 862.050843002667, 274.0350876081448, 269.5908750527323, 1193.1527564979351, 984.4364266007352, 692.8891152917952, 571.8525154402805, 502.90305414656774, 297.71782557372876, 280.1743516564284, 320.5950283407726, 189.6220446445713, 185.90867168887166, 172.86655882413294, 165.32392526798094, 178.32981127187028, 166.06064984264958, 161.72379417506184, 150.34738662568145, 141.25203820780501, 137.19716782787282, 136.1113197515225, 768.1534954754005, 118.65905946700845, 109.80332790964083, 105.66398405642607, 128.7308450949754, 101.17690543776841, 109.63768519757487, 96.3787618734899, 94.90272081556907, 79.99596018333584, 82.2686449958827, 87.29173988711403, 83.61023004778932, 108.28456525458155, 713.2172926925728, 752.3731898193192, 131.9566279684965, 1300.9050885890072, 179.5592977740205, 245.23959015861465, 225.398284528168, 151.97472211651166, 228.0715778440762, 242.56390246988101, 227.56394686134846, 175.00129783227246, 174.6200059316806, 159.4557364880002, 160.7594605196041, 159.8267086417143, 674.525118695921, 609.8008063412759, 459.7173647657319, 417.3487169985102, 383.55408086236446, 358.4880137242998, 346.2357608863709, 324.54215185163497, 289.95046855301484, 298.2304789374674, 313.0263407888834, 271.31499342901924, 274.3537130202905, 260.3071651527481, 243.15547709706158, 235.01345678983324, 231.17996160232806, 259.26530372464515, 199.51358616447737, 397.7478867973924, 173.86963257482384, 172.37586575883142, 178.77785118204486, 165.4211476941992, 160.98851933886883, 147.76506592669216, 140.72517927181528, 151.30604395751783, 144.14850531515685, 193.4719771534353, 479.6523575046054, 181.16982557708963, 164.22569810068705, 3479.38115029588, 235.0267681680027, 745.1213994947661, 476.8951304018596, 336.19177330972826, 218.01696213969916, 252.2498591225163, 378.5092048301136, 303.38099794367747, 324.6434031308625, 245.92265365994086, 304.8080564310732, 308.23457781092645, 260.12749940689775, 260.0094385374904, 290.5008236217685, 254.2929360867918], \"Total\": [2304.0, 1193.0, 985.0, 912.0, 852.0, 772.0, 693.0, 632.0, 572.0, 675.0, 594.0, 503.0, 610.0, 5642.0, 496.0, 474.0, 471.0, 428.0, 467.0, 414.0, 484.0, 460.0, 372.0, 417.0, 618.0, 321.0, 352.0, 399.0, 1127.0, 384.0, 2304.3435544497343, 912.8768095837157, 852.531388667074, 594.5491007057344, 632.9975341244481, 474.37384667947936, 471.2772695937633, 496.00483441255835, 428.4933971220365, 414.6539439252475, 372.6391345925936, 352.6717312836851, 328.17283847102766, 278.98413431193603, 252.4411991541058, 199.6865726050309, 211.96756605134138, 184.86381943963045, 234.95310865129235, 175.73652766815317, 175.6378611806444, 178.93958356844755, 189.9223995505085, 162.62020389893263, 174.4964644984525, 147.6288802315889, 168.95708106550103, 165.0036470019207, 137.7120995951704, 203.02441345732166, 206.79580537726733, 467.6558868654639, 261.7225905811239, 618.3707117767582, 1047.4515992670438, 310.9332545477094, 406.49109660974335, 1168.6855228304537, 306.0116202354917, 1770.1673877064145, 453.42129625156923, 580.165837384395, 5642.337081887554, 487.3251837901936, 699.715574399315, 1193.732649510896, 985.0744656325448, 693.5090879758263, 572.5340238073132, 503.5317468753388, 298.32777903310824, 280.8159461648573, 321.3714567339893, 190.22498904657627, 186.53489908174805, 173.47391358321477, 165.91730213757145, 178.97422070077369, 166.68555455489928, 162.35713494999823, 150.95056636335465, 141.8952874091415, 137.85965282119633, 136.7747995399442, 772.0424020086967, 119.3139027268621, 110.40971060458351, 106.25489001888313, 129.4988889575524, 101.80990243763664, 110.32905312140112, 96.9957724572664, 95.52855439760478, 80.58736384176578, 82.87886665956627, 87.98586224271686, 84.2395944735771, 110.15196186013135, 1127.0932731298876, 1770.1673877064145, 152.9338787624205, 5642.337081887554, 276.8305468688747, 603.7637132457753, 618.3492476210357, 240.8822238681387, 699.715574399315, 1168.6855228304537, 1127.046928375247, 478.76909868452947, 546.914407450668, 420.09265142773995, 453.42129625156923, 460.1571461363308, 675.1835664972131, 610.3961219513693, 460.3340879929131, 417.94094953274384, 384.16841169402244, 359.0900228843846, 346.8390557275204, 325.13713415405226, 290.5324702465007, 298.865318069665, 313.70595344328274, 271.90592959297834, 274.95169686453147, 260.90317892145634, 243.7598967739171, 235.6024639417665, 231.7803537410875, 259.9931631229878, 200.10099728703295, 399.05016027523754, 174.44902017980047, 172.9641134510727, 179.4149069675994, 166.0222470918922, 161.596511187989, 148.37859502253554, 141.3172899003404, 151.9473896258614, 144.77504503319247, 194.3129164129179, 484.04071065802026, 185.7436617970843, 167.04673094361635, 5642.337081887554, 260.09203000987145, 1127.046928375247, 690.2952295998234, 434.86448135342937, 245.77371378940165, 311.7825946126285, 616.2000378461444, 503.71769467408956, 603.7637132457753, 328.16554937072067, 607.9590657352929, 1127.0932731298876, 478.76909868452947, 498.4212964385181, 1770.1673877064145, 433.6189727214292], \"Category\": [\"Default\", \"Default\", \"Default\", \"Default\", \"Default\", \"Default\", \"Default\", \"Default\", \"Default\", \"Default\", \"Default\", \"Default\", \"Default\", \"Default\", \"Default\", \"Default\", \"Default\", \"Default\", \"Default\", \"Default\", \"Default\", \"Default\", \"Default\", \"Default\", \"Default\", \"Default\", \"Default\", \"Default\", \"Default\", \"Default\", \"Topic1\", \"Topic1\", \"Topic1\", \"Topic1\", \"Topic1\", \"Topic1\", \"Topic1\", \"Topic1\", \"Topic1\", \"Topic1\", \"Topic1\", \"Topic1\", \"Topic1\", \"Topic1\", \"Topic1\", \"Topic1\", \"Topic1\", \"Topic1\", \"Topic1\", \"Topic1\", \"Topic1\", \"Topic1\", \"Topic1\", \"Topic1\", \"Topic1\", \"Topic1\", \"Topic1\", \"Topic1\", \"Topic1\", \"Topic1\", \"Topic1\", \"Topic1\", \"Topic1\", \"Topic1\", \"Topic1\", \"Topic1\", \"Topic1\", \"Topic1\", \"Topic1\", \"Topic1\", \"Topic1\", \"Topic1\", \"Topic1\", \"Topic1\", \"Topic1\", \"Topic2\", \"Topic2\", \"Topic2\", \"Topic2\", \"Topic2\", \"Topic2\", \"Topic2\", \"Topic2\", \"Topic2\", \"Topic2\", \"Topic2\", \"Topic2\", \"Topic2\", \"Topic2\", \"Topic2\", \"Topic2\", \"Topic2\", \"Topic2\", \"Topic2\", \"Topic2\", \"Topic2\", \"Topic2\", \"Topic2\", \"Topic2\", \"Topic2\", \"Topic2\", \"Topic2\", \"Topic2\", \"Topic2\", \"Topic2\", \"Topic2\", \"Topic2\", \"Topic2\", \"Topic2\", \"Topic2\", \"Topic2\", \"Topic2\", \"Topic2\", \"Topic2\", \"Topic2\", \"Topic2\", \"Topic2\", \"Topic2\", \"Topic2\", \"Topic2\", \"Topic2\", \"Topic2\", \"Topic2\", \"Topic2\", \"Topic3\", \"Topic3\", \"Topic3\", \"Topic3\", \"Topic3\", \"Topic3\", \"Topic3\", \"Topic3\", \"Topic3\", \"Topic3\", \"Topic3\", \"Topic3\", \"Topic3\", \"Topic3\", \"Topic3\", \"Topic3\", \"Topic3\", \"Topic3\", \"Topic3\", \"Topic3\", \"Topic3\", \"Topic3\", \"Topic3\", \"Topic3\", \"Topic3\", \"Topic3\", \"Topic3\", \"Topic3\", \"Topic3\", \"Topic3\", \"Topic3\", \"Topic3\", \"Topic3\", \"Topic3\", \"Topic3\", \"Topic3\", \"Topic3\", \"Topic3\", \"Topic3\", \"Topic3\", \"Topic3\", \"Topic3\", \"Topic3\", \"Topic3\", \"Topic3\", \"Topic3\", \"Topic3\", \"Topic3\", \"Topic3\", \"Topic3\"], \"logprob\": [30.0, 29.0, 28.0, 27.0, 26.0, 25.0, 24.0, 23.0, 22.0, 21.0, 20.0, 19.0, 18.0, 17.0, 16.0, 15.0, 14.0, 13.0, 12.0, 11.0, 10.0, 9.0, 8.0, 7.0, 6.0, 5.0, 4.0, 3.0, 2.0, 1.0, -3.219, -4.1454, -4.2139, -4.5745, -4.5119, -4.8006, -4.8072, -4.7561, -4.9024, -4.9355, -5.0423, -5.0976, -5.1698, -5.3327, -5.4327, -5.6675, -5.608, -5.745, -5.5053, -5.7957, -5.7963, -5.7778, -5.7183, -5.8738, -5.8033, -5.9706, -5.8357, -5.8597, -6.0406, -5.6527, -5.6377, -4.8415, -5.4293, -4.7327, -4.3313, -5.3463, -5.1454, -4.4439, -5.4372, -4.372, -5.2835, -5.1896, -4.202, -5.3481, -5.3644, -3.7634, -3.9557, -4.3069, -4.4989, -4.6274, -5.1516, -5.2123, -5.0776, -5.6027, -5.6225, -5.6952, -5.7399, -5.6641, -5.7354, -5.7619, -5.8348, -5.8972, -5.9263, -5.9343, -4.2038, -6.0715, -6.1491, -6.1875, -5.99, -6.2309, -6.1506, -6.2795, -6.2949, -6.4658, -6.4378, -6.3785, -6.4216, -6.163, -4.278, -4.2245, -5.9653, -3.6769, -5.6573, -5.3455, -5.4299, -5.824, -5.4181, -5.3565, -5.4203, -5.683, -5.6851, -5.776, -5.7678, -5.7737, -4.5688, -4.6697, -4.9522, -5.0489, -5.1333, -5.2009, -5.2357, -5.3004, -5.4131, -5.3849, -5.3365, -5.4795, -5.4684, -5.5209, -5.5891, -5.6231, -5.6396, -5.5249, -5.7869, -5.097, -5.9245, -5.9331, -5.8966, -5.9743, -6.0015, -6.0872, -6.136, -6.0635, -6.1119, -5.8177, -4.9097, -5.8834, -5.9815, -2.9282, -5.6231, -4.4692, -4.9155, -5.2651, -5.6982, -5.5524, -5.1465, -5.3678, -5.3001, -5.5778, -5.3631, -5.3519, -5.5216, -5.5221, -5.4112, -5.5443], \"loglift\": [30.0, 29.0, 28.0, 27.0, 26.0, 25.0, 24.0, 23.0, 22.0, 21.0, 20.0, 19.0, 18.0, 17.0, 16.0, 15.0, 14.0, 13.0, 12.0, 11.0, 10.0, 9.0, 8.0, 7.0, 6.0, 5.0, 4.0, 3.0, 2.0, 1.0, 1.1056, 1.1052, 1.1051, 1.1048, 1.1048, 1.1046, 1.1046, 1.1045, 1.1045, 1.1043, 1.1043, 1.104, 1.1038, 1.1033, 1.1033, 1.1029, 1.1027, 1.1025, 1.1025, 1.1025, 1.1024, 1.1023, 1.1022, 1.102, 1.102, 1.1019, 1.1018, 1.1015, 1.1014, 1.1012, 1.0977, 1.078, 1.0706, 0.9074, 0.7818, 0.9813, 0.9142, 0.5597, 0.9064, 0.2163, 0.6669, 0.5142, -0.7729, 0.5302, 0.1521, 1.2189, 1.2188, 1.2185, 1.2182, 1.2182, 1.2174, 1.2171, 1.217, 1.2162, 1.2161, 1.2159, 1.2158, 1.2158, 1.2157, 1.2155, 1.2154, 1.2149, 1.2146, 1.2146, 1.2144, 1.2139, 1.2139, 1.2138, 1.2135, 1.2132, 1.2131, 1.213, 1.2128, 1.2121, 1.212, 1.2115, 1.2119, 1.2023, 0.7618, 0.3638, 1.0719, -0.2478, 0.7865, 0.3185, 0.2102, 0.7588, 0.0984, -0.3529, -0.3805, 0.213, 0.0777, 0.2507, 0.1825, 0.1619, 0.9834, 0.9834, 0.983, 0.983, 0.9828, 0.9827, 0.9826, 0.9826, 0.9824, 0.9823, 0.9822, 0.9822, 0.9822, 0.9821, 0.9819, 0.9819, 0.9818, 0.9816, 0.9814, 0.9811, 0.9811, 0.981, 0.9808, 0.9808, 0.9806, 0.9802, 0.9802, 0.9802, 0.9801, 0.9801, 0.9753, 0.9595, 0.9674, 0.5009, 0.8831, 0.5706, 0.6146, 0.727, 0.8646, 0.7725, 0.4971, 0.4774, 0.3639, 0.6959, 0.294, -0.3121, 0.3743, 0.3337, -0.8228, 0.4507]}, \"token.table\": {\"Topic\": [2, 3, 2, 1, 2, 3, 1, 2, 3, 1, 2, 3, 2, 1, 1, 1, 2, 3, 3, 2, 2, 1, 2, 3, 2, 3, 2, 1, 2, 3, 1, 2, 3, 1, 1, 1, 2, 3, 2, 1, 1, 1, 1, 1, 3, 3, 1, 2, 1, 2, 1, 3, 2, 1, 2, 1, 3, 1, 2, 3, 1, 3, 1, 2, 3, 3, 1, 2, 3, 1, 2, 3, 3, 1, 3, 3, 1, 2, 2, 1, 2, 3, 3, 1, 3, 2, 1, 2, 3, 1, 3, 2, 1, 1, 3, 1, 3, 1, 1, 3, 3, 1, 2, 3, 1, 1, 2, 1, 2, 1, 3, 2, 2, 3, 3, 1, 1, 2, 3, 2, 1, 1, 2, 3, 3, 3, 1, 3, 1, 2, 3, 3, 3, 1, 2, 3, 2, 2, 3, 3, 2, 1, 1, 3, 2, 3, 1, 2, 1, 1, 2, 1, 2, 1, 2, 3, 1, 1, 2, 3, 1, 1, 2, 3, 2, 1, 2, 3, 3, 1, 2, 2, 1, 2, 3, 2, 1, 2, 2, 3, 1, 3, 2, 1, 2, 3, 3, 1, 2, 3, 3, 2, 2, 1, 2, 3, 2, 1, 2, 3, 2, 1, 2, 3], \"Freq\": [0.9970175297250213, 0.9994952684474226, 0.997155797400565, 0.5792832945858398, 0.20792590928265745, 0.21305988235136503, 0.5532900755535491, 0.13099702723386208, 0.3154270524183785, 0.02691355056029331, 0.06920627286932565, 0.9035263402384183, 0.9961475425652808, 0.9992119154921878, 0.9953272660802481, 0.30758649807094135, 0.19080231965897967, 0.5016785128964552, 0.996538676155178, 0.9970943738202878, 0.9976011455205701, 0.8202302899701736, 0.003267849760837345, 0.17973173684605398, 0.021535055146968088, 0.974461245400306, 0.9897338571358344, 0.7236611224140685, 0.08878691871307173, 0.18807551598360356, 0.3858710737313329, 0.32584668448423665, 0.2886887292360342, 0.9990395094118827, 0.9994116635542335, 0.17202206019089303, 0.21421615042639508, 0.6150600076636646, 0.997132445004226, 0.9984241105680959, 0.9959434090624997, 0.9990764417857455, 0.9963683161685262, 0.9943353598472148, 0.999728123570653, 0.9993510411728977, 0.9957401273341479, 0.9973691018423838, 0.9982522696153235, 0.9937027969735036, 0.008263767720203272, 0.9916521264243927, 0.9989012788746305, 0.9993766931351292, 0.9887952198502383, 0.18923442494698597, 0.8082555099430587, 0.9961861817654707, 0.01795904644798225, 0.9817612058230297, 0.9949542351095771, 0.004925516015393946, 0.08544445081704083, 0.02848148360568028, 0.8869947751483287, 0.9974260664844223, 0.28786321109763824, 0.36387203649982364, 0.3476999459887204, 0.13472496406199094, 0.17528731883334306, 0.6910086866405342, 0.9974428792819611, 0.9971548735965542, 0.9974484525717605, 0.9969644857419624, 0.36947516745245373, 0.6310137691322806, 0.9989439655421162, 0.15277357369645694, 0.2305782127367639, 0.6165884720301319, 0.994425933612261, 0.0025059506286384354, 0.9973683501980973, 0.9927114647537165, 0.5622529044547886, 0.18468161095230282, 0.25239820163481386, 0.9965617487642051, 0.9971046554506424, 0.9989092544066149, 0.9984229164226509, 0.9947491575105396, 0.997580849925449, 0.9982848430740041, 0.9938427101801218, 0.9958089096334942, 0.9998509100567617, 0.9992742488518073, 0.9976874442898197, 0.13664027302040269, 0.2022985860302066, 0.6610195025987013, 0.9979741439138422, 0.6439926893905558, 0.3550781609310941, 0.8265863700394422, 0.17466557224047738, 0.9994733309684223, 0.9965382601883581, 0.99433521714124, 0.9993862532693597, 0.9977496332615493, 0.9966682242114601, 0.9980953072670722, 0.48027071155062384, 0.34770730248008963, 0.17168048059954427, 0.9944670533230844, 0.9988485303966166, 0.2548045216114995, 0.22270316455808228, 0.5216470521180305, 0.9963086382026215, 0.9995616201413338, 0.9729376081411228, 0.02565989296196368, 0.8844341863658851, 0.1157804753060795, 0.9968826013467593, 0.9966332187845428, 0.9977486065105708, 0.006094484944672387, 0.24377939778689547, 0.7496216481947036, 0.998844151444673, 0.9992659245788512, 0.9946465564350903, 0.9995782267245202, 0.9978003125633609, 0.9954353108385128, 0.9913160454391656, 0.004835688026532515, 0.9958871387701836, 0.9977547694230186, 0.9951432819262418, 0.9988172476828416, 0.996472436275406, 0.9666723817697341, 0.03438755508271781, 0.005181062581009562, 0.9947640155538359, 0.09404722974314517, 0.632600705725118, 0.2732693090649878, 0.9948290702322908, 0.8198965286425712, 0.1795039737264801, 0.0016171529164547757, 0.993917425340853, 0.217584321017789, 0.31997694267321913, 0.4625952371218539, 0.9893957688492978, 0.32373810762408284, 0.3784879346487439, 0.2975534077427232, 0.9981672608020408, 0.3503948574213728, 0.6502172611942999, 0.9936905063903918, 0.3414611037463866, 0.057571930282821, 0.601527409506716, 0.9945566423088246, 0.018156735170450782, 0.9804636992043422, 0.9944713292359897, 0.9937650154557169, 0.22535756356783718, 0.772654503661156, 0.9990672627562602, 0.13375798488702445, 0.2790468305401717, 0.5857677269190381, 0.9961800413862498, 0.4106956240686173, 0.42481858225529606, 0.16439123329294036, 0.9932432880059917, 0.9962891796170825, 0.9920449541916343, 0.1307754708233718, 0.8631181074342538, 0.0065387735411685894, 0.9972680988546013, 0.05631342072086328, 0.40578788460622073, 0.538290051008252, 0.9937642899600849, 0.09190233897905027, 0.36552066639395, 0.5430592757852971], \"Term\": [\"action\", \"algorithm\", \"android\", \"api\", \"api\", \"api\", \"application\", \"application\", \"application\", \"architecture\", \"architecture\", \"architecture\", \"authentication\", \"aws\", \"azure\", \"based\", \"based\", \"based\", \"blockchain\", \"bot\", \"bugbounty\", \"build\", \"build\", \"build\", \"cache\", \"cache\", \"chat\", \"cli\", \"cli\", \"cli\", \"client\", \"client\", \"client\", \"cloud\", \"cluster\", \"code\", \"code\", \"code\", \"com\", \"command\", \"configuration\", \"container\", \"controller\", \"cross\", \"data\", \"database\", \"deployment\", \"detection\", \"devops\", \"discord\", \"distributed\", \"distributed\", \"dns\", \"docker\", \"domain\", \"engine\", \"engine\", \"environment\", \"ethereum\", \"ethereum\", \"event\", \"event\", \"example\", \"example\", \"example\", \"exporter\", \"file\", \"file\", \"file\", \"framework\", \"framework\", \"framework\", \"game\", \"gateway\", \"generic\", \"gin\", \"git\", \"git\", \"github\", \"golang\", \"golang\", \"golang\", \"gorm\", \"grpc\", \"grpc\", \"hacking\", \"hacktoberfest\", \"hacktoberfest\", \"hacktoberfest\", \"helm\", \"high\", \"http\", \"image\", \"infrastructure\", \"json\", \"k8s\", \"kafka\", \"kubectl\", \"kubernetes\", \"language\", \"learning\", \"library\", \"library\", \"library\", \"line\", \"linux\", \"linux\", \"management\", \"management\", \"manager\", \"metric\", \"middleware\", \"minerproxy\", \"monitoring\", \"mysql\", \"native\", \"network\", \"network\", \"network\", \"notification\", \"operator\", \"package\", \"package\", \"package\", \"parser\", \"performance\", \"platform\", \"platform\", \"plugin\", \"plugin\", \"postgresql\", \"programming\", \"prometheus\", \"protocol\", \"protocol\", \"protocol\", \"provider\", \"proxy\", \"query\", \"redis\", \"request\", \"resource\", \"rest\", \"rest\", \"reverse\", \"rpc\", \"run\", \"scanner\", \"sdk\", \"secret\", \"secret\", \"security\", \"security\", \"server\", \"server\", \"server\", \"serverless\", \"service\", \"service\", \"service\", \"shell\", \"simple\", \"simple\", \"simple\", \"slack\", \"source\", \"source\", \"source\", \"sql\", \"ssh\", \"ssh\", \"static\", \"system\", \"system\", \"system\", \"tcp\", \"team\", \"team\", \"telegram\", \"template\", \"terminal\", \"terminal\", \"terraform\", \"testing\", \"testing\", \"testing\", \"time\", \"tool\", \"tool\", \"tool\", \"tui\", \"tunnel\", \"url\", \"video\", \"video\", \"video\", \"vulnerability\", \"web\", \"web\", \"web\", \"websocket\", \"written\", \"written\", \"written\"]}, \"R\": 30, \"lambda.step\": 0.01, \"plot.opts\": {\"xlab\": \"PC1\", \"ylab\": \"PC2\"}, \"topic.order\": [1, 2, 3]};\n\nfunction LDAvis_load_lib(url, callback){\n  var s = document.createElement('script');\n  s.src = url;\n  s.async = true;\n  s.onreadystatechange = s.onload = callback;\n  s.onerror = function(){console.warn(\"failed to load library \" + url);};\n  document.getElementsByTagName(\"head\")[0].appendChild(s);\n}\n\nif(typeof(LDAvis) !== \"undefined\"){\n   // already loaded: just create the visualization\n   !function(LDAvis){\n       new LDAvis(\"#\" + \"ldavis_el97722131610238247708372852\", ldavis_el97722131610238247708372852_data);\n   }(LDAvis);\n}else if(typeof define === \"function\" && define.amd){\n   // require.js is available: use it to load d3/LDAvis\n   require.config({paths: {d3: \"https://d3js.org/d3.v5\"}});\n   require([\"d3\"], function(d3){\n      window.d3 = d3;\n      LDAvis_load_lib(\"https://cdn.jsdelivr.net/gh/bmabey/pyLDAvis@3.4.0/pyLDAvis/js/ldavis.v3.0.0.js\", function(){\n        new LDAvis(\"#\" + \"ldavis_el97722131610238247708372852\", ldavis_el97722131610238247708372852_data);\n      });\n    });\n}else{\n    // require.js not available: dynamically load d3 & LDAvis\n    LDAvis_load_lib(\"https://d3js.org/d3.v5.js\", function(){\n         LDAvis_load_lib(\"https://cdn.jsdelivr.net/gh/bmabey/pyLDAvis@3.4.0/pyLDAvis/js/ldavis.v3.0.0.js\", function(){\n                 new LDAvis(\"#\" + \"ldavis_el97722131610238247708372852\", ldavis_el97722131610238247708372852_data);\n            })\n         });\n}\n</script>"
     },
     "execution_count": 126,
     "metadata": {},
     "output_type": "execute_result"
    }
   ],
   "source": [
    "pyLDAvis.display(lda_display)"
   ],
   "metadata": {
    "collapsed": false,
    "ExecuteTime": {
     "end_time": "2024-03-30T22:54:51.323015Z",
     "start_time": "2024-03-30T22:54:51.312223Z"
    }
   },
   "id": "25dc3d5d9d3566bb",
   "execution_count": 126
  }
 ],
 "metadata": {
  "kernelspec": {
   "display_name": "Python 3",
   "language": "python",
   "name": "python3"
  },
  "language_info": {
   "codemirror_mode": {
    "name": "ipython",
    "version": 2
   },
   "file_extension": ".py",
   "mimetype": "text/x-python",
   "name": "python",
   "nbconvert_exporter": "python",
   "pygments_lexer": "ipython2",
   "version": "2.7.6"
  }
 },
 "nbformat": 4,
 "nbformat_minor": 5
}
