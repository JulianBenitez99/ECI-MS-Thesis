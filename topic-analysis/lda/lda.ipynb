{
 "cells": [
  {
   "cell_type": "code",
   "execution_count": 2,
   "id": "initial_id",
   "metadata": {
    "collapsed": true,
    "ExecuteTime": {
     "end_time": "2024-04-03T00:47:43.772252Z",
     "start_time": "2024-04-03T00:47:42.299834Z"
    }
   },
   "outputs": [],
   "source": [
    "import pandas as pd\n",
    "from IPython.core.interactiveshell import InteractiveShell\n",
    "InteractiveShell.ast_node_interactivity = \"all\" # see the value of multiple statements at once.\n",
    "pd.set_option('display.max_columns', None)\n",
    "pd.set_option('display.max_rows', None)\n"
   ]
  },
  {
   "cell_type": "markdown",
   "source": [
    "python -m spacy download en_core_web_sm"
   ],
   "metadata": {
    "collapsed": false
   },
   "id": "247e764f8f717bfd"
  },
  {
   "cell_type": "code",
   "outputs": [
    {
     "data": {
      "text/plain": "<spacy.lang.en.English at 0x12fcd0410>"
     },
     "execution_count": 3,
     "metadata": {},
     "output_type": "execute_result"
    }
   ],
   "source": [
    "import spacy\n",
    "spacy.load('en_core_web_sm')\n",
    "from spacy.lang.en import English\n",
    "parser = English()"
   ],
   "metadata": {
    "collapsed": false,
    "ExecuteTime": {
     "end_time": "2024-04-03T00:47:46.728877Z",
     "start_time": "2024-04-03T00:47:45.271810Z"
    }
   },
   "id": "a6da52321cbbfb7c",
   "execution_count": 3
  },
  {
   "cell_type": "code",
   "outputs": [
    {
     "data": {
      "text/plain": "                            name             owner  \\\n15857                       scql        secretflow   \n15858  mac-registration-provider            beeper   \n15859                   uringnet             y001j   \n15860       golang-url-shortener     Furkan-Gulsen   \n15861                       mass  massdriver-cloud   \n\n                                             description  \\\n15857  SCQL  (Secure Collaborative Query Language) is...   \n15858  A small service that generates iMessage regist...   \n15859  UringNet is a lightweight and high performance...   \n15860  This URL shortener service, built with Go and ...   \n15861                                     Massdriver CLI   \n\n                                                  topics  \\\n15857  [mpc-sql, secure-querying, collaborative-analy...   \n15858                                                 []   \n15859                                                 []   \n15860  [aws-serverless-architecture, go-hexagonal-arc...   \n15861                                                 []   \n\n                                                     url  \\\n15857                 https://github.com/secretflow/scql   \n15858  https://github.com/beeper/mac-registration-pro...   \n15859                  https://github.com/y001j/uringnet   \n15860  https://github.com/Furkan-Gulsen/golang-url-sh...   \n15861           https://github.com/massdriver-cloud/mass   \n\n                                           readme_base64  \n15857  IyBTQ1FMCgpbIVtDaXJjbGVDSV0oaHR0cHM6Ly9kbC5jaX...  \n15858  IyBtYWMtcmVnaXN0cmF0aW9uLXByb3ZpZGVyCkEgc21hbG...  \n15859  IyBVcmluZ05ldAoKWyFbR28gUmVwb3J0IENhcmRdKGh0dH...  \n15860  IyBHb2xhbmcgVVJMIFNob3J0ZW5lcgoKIVtDb3ZlciBpbW...  \n15861  IyBNYXNzIENMSQoKWyFbR2l0SHViIGxpY2Vuc2VdKGh0dH...  ",
      "text/html": "<div>\n<style scoped>\n    .dataframe tbody tr th:only-of-type {\n        vertical-align: middle;\n    }\n\n    .dataframe tbody tr th {\n        vertical-align: top;\n    }\n\n    .dataframe thead th {\n        text-align: right;\n    }\n</style>\n<table border=\"1\" class=\"dataframe\">\n  <thead>\n    <tr style=\"text-align: right;\">\n      <th></th>\n      <th>name</th>\n      <th>owner</th>\n      <th>description</th>\n      <th>topics</th>\n      <th>url</th>\n      <th>readme_base64</th>\n    </tr>\n  </thead>\n  <tbody>\n    <tr>\n      <th>15857</th>\n      <td>scql</td>\n      <td>secretflow</td>\n      <td>SCQL  (Secure Collaborative Query Language) is...</td>\n      <td>[mpc-sql, secure-querying, collaborative-analy...</td>\n      <td>https://github.com/secretflow/scql</td>\n      <td>IyBTQ1FMCgpbIVtDaXJjbGVDSV0oaHR0cHM6Ly9kbC5jaX...</td>\n    </tr>\n    <tr>\n      <th>15858</th>\n      <td>mac-registration-provider</td>\n      <td>beeper</td>\n      <td>A small service that generates iMessage regist...</td>\n      <td>[]</td>\n      <td>https://github.com/beeper/mac-registration-pro...</td>\n      <td>IyBtYWMtcmVnaXN0cmF0aW9uLXByb3ZpZGVyCkEgc21hbG...</td>\n    </tr>\n    <tr>\n      <th>15859</th>\n      <td>uringnet</td>\n      <td>y001j</td>\n      <td>UringNet is a lightweight and high performance...</td>\n      <td>[]</td>\n      <td>https://github.com/y001j/uringnet</td>\n      <td>IyBVcmluZ05ldAoKWyFbR28gUmVwb3J0IENhcmRdKGh0dH...</td>\n    </tr>\n    <tr>\n      <th>15860</th>\n      <td>golang-url-shortener</td>\n      <td>Furkan-Gulsen</td>\n      <td>This URL shortener service, built with Go and ...</td>\n      <td>[aws-serverless-architecture, go-hexagonal-arc...</td>\n      <td>https://github.com/Furkan-Gulsen/golang-url-sh...</td>\n      <td>IyBHb2xhbmcgVVJMIFNob3J0ZW5lcgoKIVtDb3ZlciBpbW...</td>\n    </tr>\n    <tr>\n      <th>15861</th>\n      <td>mass</td>\n      <td>massdriver-cloud</td>\n      <td>Massdriver CLI</td>\n      <td>[]</td>\n      <td>https://github.com/massdriver-cloud/mass</td>\n      <td>IyBNYXNzIENMSQoKWyFbR2l0SHViIGxpY2Vuc2VdKGh0dH...</td>\n    </tr>\n  </tbody>\n</table>\n</div>"
     },
     "execution_count": 8,
     "metadata": {},
     "output_type": "execute_result"
    }
   ],
   "source": [
    "df = pd.read_json('assets/output.json')\n",
    "df.tail()\n"
   ],
   "metadata": {
    "collapsed": false,
    "ExecuteTime": {
     "end_time": "2024-04-03T01:01:06.270158Z",
     "start_time": "2024-04-03T01:01:04.165400Z"
    }
   },
   "id": "e343e3bcdbb3f663",
   "execution_count": 8
  },
  {
   "cell_type": "code",
   "outputs": [
    {
     "name": "stdout",
     "output_type": "stream",
     "text": [
      "A command-line tool that makes git easier to use with GitHub.\n",
      "hub is a command line tool that wraps `git` in order to extend it with extra\n",
      "features and commands that make working with GitHub easier.\n",
      "\n",
      "For an official, potentially more user-friendly command-line interface to GitHub,\n",
      "see [cli.github.com](https://cli.github.com) and\n",
      "[this comparison](https://github.com/cli/cli/blob/trunk/docs/gh-vs-hub.md).\n",
      "\n",
      "This repository and its issue tracker is **not for reporting problems with\n",
      "GitHub.com** web interface. If you have a problem with GitHub itself, please\n",
      "[contact Support](https://github.com/contact).\n",
      "\n",
      "Usage\n",
      "-----\n",
      "\n",
      "``` sh\n",
      "$ hub clone rtomayko/tilt\n",
      "#=> git clone https://github.com/rtomayko/tilt.git\n",
      "\n",
      "# or, if you prefer the SSH protocol:\n",
      "$ git config --global hub.protocol ssh\n",
      "$ hub clone rtomayko/tilt\n",
      "#=> git clone git@github.com:rtomayko/tilt.git\n",
      "```\n",
      "\n",
      "See [usage examples](https://hub.github.com/#developer) or the [full reference\n",
      "documentation](https://hub.github.com/hub.1.html) to see all available commands\n",
      "and flags.\n",
      "\n",
      "hub can also be used to make shell scripts that [directly interact with the\n",
      "GitHub API](https://hub.github.com/#scripting).\n",
      "\n",
      "hub can be safely [aliased](#aliasing) as `git`, so you can type `$ git\n",
      "<command>` in the shell and have it expanded with `hub` features.\n",
      "\n",
      "Installation\n",
      "------------\n",
      "\n",
      "The `hub` executable has no dependencies, but since it was designed to wrap\n",
      "`git`, it's recommended to have at least **git 1.7.3** or newer.\n",
      "\n",
      "platform | manager | command to run\n",
      "---------|---------|---------------\n",
      "macOS, Linux | [Homebrew](https://docs.brew.sh/Installation) | `brew install hub`\n",
      "macOS, Linux | [Nix](https://nixos.org/) | `nix-env -i hub`\n",
      "Windows | [Scoop](http://scoop.sh/) | `scoop install hub`\n",
      "Windows | [Chocolatey](https://chocolatey.org/) | `choco install hub`\n",
      "Fedora Linux | [DNF](https://fedoraproject.org/wiki/DNF) | `sudo dnf install hub`\n",
      "Arch Linux | [pacman](https://wiki.archlinux.org/index.php/pacman) | `sudo pacman -S hub`\n",
      "FreeBSD | [pkg(8)](http://man.freebsd.org/pkg/8) | `pkg install hub`\n",
      "Debian, Ubuntu | [apt(8)](https://manpages.debian.org/buster/apt/apt.8.en.html) | `sudo apt install hub`\n",
      "Ubuntu | [Snap](https://snapcraft.io) | [We do not recommend installing the snap anymore.](https://github.com/github/hub/issues?q=is%3Aissue+snap)\n",
      "openSUSE | [Zypper](https://en.opensuse.org/SDB:Zypper_manual) | `sudo zypper install hub`\n",
      "Void Linux | [xbps](https://github.com/void-linux/xbps) | `sudo xbps-install -S hub`\n",
      "Gentoo | [Portage](https://wiki.gentoo.org/wiki/Portage) | `sudo emerge dev-vcs/hub`\n",
      "_any_ | [conda](https://docs.conda.io/en/latest/) | `conda install -c conda-forge hub`\n",
      "\n",
      "\n",
      "Packages other than Homebrew are community-maintained (thank you!) and they\n",
      "are not guaranteed to match the [latest hub release][latest]. Check `hub\n",
      "version` after installing a community package.\n",
      "\n",
      "#### Standalone\n",
      "\n",
      "`hub` can be easily installed as an executable. Download the [latest\n",
      "binary][latest] for your system and put it anywhere in your executable path.\n",
      "\n",
      "#### GitHub Actions\n",
      "\n",
      "hub is ready to be used in your [GitHub Actions][] workflows:\n",
      "```yaml\n",
      "steps:\n",
      "- uses: actions/checkout@v2\n",
      "\n",
      "- name: List open pull requests\n",
      "  run: hub pr list\n",
      "  env:\n",
      "    GITHUB_TOKEN: ${{ secrets.GITHUB_TOKEN }}\n",
      "```\n",
      "\n",
      "Note that the default `secrets.GITHUB_TOKEN` will only work for API operations\n",
      "scoped to the repository that runs this workflow. If you need to interact with other\n",
      "repositories, [generate a Personal Access Token][pat] with at least the `repo` scope\n",
      "and add it to your [repository secrets][].\n",
      "\n",
      "\n",
      "[github actions]: https://docs.github.com/en/actions/reference/workflow-syntax-for-github-actions\n",
      "[pat]: https://github.com/settings/tokens\n",
      "[repository secrets]: https://docs.github.com/en/actions/configuring-and-managing-workflows/creating-and-storing-encrypted-secrets\n",
      "\n",
      "#### Source\n",
      "\n",
      "Prerequisites for building from source are:\n",
      "\n",
      "* `make`\n",
      "* [Go 1.11+](https://golang.org/doc/install)\n",
      "\n",
      "Clone this repository and run `make install`:\n",
      "\n",
      "```sh\n",
      "git clone \\\n",
      "  --config transfer.fsckobjects=false \\\n",
      "  --config receive.fsckobjects=false \\\n",
      "  --config fetch.fsckobjects=false \\\n",
      "  https://github.com/github/hub.git\n",
      "\n",
      "cd hub\n",
      "make install prefix=/usr/local\n",
      "```\n",
      "\n",
      "Aliasing\n",
      "--------\n",
      "\n",
      "Some hub features feel best when it's aliased as `git`. This is not dangerous; your\n",
      "_normal git commands will all work_. hub merely adds some sugar.\n",
      "\n",
      "`hub alias` displays instructions for the current shell. With the `-s` flag, it\n",
      "outputs a script suitable for `eval`.\n",
      "\n",
      "You should place this command in your `.bash_profile` or other startup script:\n",
      "\n",
      "``` sh\n",
      "eval \"$(hub alias -s)\"\n",
      "```\n",
      "\n",
      "#### PowerShell\n",
      "\n",
      "If you're using PowerShell, you can set an alias for `hub` by placing the\n",
      "following in your PowerShell profile (usually\n",
      "`~/Documents/WindowsPowerShell/Microsoft.PowerShell_profile.ps1`):\n",
      "\n",
      "``` sh\n",
      "Set-Alias git hub\n",
      "```\n",
      "\n",
      "A simple way to do this is to run the following from the PowerShell prompt:\n",
      "\n",
      "``` sh\n",
      "Add-Content $PROFILE \"`nSet-Alias git hub\"\n",
      "```\n",
      "\n",
      "Note: You'll need to restart your PowerShell console in order for the changes to be picked up.\n",
      "\n",
      "If your PowerShell profile doesn't exist, you can create it by running the following:\n",
      "\n",
      "``` sh\n",
      "New-Item -Type file -Force $PROFILE\n",
      "```\n",
      "\n",
      "### Shell tab-completion\n",
      "\n",
      "hub repository contains [tab-completion scripts](./etc) for bash, zsh and fish.\n",
      "These scripts complement existing completion scripts that ship with git.\n",
      "\n",
      "Meta\n",
      "----\n",
      "\n",
      "* Bugs: <https://github.com/github/hub/issues>\n",
      "* Authors: <https://github.com/github/hub/contributors>\n",
      "* Our [Code of Conduct](https://github.com/github/hub/blob/master/CODE_OF_CONDUCT.md)\n",
      "\n",
      "\n",
      "[latest]: https://github.com/github/hub/releases/latest\n"
     ]
    }
   ],
   "source": [
    "from base64 import standard_b64decode\n",
    "#df['description'] = df['description'].apply(lambda x: standard_b64decode(x).decode('utf-8'))\n",
    "print(df['description'][0])\n",
    "print(standard_b64decode(df['readme_base64'][0]).decode('utf-8'))"
   ],
   "metadata": {
    "collapsed": false,
    "ExecuteTime": {
     "end_time": "2024-04-03T01:00:45.124037Z",
     "start_time": "2024-04-03T01:00:45.114464Z"
    }
   },
   "id": "3b5c5bc633bb11fc",
   "execution_count": 7
  },
  {
   "cell_type": "code",
   "outputs": [],
   "source": [
    "df['readme_base64'] = df['readme_base64'].apply(lambda x: standard_b64decode(x).decode('utf-8'))"
   ],
   "metadata": {
    "collapsed": false,
    "ExecuteTime": {
     "end_time": "2024-04-03T01:15:05.446709Z",
     "start_time": "2024-04-03T01:15:03.991472Z"
    }
   },
   "id": "f0ffb8e88f98fb08",
   "execution_count": 9
  },
  {
   "cell_type": "code",
   "outputs": [],
   "source": [
    "df['topics'] = df['topics'].apply(lambda x: ' '.join(x))"
   ],
   "metadata": {
    "collapsed": false,
    "ExecuteTime": {
     "end_time": "2024-04-03T01:15:34.020100Z",
     "start_time": "2024-04-03T01:15:33.983781Z"
    }
   },
   "id": "f014f6a014728039",
   "execution_count": 12
  },
  {
   "cell_type": "code",
   "outputs": [],
   "source": [
    "df['merged'] = df['description'] + ' ' + df['topics'] + ' ' + df['readme_base64']"
   ],
   "metadata": {
    "collapsed": false,
    "ExecuteTime": {
     "end_time": "2024-04-03T01:15:35.724907Z",
     "start_time": "2024-04-03T01:15:35.552421Z"
    }
   },
   "id": "5d46174e677851dc",
   "execution_count": 13
  },
  {
   "cell_type": "code",
   "outputs": [
    {
     "name": "stdout",
     "output_type": "stream",
     "text": [
      "['A command-line tool that makes git easier to use with GitHub. go homebrew git github-api pull-request hub is a command line tool that wraps `git` in order to extend it with extra\\nfeatures and commands that make working with GitHub easier.\\n\\nFor an official, potentially more user-friendly command-line interface to GitHub,\\nsee [cli.github.com](https://cli.github.com) and\\n[this comparison](https://github.com/cli/cli/blob/trunk/docs/gh-vs-hub.md).\\n\\nThis repository and its issue tracker is **not for reporting problems with\\nGitHub.com** web interface. If you have a problem with GitHub itself, please\\n[contact Support](https://github.com/contact).\\n\\nUsage\\n-----\\n\\n``` sh\\n$ hub clone rtomayko/tilt\\n#=> git clone https://github.com/rtomayko/tilt.git\\n\\n# or, if you prefer the SSH protocol:\\n$ git config --global hub.protocol ssh\\n$ hub clone rtomayko/tilt\\n#=> git clone git@github.com:rtomayko/tilt.git\\n```\\n\\nSee [usage examples](https://hub.github.com/#developer) or the [full reference\\ndocumentation](https://hub.github.com/hub.1.html) to see all available commands\\nand flags.\\n\\nhub can also be used to make shell scripts that [directly interact with the\\nGitHub API](https://hub.github.com/#scripting).\\n\\nhub can be safely [aliased](#aliasing) as `git`, so you can type `$ git\\n<command>` in the shell and have it expanded with `hub` features.\\n\\nInstallation\\n------------\\n\\nThe `hub` executable has no dependencies, but since it was designed to wrap\\n`git`, it\\'s recommended to have at least **git 1.7.3** or newer.\\n\\nplatform | manager | command to run\\n---------|---------|---------------\\nmacOS, Linux | [Homebrew](https://docs.brew.sh/Installation) | `brew install hub`\\nmacOS, Linux | [Nix](https://nixos.org/) | `nix-env -i hub`\\nWindows | [Scoop](http://scoop.sh/) | `scoop install hub`\\nWindows | [Chocolatey](https://chocolatey.org/) | `choco install hub`\\nFedora Linux | [DNF](https://fedoraproject.org/wiki/DNF) | `sudo dnf install hub`\\nArch Linux | [pacman](https://wiki.archlinux.org/index.php/pacman) | `sudo pacman -S hub`\\nFreeBSD | [pkg(8)](http://man.freebsd.org/pkg/8) | `pkg install hub`\\nDebian, Ubuntu | [apt(8)](https://manpages.debian.org/buster/apt/apt.8.en.html) | `sudo apt install hub`\\nUbuntu | [Snap](https://snapcraft.io) | [We do not recommend installing the snap anymore.](https://github.com/github/hub/issues?q=is%3Aissue+snap)\\nopenSUSE | [Zypper](https://en.opensuse.org/SDB:Zypper_manual) | `sudo zypper install hub`\\nVoid Linux | [xbps](https://github.com/void-linux/xbps) | `sudo xbps-install -S hub`\\nGentoo | [Portage](https://wiki.gentoo.org/wiki/Portage) | `sudo emerge dev-vcs/hub`\\n_any_ | [conda](https://docs.conda.io/en/latest/) | `conda install -c conda-forge hub`\\n\\n\\nPackages other than Homebrew are community-maintained (thank you!) and they\\nare not guaranteed to match the [latest hub release][latest]. Check `hub\\nversion` after installing a community package.\\n\\n#### Standalone\\n\\n`hub` can be easily installed as an executable. Download the [latest\\nbinary][latest] for your system and put it anywhere in your executable path.\\n\\n#### GitHub Actions\\n\\nhub is ready to be used in your [GitHub Actions][] workflows:\\n```yaml\\nsteps:\\n- uses: actions/checkout@v2\\n\\n- name: List open pull requests\\n  run: hub pr list\\n  env:\\n    GITHUB_TOKEN: ${{ secrets.GITHUB_TOKEN }}\\n```\\n\\nNote that the default `secrets.GITHUB_TOKEN` will only work for API operations\\nscoped to the repository that runs this workflow. If you need to interact with other\\nrepositories, [generate a Personal Access Token][pat] with at least the `repo` scope\\nand add it to your [repository secrets][].\\n\\n\\n[github actions]: https://docs.github.com/en/actions/reference/workflow-syntax-for-github-actions\\n[pat]: https://github.com/settings/tokens\\n[repository secrets]: https://docs.github.com/en/actions/configuring-and-managing-workflows/creating-and-storing-encrypted-secrets\\n\\n#### Source\\n\\nPrerequisites for building from source are:\\n\\n* `make`\\n* [Go 1.11+](https://golang.org/doc/install)\\n\\nClone this repository and run `make install`:\\n\\n```sh\\ngit clone \\\\\\n  --config transfer.fsckobjects=false \\\\\\n  --config receive.fsckobjects=false \\\\\\n  --config fetch.fsckobjects=false \\\\\\n  https://github.com/github/hub.git\\n\\ncd hub\\nmake install prefix=/usr/local\\n```\\n\\nAliasing\\n--------\\n\\nSome hub features feel best when it\\'s aliased as `git`. This is not dangerous; your\\n_normal git commands will all work_. hub merely adds some sugar.\\n\\n`hub alias` displays instructions for the current shell. With the `-s` flag, it\\noutputs a script suitable for `eval`.\\n\\nYou should place this command in your `.bash_profile` or other startup script:\\n\\n``` sh\\neval \"$(hub alias -s)\"\\n```\\n\\n#### PowerShell\\n\\nIf you\\'re using PowerShell, you can set an alias for `hub` by placing the\\nfollowing in your PowerShell profile (usually\\n`~/Documents/WindowsPowerShell/Microsoft.PowerShell_profile.ps1`):\\n\\n``` sh\\nSet-Alias git hub\\n```\\n\\nA simple way to do this is to run the following from the PowerShell prompt:\\n\\n``` sh\\nAdd-Content $PROFILE \"`nSet-Alias git hub\"\\n```\\n\\nNote: You\\'ll need to restart your PowerShell console in order for the changes to be picked up.\\n\\nIf your PowerShell profile doesn\\'t exist, you can create it by running the following:\\n\\n``` sh\\nNew-Item -Type file -Force $PROFILE\\n```\\n\\n### Shell tab-completion\\n\\nhub repository contains [tab-completion scripts](./etc) for bash, zsh and fish.\\nThese scripts complement existing completion scripts that ship with git.\\n\\nMeta\\n----\\n\\n* Bugs: <https://github.com/github/hub/issues>\\n* Authors: <https://github.com/github/hub/contributors>\\n* Our [Code of Conduct](https://github.com/github/hub/blob/master/CODE_OF_CONDUCT.md)\\n\\n\\n[latest]: https://github.com/github/hub/releases/latest\\n', 'Lantern官方版本下载 蓝灯 翻墙 代理 科学上网 外网 加速器 梯子 路由 - Быстрый, надежный и безопасный доступ к открытому интернету - lantern proxy vpn censorship-circumvention censorship gfw accelerator پراکسی لنترن، ضدسانسور، امن، قابل اعتماد و پرسرعت lantern vpn censorship circumvention gfw accelerator router # Lantern\\n[![en](resources/English.svg)](README.md)\\n[![zh](resources/Chinese.svg)](README.zh.md)\\n[![ru](resources/Russian.svg)](README.ru.md)\\n[![ar](resources/Arabic.svg)](README.ar.md)\\n[![fa](resources/Farsi.svg)](README.fa.md)\\n---\\nCensorship circumvention tool available for free download on any operating system\\n\\n![cover page](resources/cover_page.png)\\n\\n## Links\\n- [Website](https://lantern.io)\\n- [Frequently Asked Questions](https://lantern.io/faq)\\n- GitHub Discussions | [اَلْعَرَبِيَّةُ](https://github.com/getlantern/lantern-forum-uae/discussions) | [беларуская](https://github.com/getlantern/lantern-forum-belarus) | [English](https://github.com/getlantern/lantern-forum-en/discussions) | [فارسی](https://github.com/getlantern/lantern-forum-fa/discussions) | [русский](https://github.com/getlantern/lantern-forum-ru/discussions) | [українська](https://github.com/getlantern/lantern-forum-ukraine/discussions) | [中文](https://github.com/getlantern/lantern-forum-cn/discussions)\\n- Instagram | [اَلْعَرَبِيَّةُ](https://www.instagram.com/lanternio_uae/) | [беларуская](https://www.instagram.com/getlantern_belarus/) | [English](https://www.instagram.com/getlantern/) | [فارسی](https://www.instagram.com/getlantern_fa/) | [française](https://www.instagram.com/lanternio_guinea/) | [русский](https://www.instagram.com/lantern.io_ru) | [українська](https://www.instagram.com/getlantern_ua/) | [中文](https://www.instagram.com/lanternio_ch/)\\n- Telegram | [اَلْعَرَبِيَّةُ](https://t.me/lantern_uae) | [беларуская](https://t.me/lantern_belarus) | [@lantern_official_bot](https://t.me/lantern_official_bot) | [فارسی](https://t.me/LanternFarsi) | [française](https://t.me/LanternGuinea) | [русский](https://t.me/lantern_russia) | [українська](https://t.me/lanternukraine) | [中文](https://t.me/lantern_china)\\n- Telegram (beta testers) | [اَلْعَرَبِيَّةُ](https://t.me/&#43;cUgbK1eqrrE0MDQx) | [беларуская](https://t.me/&#43;bRTww4oDsrsxY2Mx) | [فارسی](https://t.me/lanternbetaIR) | [française](https://t.me/&#43;_G9WGtSTXvs3ZDQx) | [русский](https://t.me/&#43;pLVA7H6MU_Y2N2Vi) | [українська](https://t.me/&#43;c_K4oFhv7NMzZjlh) | [中文](https://t.me/&#43;n3SfwL0Ho7w1ODgz)\\n- Twitter | [اَلْعَرَبِيَّةُ](https://twitter.com/getlantern_UAE) | [беларуская](https://twitter.com/LanternBelarus) | [English](https://twitter.com/getlantern) | [فارسی](https://twitter.com/getlantern_fa) | [française](https://twitter.com/getlantern_gu) | [русский](https://twitter.com/Lantern_Russia) | [українська](https://twitter.com/LanternUA) | [中文](https://twitter.com/getlantern_CN)\\n\\n## Downloads\\n<table>\\n    <tr>\\n        <th></th>\\n        <th>Windows</th>\\n        <th>Android</th>\\n        <th>macOS</th>\\n        <th>iOS</th>\\n        <th>Linux (32-bit)</th>\\n        <th>Linux (64-bit)</th>\\n    </tr>\\n    <tr>\\n        <th>stable</th>\\n        <td>\\n            <a href=\"https://gitlab.com/getlantern/lantern-binaries-mirror/-/raw/master/lantern-installer.exe\">Windows 10&#43;</a> <br> \\n            <a href=\"https://github.com/getlantern/lantern-binaries/raw/main/lantern-installer.exe\">Windows 10&#43;</a> <br>\\n            <a href=\"https://s3.amazonaws.com/lantern/lantern-installer.exe\">Windows 10&#43;</a> <br>\\n            <a href=\"https://github.com/getlantern/lantern-binaries/raw/main/lantern-installer-win7.exe\">Windows 7</a>    \\n        </td>\\n        <td>\\n            <a href=\"https://gitlab.com/getlantern/lantern-binaries-mirror/-/raw/master/lantern-installer.apk\">Android 6&#43;</a> <br>\\n            <a href=\"https://s3.amazonaws.com/lantern/lantern-installer.apk\">Android 6&#43;</a> <br>\\n            <a href=\"https://github.com/getlantern/lantern-binaries/raw/main/lantern-installer.apk\">Android 6&#43;</a>\\n        </td>\\n        <td>\\n            <a href=\"https://gitlab.com/getlantern/lantern-binaries-mirror/-/raw/master/lantern-installer.dmg\">macOS 10.13&#43;</a> <br>\\n            <a href=\"https://github.com/getlantern/lantern-binaries/raw/main/lantern-installer.dmg\">macOS 10.13&#43;</a> <br>\\n            <a href=\"https://s3.amazonaws.com/lantern/lantern-installer.dmg\">macOS 10.13&#43;</a>\\n        </td>\\n        <td></td>\\n        <td>\\n            <a href=\"https://github.com/getlantern/lantern-binaries/raw/main/lantern-installer-32-bit.deb\">Ubuntu 14.04&#43; (32-bit)</a> <br>\\n            <a href=\"https://s3.amazonaws.com/lantern/lantern-installer-32-bit.deb\">Ubuntu 14.04&#43; (32-bit)</a>\\n        </td>\\n        <td>\\n            <a href=\"https://github.com/getlantern/lantern-binaries/raw/main/lantern-installer-64-bit.deb\">Ubuntu 14.04&#43; (64-bit)</a> <br>\\n            <a href=\"https://s3.amazonaws.com/lantern/lantern-installer-64-bit.deb\">Ubuntu 14.04&#43; (64-bit)</a>\\n        </td>\\n    </tr>\\n    <tr>\\n        <th>app store</th>\\n        <td></td>\\n        <td>\\n            <a href=\"https://play.google.com/store/apps/details?id=org.getlantern.lantern\">Android 6&#43;</a>\\n        </td>\\n        <td></td>\\n        <td>\\n            <a href=\"https://apps.apple.com/app/id1457872372?l\">iOS 11&#43;</a>\\n        </td>\\n        <td></td>\\n        <td></td>\\n    </tr>\\n    <tr>\\n        <th>beta</th>\\n        <td>\\n            <a href=\"https://github.com/getlantern/lantern-binaries/raw/main/lantern-installer-preview.exe\">Windows 10&#43;</a>\\n        </td>\\n        <td>\\n            <a href=\"https://github.com/getlantern/lantern-binaries/raw/main/lantern-installer-preview.apk\">Android 6&#43;</a>\\n        </td>\\n        <td>\\n            <a href=\"https://github.com/getlantern/lantern-binaries/raw/main/lantern-installer-preview.dmg\">macOS 10.13&#43;</a>\\n        </td>\\n        <td></td>\\n        <td>\\n            <a href=\"https://github.com/getlantern/lantern-binaries/raw/main/lantern-installer-preview-32-bit.deb\">Ubuntu 14.04&#43; (32-bit)</a>\\n        </td>\\n        <td>\\n            <a href=\"https://github.com/getlantern/lantern-binaries/raw/main/lantern-installer-preview-64-bit.deb\">Ubuntu 14.04&#43; (64-bit)</a>\\n        </td>\\n    </tr>\\n</table>\\n\\n- 📱 If the App Store is unavailable in your region, you may be able to follow [these steps](https://lantern.io/faq#use-2) to download Lantern.\\n- 🔗 For stable versions, multiple links exist for hosting redundancy and choice.\\n- 🚀 Try the early release &#34;beta&#34; version. While this may be unstable, feedback helps improve. Join our [forums](#links) to contribute.\\n\\n## Release Notes\\n### 7.8.1\\n- improved proxy selection\\n### 7.8.0\\n- implemented advanced automatic proxy selection\\n- added new protocols\\n### 7.7.2\\n- added new protocols\\n- bug fixes\\n\\n', \"unclutter your .profile direnv environment shell-extension bash zsh tcsh fish shell direnv -- unclutter your .profile\\n=================================\\n\\n[![Built with Nix](https://builtwithnix.org/badge.svg)](https://builtwithnix.org)\\n[![Packaging status](https://repology.org/badge/tiny-repos/direnv.svg)](https://repology.org/project/direnv/versions)\\n[![latest packaged version(s)](https://repology.org/badge/latest-versions/direnv.svg)](https://repology.org/project/direnv/versions)\\n[![Support room on Matrix](https://img.shields.io/matrix/direnv:numtide.com.svg?label=%23direnv%3Anumtide.com&logo=matrix&server_fqdn=matrix.numtide.com)](https://matrix.to/#/#direnv:numtide.com)\\n\\n`direnv` is an extension for your shell. It augments existing shells with a\\nnew feature that can load and unload environment variables depending on the\\ncurrent directory.\\n\\n## Use cases\\n\\n* Load [12factor apps](https://12factor.net/) environment variables\\n* Create per-project isolated development environments\\n* Load secrets for deployment\\n\\n## How it works\\n\\nBefore each prompt, direnv checks for the existence of a `.envrc` file (and\\n[optionally](man/direnv.toml.1.md#codeloaddotenvcode) a `.env` file) in the current\\nand parent directories. If the file exists (and is authorized), it is loaded\\ninto a **bash** sub-shell and all exported variables are then captured by\\ndirenv and then made available to the current shell.\\n\\nIt supports hooks for all the common shells like bash, zsh, tcsh and fish.\\nThis allows project-specific environment variables without cluttering the\\n`~/.profile` file.\\n\\nBecause direnv is compiled into a single static executable, it is fast enough\\nto be unnoticeable on each prompt. It is also language-agnostic and can be\\nused to build solutions similar to rbenv, pyenv and phpenv.\\n\\n## Getting Started\\n\\n### Prerequisites\\n\\n* Unix-like operating system (macOS, Linux, ...)\\n* A supported shell (bash, zsh, tcsh, fish, elvish, powershell, murex, nushell)\\n\\n### Basic Installation\\n\\n1. direnv is packaged in most distributions already. See [the installation documentation](docs/installation.md) for details.\\n2. [hook direnv into your shell](docs/hook.md).\\n\\nNow restart your shell.\\n\\n### Quick demo\\n\\nTo follow along in your shell once direnv is installed.\\n\\n```shell\\n# Create a new folder for demo purposes.\\n$ mkdir ~/my-project\\n$ cd ~/my-project\\n\\n# Show that the FOO environment variable is not loaded.\\n$ echo ${FOO-nope}\\nnope\\n\\n# Create a new .envrc. This file is bash code that is going to be loaded by\\n# direnv.\\n$ echo export FOO=foo > .envrc\\n.envrc is not allowed\\n\\n# The security mechanism didn't allow to load the .envrc. Since we trust it,\\n# let's allow its execution.\\n$ direnv allow .\\ndirenv: reloading\\ndirenv: loading .envrc\\ndirenv export: +FOO\\n\\n# Show that the FOO environment variable is loaded.\\n$ echo ${FOO-nope}\\nfoo\\n\\n# Exit the project\\n$ cd ..\\ndirenv: unloading\\n\\n# And now FOO is unset again\\n$ echo ${FOO-nope}\\nnope\\n```\\n\\n### The stdlib\\n\\nExporting variables by hand is a bit repetitive so direnv provides a set of\\nutility functions that are made available in the context of the `.envrc` file.\\n\\nAs an example, the `PATH_add` function is used to expand and prepend a path to\\nthe $PATH environment variable. Instead of `export PATH=$PWD/bin:$PATH` you\\ncan write `PATH_add bin`. It's shorter and avoids a common mistake where\\n`$PATH=bin`.\\n\\nTo find the documentation for all available functions check the\\n[direnv-stdlib(1) man page](man/direnv-stdlib.1.md).\\n\\nIt's also possible to create your own extensions by creating a bash file at\\n`~/.config/direnv/direnvrc` or `~/.config/direnv/lib/*.sh`. This file is\\nloaded before your `.envrc` and thus allows you to make your own extensions to\\ndirenv.\\n\\nNote that this functionality is not supported in `.env` files. If the\\ncoexistence of both is needed, one can use `.envrc` for leveraging stdlib and\\nappend `dotenv` at the end of it to instruct direnv to also read the `.env`\\nfile next.\\n\\n## Docs\\n\\n* [Install direnv](docs/installation.md)\\n* [Hook into your shell](docs/hook.md)\\n* [Develop for direnv](docs/development.md)\\n* [Manage your rubies with direnv and ruby-install](docs/ruby.md)\\n* [Community Wiki](https://github.com/direnv/direnv/wiki)\\n\\nMake sure to take a look at the wiki! It contains all sorts of useful\\ninformation such as common recipes, editor integration, tips-and-tricks.\\n\\n### Man pages\\n\\n* [direnv(1) man page](man/direnv.1.md)\\n* [direnv-fetchurl(1) man page](man/direnv-fetchurl.1.md)\\n* [direnv-stdlib(1) man page](man/direnv-stdlib.1.md)\\n* [direnv.toml(1) man page](man/direnv.toml.1.md)\\n\\n### FAQ\\n\\nBased on GitHub issues interactions, here are the top things that have been\\nconfusing for users:\\n\\n1. direnv has a standard library of functions, a collection of utilities that\\n   I found useful to have and accumulated over the years. You can find it\\n   here: https://github.com/direnv/direnv/blob/master/stdlib.sh\\n\\n2. It's possible to override the stdlib with your own set of function by\\n   adding a bash file to `~/.config/direnv/direnvrc`. This file is loaded and\\n   its content made available to any `.envrc` file.\\n\\n3. direnv is not loading the `.envrc` into the current shell. It's creating a\\n   new bash sub-process to load the stdlib, direnvrc and `.envrc`, and only\\n   exports the environment diff back to the original shell. This allows direnv\\n   to record the environment changes accurately and also work with all sorts\\n   of shells. It also means that aliases and functions are not exportable\\n   right now.\\n\\n## Contributing\\n\\nBug reports, contributions and forks are welcome. All bugs or other forms of\\ndiscussion happen on http://github.com/direnv/direnv/issues .\\n\\nOr drop by on [Matrix](https://matrix.to/#/#direnv:numtide.com) to\\nhave a chat. If you ask a question make sure to stay around as not everyone is\\nactive all day.\\n\\n### Testing\\n\\nTo run our tests, use these commands: (you may need to install [homebrew](https://brew.sh/))\\n\\n```\\nbrew bundle\\nmake test\\n```\\n\\n## Complementary projects\\n\\nHere is a list of projects you might want to look into if you are using direnv.\\n\\n* [starship](https://starship.rs/) - A cross-shell prompt.\\n* [Projects for Nix integration](https://github.com/direnv/direnv/wiki/Nix) - choose from one of a variety of projects offering improvements over Direnv's built-in `use_nix` implementation.\\n\\n## Related projects\\n\\nHere is a list of other projects found in the same design space. Feel free to\\nsubmit new ones.\\n\\n* [Environment Modules](http://modules.sourceforge.net/) - one of the oldest (in a good way) environment-loading systems\\n* [autoenv](https://github.com/hyperupcall/autoenv) - older, popular, and lightweight.\\n* [zsh-autoenv](https://github.com/Tarrasch/zsh-autoenv) - a feature-rich mixture of autoenv and [smartcd](https://github.com/cxreg/smartcd): enter/leave events, nesting, stashing (Zsh-only).\\n* [asdf](https://github.com/asdf-vm/asdf) - a pure bash solution that has a plugin system. The [asdf-direnv](https://github.com/asdf-community/asdf-direnv) plugin allows using asdf managed tools with direnv.\\n* [ondir](https://github.com/alecthomas/ondir) - OnDir is a small program to automate tasks specific to certain directories\\n* [shadowenv](https://shopify.github.io/shadowenv/) - uses an s-expression format to define environment changes that should be executed\\n* [quickenv](https://github.com/untitaker/quickenv) - an alternative loader for `.envrc` files that does not hook into your shell and favors speed over convenience.\\n\\n## Commercial support\\n\\nLooking for help or customization?\\n\\nGet in touch with Numtide to get a quote. We make it easy for companies to\\nwork with Open Source projects: <https://numtide.com/contact>\\n\\n## COPYRIGHT\\n\\n[MIT licence](LICENSE) - Copyright (C) 2019 @zimbatm and [contributors](https://github.com/direnv/direnv/graphs/contributors)\\n\"]\n"
     ]
    }
   ],
   "source": [
    "doc_set = df.values.T.tolist()[6]\n",
    "print(doc_set[0:3])\n",
    "# doc_set\n"
   ],
   "metadata": {
    "collapsed": false,
    "ExecuteTime": {
     "end_time": "2024-04-03T01:17:32.301685Z",
     "start_time": "2024-04-03T01:17:31.988710Z"
    }
   },
   "id": "b6f451f4ae1c29cc",
   "execution_count": 15
  },
  {
   "cell_type": "code",
   "outputs": [
    {
     "name": "stderr",
     "output_type": "stream",
     "text": [
      "[nltk_data] Downloading package wordnet to\n",
      "[nltk_data]     /Users/jbenitezg/nltk_data...\n",
      "[nltk_data]   Package wordnet is already up-to-date!\n"
     ]
    },
    {
     "data": {
      "text/plain": "True"
     },
     "execution_count": 16,
     "metadata": {},
     "output_type": "execute_result"
    },
    {
     "name": "stdout",
     "output_type": "stream",
     "text": [
      "Tokenized Docs:\n",
      "[['a', 'command', 'line', 'tool', 'that', 'makes', 'git', 'easier', 'to', 'use', 'with', 'github', 'go', 'homebrew', 'git', 'github', 'api', 'pull', 'request', 'hub', 'is', 'a', 'command', 'line', 'tool', 'that', 'wraps', 'git', 'in', 'order', 'to', 'extend', 'it', 'with', 'extra', 'features', 'and', 'commands', 'that', 'make', 'working', 'with', 'github', 'easier', 'for', 'an', 'official', 'potentially', 'more', 'user', 'friendly', 'command', 'line', 'interface', 'to', 'github', 'see', 'cli', 'github', 'com', 'https', 'cli', 'github', 'com', 'and', 'this', 'comparison', 'https', 'github', 'com', 'cli', 'cli', 'blob', 'trunk', 'docs', 'gh', 'vs', 'hub', 'md', 'this', 'repository', 'and', 'its', 'issue', 'tracker', 'is', 'not', 'for', 'reporting', 'problems', 'with', 'github', 'com', 'web', 'interface', 'if', 'you', 'have', 'a', 'problem', 'with', 'github', 'itself', 'please', 'contact', 'support', 'https', 'github', 'com', 'contact', 'usage', 'sh', 'hub', 'clone', 'rtomayko', 'tilt', 'git', 'clone', 'https', 'github', 'com', 'rtomayko', 'tilt', 'git', 'or', 'if', 'you', 'prefer', 'the', 'ssh', 'protocol', 'git', 'config', 'global', 'hub', 'protocol', 'ssh', 'hub', 'clone', 'rtomayko', 'tilt', 'git', 'clone', 'git', 'github', 'com', 'rtomayko', 'tilt', 'git', 'see', 'usage', 'examples', 'https', 'hub', 'github', 'com', 'developer', 'or', 'the', 'full', 'reference', 'documentation', 'https', 'hub', 'github', 'com', 'hub', '1', 'html', 'to', 'see', 'all', 'available', 'commands', 'and', 'flags', 'hub', 'can', 'also', 'be', 'used', 'to', 'make', 'shell', 'scripts', 'that', 'directly', 'interact', 'with', 'the', 'github', 'api', 'https', 'hub', 'github', 'com', 'scripting', 'hub', 'can', 'be', 'safely', 'aliased', 'aliasing', 'as', 'git', 'so', 'you', 'can', 'type', 'git', 'command', 'in', 'the', 'shell', 'and', 'have', 'it', 'expanded', 'with', 'hub', 'features', 'installation', 'the', 'hub', 'executable', 'has', 'no', 'dependencies', 'but', 'since', 'it', 'was', 'designed', 'to', 'wrap', 'git', 'it', 's', 'recommended', 'to', 'have', 'at', 'least', 'git', '1', '7', '3', 'or', 'newer', 'platform', 'manager', 'command', 'to', 'run', 'macos', 'linux', 'homebrew', 'https', 'docs', 'brew', 'sh', 'installation', 'brew', 'install', 'hub', 'macos', 'linux', 'nix', 'https', 'nixos', 'org', 'nix', 'env', 'i', 'hub', 'windows', 'scoop', 'http', 'scoop', 'sh', 'scoop', 'install', 'hub', 'windows', 'chocolatey', 'https', 'chocolatey', 'org', 'choco', 'install', 'hub', 'fedora', 'linux', 'dnf', 'https', 'fedoraproject', 'org', 'wiki', 'dnf', 'sudo', 'dnf', 'install', 'hub', 'arch', 'linux', 'pacman', 'https', 'wiki', 'archlinux', 'org', 'index', 'php', 'pacman', 'sudo', 'pacman', 's', 'hub', 'freebsd', 'pkg', '8', 'http', 'man', 'freebsd', 'org', 'pkg', '8', 'pkg', 'install', 'hub', 'debian', 'ubuntu', 'apt', '8', 'https', 'manpages', 'debian', 'org', 'buster', 'apt', 'apt', '8', 'en', 'html', 'sudo', 'apt', 'install', 'hub', 'ubuntu', 'snap', 'https', 'snapcraft', 'io', 'we', 'do', 'not', 'recommend', 'installing', 'the', 'snap', 'anymore', 'https', 'github', 'com', 'github', 'hub', 'issues', 'q', 'is', '3aissue', 'snap', 'opensuse', 'zypper', 'https', 'en', 'opensuse', 'org', 'sdb', 'zypper_manual', 'sudo', 'zypper', 'install', 'hub', 'void', 'linux', 'xbps', 'https', 'github', 'com', 'void', 'linux', 'xbps', 'sudo', 'xbps', 'install', 's', 'hub', 'gentoo', 'portage', 'https', 'wiki', 'gentoo', 'org', 'wiki', 'portage', 'sudo', 'emerge', 'dev', 'vcs', 'hub', '_any_', 'conda', 'https', 'docs', 'conda', 'io', 'en', 'latest', 'conda', 'install', 'c', 'conda', 'forge', 'hub', 'packages', 'other', 'than', 'homebrew', 'are', 'community', 'maintained', 'thank', 'you', 'and', 'they', 'are', 'not', 'guaranteed', 'to', 'match', 'the', 'latest', 'hub', 'release', 'latest', 'check', 'hub', 'version', 'after', 'installing', 'a', 'community', 'package', 'standalone', 'hub', 'can', 'be', 'easily', 'installed', 'as', 'an', 'executable', 'download', 'the', 'latest', 'binary', 'latest', 'for', 'your', 'system', 'and', 'put', 'it', 'anywhere', 'in', 'your', 'executable', 'path', 'github', 'actions', 'hub', 'is', 'ready', 'to', 'be', 'used', 'in', 'your', 'github', 'actions', 'workflows', 'yaml', 'steps', 'uses', 'actions', 'checkout', 'v2', 'name', 'list', 'open', 'pull', 'requests', 'run', 'hub', 'pr', 'list', 'env', 'github_token', 'secrets', 'github_token', 'note', 'that', 'the', 'default', 'secrets', 'github_token', 'will', 'only', 'work', 'for', 'api', 'operations', 'scoped', 'to', 'the', 'repository', 'that', 'runs', 'this', 'workflow', 'if', 'you', 'need', 'to', 'interact', 'with', 'other', 'repositories', 'generate', 'a', 'personal', 'access', 'token', 'pat', 'with', 'at', 'least', 'the', 'repo', 'scope', 'and', 'add', 'it', 'to', 'your', 'repository', 'secrets', 'github', 'actions', 'https', 'docs', 'github', 'com', 'en', 'actions', 'reference', 'workflow', 'syntax', 'for', 'github', 'actions', 'pat', 'https', 'github', 'com', 'settings', 'tokens', 'repository', 'secrets', 'https', 'docs', 'github', 'com', 'en', 'actions', 'configuring', 'and', 'managing', 'workflows', 'creating', 'and', 'storing', 'encrypted', 'secrets', 'source', 'prerequisites', 'for', 'building', 'from', 'source', 'are', 'make', 'go', '1', '11', 'https', 'golang', 'org', 'doc', 'install', 'clone', 'this', 'repository', 'and', 'run', 'make', 'install', 'sh', 'git', 'clone', 'config', 'transfer', 'fsckobjects', 'false', 'config', 'receive', 'fsckobjects', 'false', 'config', 'fetch', 'fsckobjects', 'false', 'https', 'github', 'com', 'github', 'hub', 'git', 'cd', 'hub', 'make', 'install', 'prefix', 'usr', 'local', 'aliasing', 'some', 'hub', 'features', 'feel', 'best', 'when', 'it', 's', 'aliased', 'as', 'git', 'this', 'is', 'not', 'dangerous', 'your', '_normal', 'git', 'commands', 'will', 'all', 'work_', 'hub', 'merely', 'adds', 'some', 'sugar', 'hub', 'alias', 'displays', 'instructions', 'for', 'the', 'current', 'shell', 'with', 'the', 's', 'flag', 'it', 'outputs', 'a', 'script', 'suitable', 'for', 'eval', 'you', 'should', 'place', 'this', 'command', 'in', 'your', 'bash_profile', 'or', 'other', 'startup', 'script', 'sh', 'eval', 'hub', 'alias', 's', 'powershell', 'if', 'you', 're', 'using', 'powershell', 'you', 'can', 'set', 'an', 'alias', 'for', 'hub', 'by', 'placing', 'the', 'following', 'in', 'your', 'powershell', 'profile', 'usually', 'documents', 'windowspowershell', 'microsoft', 'powershell_profile', 'ps1', 'sh', 'set', 'alias', 'git', 'hub', 'a', 'simple', 'way', 'to', 'do', 'this', 'is', 'to', 'run', 'the', 'following', 'from', 'the', 'powershell', 'prompt', 'sh', 'add', 'content', 'profile', 'nset', 'alias', 'git', 'hub', 'note', 'you', 'll', 'need', 'to', 'restart', 'your', 'powershell', 'console', 'in', 'order', 'for', 'the', 'changes', 'to', 'be', 'picked', 'up', 'if', 'your', 'powershell', 'profile', 'doesn', 't', 'exist', 'you', 'can', 'create', 'it', 'by', 'running', 'the', 'following', 'sh', 'new', 'item', 'type', 'file', 'force', 'profile', 'shell', 'tab', 'completion', 'hub', 'repository', 'contains', 'tab', 'completion', 'scripts', 'etc', 'for', 'bash', 'zsh', 'and', 'fish', 'these', 'scripts', 'complement', 'existing', 'completion', 'scripts', 'that', 'ship', 'with', 'git', 'meta', 'bugs', 'https', 'github', 'com', 'github', 'hub', 'issues', 'authors', 'https', 'github', 'com', 'github', 'hub', 'contributors', 'our', 'code', 'of', 'conduct', 'https', 'github', 'com', 'github', 'hub', 'blob', 'master', 'code_of_conduct', 'md', 'latest', 'https', 'github', 'com', 'github', 'hub', 'releases', 'latest'], ['lantern官方版本下载', '蓝灯', '翻墙', '代理', '科学上网', '外网', '加速器', '梯子', '路由', 'быстрый', 'надежный', 'и', 'безопасный', 'доступ', 'к', 'открытому', 'интернету', 'lantern', 'proxy', 'vpn', 'censorship', 'circumvention', 'censorship', 'gfw', 'accelerator', 'پراکسی', 'لنترن', 'ضدسانسور', 'امن', 'قابل', 'اعتماد', 'و', 'پرسرعت', 'lantern', 'vpn', 'censorship', 'circumvention', 'gfw', 'accelerator', 'router', 'lantern', 'en', 'resources', 'english', 'svg', 'readme', 'md', 'zh', 'resources', 'chinese', 'svg', 'readme', 'zh', 'md', 'ru', 'resources', 'russian', 'svg', 'readme', 'ru', 'md', 'ar', 'resources', 'arabic', 'svg', 'readme', 'ar', 'md', 'fa', 'resources', 'farsi', 'svg', 'readme', 'fa', 'md', 'censorship', 'circumvention', 'tool', 'available', 'for', 'free', 'download', 'on', 'any', 'operating', 'system', 'cover', 'page', 'resources', 'cover_page', 'png', 'links', 'website', 'https', 'lantern', 'io', 'frequently', 'asked', 'questions', 'https', 'lantern', 'io', 'faq', 'github', 'discussions', 'ا', 'ل', 'ع', 'ر', 'ب', 'ي', 'ة', 'https', 'github', 'com', 'getlantern', 'lantern', 'forum', 'uae', 'discussions', 'беларуская', 'https', 'github', 'com', 'getlantern', 'lantern', 'forum', 'belarus', 'english', 'https', 'github', 'com', 'getlantern', 'lantern', 'forum', 'en', 'discussions', 'فارسی', 'https', 'github', 'com', 'getlantern', 'lantern', 'forum', 'fa', 'discussions', 'русский', 'https', 'github', 'com', 'getlantern', 'lantern', 'forum', 'ru', 'discussions', 'українська', 'https', 'github', 'com', 'getlantern', 'lantern', 'forum', 'ukraine', 'discussions', '中文', 'https', 'github', 'com', 'getlantern', 'lantern', 'forum', 'cn', 'discussions', 'instagram', 'ا', 'ل', 'ع', 'ر', 'ب', 'ي', 'ة', 'https', 'www', 'instagram', 'com', 'lanternio_uae', 'беларуская', 'https', 'www', 'instagram', 'com', 'getlantern_belarus', 'english', 'https', 'www', 'instagram', 'com', 'getlantern', 'فارسی', 'https', 'www', 'instagram', 'com', 'getlantern_fa', 'française', 'https', 'www', 'instagram', 'com', 'lanternio_guinea', 'русский', 'https', 'www', 'instagram', 'com', 'lantern', 'io_ru', 'українська', 'https', 'www', 'instagram', 'com', 'getlantern_ua', '中文', 'https', 'www', 'instagram', 'com', 'lanternio_ch', 'telegram', 'ا', 'ل', 'ع', 'ر', 'ب', 'ي', 'ة', 'https', 't', 'me', 'lantern_uae', 'беларуская', 'https', 't', 'me', 'lantern_belarus', 'lantern_official_bot', 'https', 't', 'me', 'lantern_official_bot', 'فارسی', 'https', 't', 'me', 'lanternfarsi', 'française', 'https', 't', 'me', 'lanternguinea', 'русский', 'https', 't', 'me', 'lantern_russia', 'українська', 'https', 't', 'me', 'lanternukraine', '中文', 'https', 't', 'me', 'lantern_china', 'telegram', 'beta', 'testers', 'ا', 'ل', 'ع', 'ر', 'ب', 'ي', 'ة', 'https', 't', 'me', '43', 'cugbk1eqrre0mdqx', 'беларуская', 'https', 't', 'me', '43', 'brtww4odsrsxy2mx', 'فارسی', 'https', 't', 'me', 'lanternbetair', 'française', 'https', 't', 'me', '43', '_g9wgtstxvs3zdqx', 'русский', 'https', 't', 'me', '43', 'plva7h6mu_y2n2vi', 'українська', 'https', 't', 'me', '43', 'c_k4ofhv7nmzzjlh', '中文', 'https', 't', 'me', '43', 'n3sfwl0ho7w1odgz', 'twitter', 'ا', 'ل', 'ع', 'ر', 'ب', 'ي', 'ة', 'https', 'twitter', 'com', 'getlantern_uae', 'беларуская', 'https', 'twitter', 'com', 'lanternbelarus', 'english', 'https', 'twitter', 'com', 'getlantern', 'فارسی', 'https', 'twitter', 'com', 'getlantern_fa', 'française', 'https', 'twitter', 'com', 'getlantern_gu', 'русский', 'https', 'twitter', 'com', 'lantern_russia', 'українська', 'https', 'twitter', 'com', 'lanternua', '中文', 'https', 'twitter', 'com', 'getlantern_cn', 'downloads', 'table', 'tr', 'th', 'th', 'th', 'windows', 'th', 'th', 'android', 'th', 'th', 'macos', 'th', 'th', 'ios', 'th', 'th', 'linux', '32', 'bit', 'th', 'th', 'linux', '64', 'bit', 'th', 'tr', 'tr', 'th', 'stable', 'th', 'td', 'a', 'href', 'https', 'gitlab', 'com', 'getlantern', 'lantern', 'binaries', 'mirror', 'raw', 'master', 'lantern', 'installer', 'exe', 'windows', '10', '43', 'a', 'br', 'a', 'href', 'https', 'github', 'com', 'getlantern', 'lantern', 'binaries', 'raw', 'main', 'lantern', 'installer', 'exe', 'windows', '10', '43', 'a', 'br', 'a', 'href', 'https', 's3', 'amazonaws', 'com', 'lantern', 'lantern', 'installer', 'exe', 'windows', '10', '43', 'a', 'br', 'a', 'href', 'https', 'github', 'com', 'getlantern', 'lantern', 'binaries', 'raw', 'main', 'lantern', 'installer', 'win7', 'exe', 'windows', '7', 'a', 'td', 'td', 'a', 'href', 'https', 'gitlab', 'com', 'getlantern', 'lantern', 'binaries', 'mirror', 'raw', 'master', 'lantern', 'installer', 'apk', 'android', '6', '43', 'a', 'br', 'a', 'href', 'https', 's3', 'amazonaws', 'com', 'lantern', 'lantern', 'installer', 'apk', 'android', '6', '43', 'a', 'br', 'a', 'href', 'https', 'github', 'com', 'getlantern', 'lantern', 'binaries', 'raw', 'main', 'lantern', 'installer', 'apk', 'android', '6', '43', 'a', 'td', 'td', 'a', 'href', 'https', 'gitlab', 'com', 'getlantern', 'lantern', 'binaries', 'mirror', 'raw', 'master', 'lantern', 'installer', 'dmg', 'macos', '10', '13', '43', 'a', 'br', 'a', 'href', 'https', 'github', 'com', 'getlantern', 'lantern', 'binaries', 'raw', 'main', 'lantern', 'installer', 'dmg', 'macos', '10', '13', '43', 'a', 'br', 'a', 'href', 'https', 's3', 'amazonaws', 'com', 'lantern', 'lantern', 'installer', 'dmg', 'macos', '10', '13', '43', 'a', 'td', 'td', 'td', 'td', 'a', 'href', 'https', 'github', 'com', 'getlantern', 'lantern', 'binaries', 'raw', 'main', 'lantern', 'installer', '32', 'bit', 'deb', 'ubuntu', '14', '04', '43', '32', 'bit', 'a', 'br', 'a', 'href', 'https', 's3', 'amazonaws', 'com', 'lantern', 'lantern', 'installer', '32', 'bit', 'deb', 'ubuntu', '14', '04', '43', '32', 'bit', 'a', 'td', 'td', 'a', 'href', 'https', 'github', 'com', 'getlantern', 'lantern', 'binaries', 'raw', 'main', 'lantern', 'installer', '64', 'bit', 'deb', 'ubuntu', '14', '04', '43', '64', 'bit', 'a', 'br', 'a', 'href', 'https', 's3', 'amazonaws', 'com', 'lantern', 'lantern', 'installer', '64', 'bit', 'deb', 'ubuntu', '14', '04', '43', '64', 'bit', 'a', 'td', 'tr', 'tr', 'th', 'app', 'store', 'th', 'td', 'td', 'td', 'a', 'href', 'https', 'play', 'google', 'com', 'store', 'apps', 'details', 'id', 'org', 'getlantern', 'lantern', 'android', '6', '43', 'a', 'td', 'td', 'td', 'td', 'a', 'href', 'https', 'apps', 'apple', 'com', 'app', 'id1457872372', 'l', 'ios', '11', '43', 'a', 'td', 'td', 'td', 'td', 'td', 'tr', 'tr', 'th', 'beta', 'th', 'td', 'a', 'href', 'https', 'github', 'com', 'getlantern', 'lantern', 'binaries', 'raw', 'main', 'lantern', 'installer', 'preview', 'exe', 'windows', '10', '43', 'a', 'td', 'td', 'a', 'href', 'https', 'github', 'com', 'getlantern', 'lantern', 'binaries', 'raw', 'main', 'lantern', 'installer', 'preview', 'apk', 'android', '6', '43', 'a', 'td', 'td', 'a', 'href', 'https', 'github', 'com', 'getlantern', 'lantern', 'binaries', 'raw', 'main', 'lantern', 'installer', 'preview', 'dmg', 'macos', '10', '13', '43', 'a', 'td', 'td', 'td', 'td', 'a', 'href', 'https', 'github', 'com', 'getlantern', 'lantern', 'binaries', 'raw', 'main', 'lantern', 'installer', 'preview', '32', 'bit', 'deb', 'ubuntu', '14', '04', '43', '32', 'bit', 'a', 'td', 'td', 'a', 'href', 'https', 'github', 'com', 'getlantern', 'lantern', 'binaries', 'raw', 'main', 'lantern', 'installer', 'preview', '64', 'bit', 'deb', 'ubuntu', '14', '04', '43', '64', 'bit', 'a', 'td', 'tr', 'table', 'if', 'the', 'app', 'store', 'is', 'unavailable', 'in', 'your', 'region', 'you', 'may', 'be', 'able', 'to', 'follow', 'these', 'steps', 'https', 'lantern', 'io', 'faq', 'use', '2', 'to', 'download', 'lantern', 'for', 'stable', 'versions', 'multiple', 'links', 'exist', 'for', 'hosting', 'redundancy', 'and', 'choice', 'try', 'the', 'early', 'release', '34', 'beta', '34', 'version', 'while', 'this', 'may', 'be', 'unstable', 'feedback', 'helps', 'improve', 'join', 'our', 'forums', 'links', 'to', 'contribute', 'release', 'notes', '7', '8', '1', 'improved', 'proxy', 'selection', '7', '8', '0', 'implemented', 'advanced', 'automatic', 'proxy', 'selection', 'added', 'new', 'protocols', '7', '7', '2', 'added', 'new', 'protocols', 'bug', 'fixes'], ['unclutter', 'your', 'profile', 'direnv', 'environment', 'shell', 'extension', 'bash', 'zsh', 'tcsh', 'fish', 'shell', 'direnv', 'unclutter', 'your', 'profile', 'built', 'with', 'nix', 'https', 'builtwithnix', 'org', 'badge', 'svg', 'https', 'builtwithnix', 'org', 'packaging', 'status', 'https', 'repology', 'org', 'badge', 'tiny', 'repos', 'direnv', 'svg', 'https', 'repology', 'org', 'project', 'direnv', 'versions', 'latest', 'packaged', 'version', 's', 'https', 'repology', 'org', 'badge', 'latest', 'versions', 'direnv', 'svg', 'https', 'repology', 'org', 'project', 'direnv', 'versions', 'support', 'room', 'on', 'matrix', 'https', 'img', 'shields', 'io', 'matrix', 'direnv', 'numtide', 'com', 'svg', 'label', '23direnv', '3anumtide', 'com', 'logo', 'matrix', 'server_fqdn', 'matrix', 'numtide', 'com', 'https', 'matrix', 'to', 'direnv', 'numtide', 'com', 'direnv', 'is', 'an', 'extension', 'for', 'your', 'shell', 'it', 'augments', 'existing', 'shells', 'with', 'a', 'new', 'feature', 'that', 'can', 'load', 'and', 'unload', 'environment', 'variables', 'depending', 'on', 'the', 'current', 'directory', 'use', 'cases', 'load', '12factor', 'apps', 'https', '12factor', 'net', 'environment', 'variables', 'create', 'per', 'project', 'isolated', 'development', 'environments', 'load', 'secrets', 'for', 'deployment', 'how', 'it', 'works', 'before', 'each', 'prompt', 'direnv', 'checks', 'for', 'the', 'existence', 'of', 'a', 'envrc', 'file', 'and', 'optionally', 'man', 'direnv', 'toml', '1', 'md', 'codeloaddotenvcode', 'a', 'env', 'file', 'in', 'the', 'current', 'and', 'parent', 'directories', 'if', 'the', 'file', 'exists', 'and', 'is', 'authorized', 'it', 'is', 'loaded', 'into', 'a', 'bash', 'sub', 'shell', 'and', 'all', 'exported', 'variables', 'are', 'then', 'captured', 'by', 'direnv', 'and', 'then', 'made', 'available', 'to', 'the', 'current', 'shell', 'it', 'supports', 'hooks', 'for', 'all', 'the', 'common', 'shells', 'like', 'bash', 'zsh', 'tcsh', 'and', 'fish', 'this', 'allows', 'project', 'specific', 'environment', 'variables', 'without', 'cluttering', 'the', 'profile', 'file', 'because', 'direnv', 'is', 'compiled', 'into', 'a', 'single', 'static', 'executable', 'it', 'is', 'fast', 'enough', 'to', 'be', 'unnoticeable', 'on', 'each', 'prompt', 'it', 'is', 'also', 'language', 'agnostic', 'and', 'can', 'be', 'used', 'to', 'build', 'solutions', 'similar', 'to', 'rbenv', 'pyenv', 'and', 'phpenv', 'getting', 'started', 'prerequisites', 'unix', 'like', 'operating', 'system', 'macos', 'linux', 'a', 'supported', 'shell', 'bash', 'zsh', 'tcsh', 'fish', 'elvish', 'powershell', 'murex', 'nushell', 'basic', 'installation', '1', 'direnv', 'is', 'packaged', 'in', 'most', 'distributions', 'already', 'see', 'the', 'installation', 'documentation', 'docs', 'installation', 'md', 'for', 'details', '2', 'hook', 'direnv', 'into', 'your', 'shell', 'docs', 'hook', 'md', 'now', 'restart', 'your', 'shell', 'quick', 'demo', 'to', 'follow', 'along', 'in', 'your', 'shell', 'once', 'direnv', 'is', 'installed', 'shell', 'create', 'a', 'new', 'folder', 'for', 'demo', 'purposes', 'mkdir', 'my', 'project', 'cd', 'my', 'project', 'show', 'that', 'the', 'foo', 'environment', 'variable', 'is', 'not', 'loaded', 'echo', 'foo', 'nope', 'nope', 'create', 'a', 'new', 'envrc', 'this', 'file', 'is', 'bash', 'code', 'that', 'is', 'going', 'to', 'be', 'loaded', 'by', 'direnv', 'echo', 'export', 'foo', 'foo', 'envrc', 'envrc', 'is', 'not', 'allowed', 'the', 'security', 'mechanism', 'didn', 't', 'allow', 'to', 'load', 'the', 'envrc', 'since', 'we', 'trust', 'it', 'let', 's', 'allow', 'its', 'execution', 'direnv', 'allow', 'direnv', 'reloading', 'direnv', 'loading', 'envrc', 'direnv', 'export', 'foo', 'show', 'that', 'the', 'foo', 'environment', 'variable', 'is', 'loaded', 'echo', 'foo', 'nope', 'foo', 'exit', 'the', 'project', 'cd', 'direnv', 'unloading', 'and', 'now', 'foo', 'is', 'unset', 'again', 'echo', 'foo', 'nope', 'nope', 'the', 'stdlib', 'exporting', 'variables', 'by', 'hand', 'is', 'a', 'bit', 'repetitive', 'so', 'direnv', 'provides', 'a', 'set', 'of', 'utility', 'functions', 'that', 'are', 'made', 'available', 'in', 'the', 'context', 'of', 'the', 'envrc', 'file', 'as', 'an', 'example', 'the', 'path_add', 'function', 'is', 'used', 'to', 'expand', 'and', 'prepend', 'a', 'path', 'to', 'the', 'path', 'environment', 'variable', 'instead', 'of', 'export', 'path', 'pwd', 'bin', 'path', 'you', 'can', 'write', 'path_add', 'bin', 'it', 's', 'shorter', 'and', 'avoids', 'a', 'common', 'mistake', 'where', 'path', 'bin', 'to', 'find', 'the', 'documentation', 'for', 'all', 'available', 'functions', 'check', 'the', 'direnv', 'stdlib', '1', 'man', 'page', 'man', 'direnv', 'stdlib', '1', 'md', 'it', 's', 'also', 'possible', 'to', 'create', 'your', 'own', 'extensions', 'by', 'creating', 'a', 'bash', 'file', 'at', 'config', 'direnv', 'direnvrc', 'or', 'config', 'direnv', 'lib', 'sh', 'this', 'file', 'is', 'loaded', 'before', 'your', 'envrc', 'and', 'thus', 'allows', 'you', 'to', 'make', 'your', 'own', 'extensions', 'to', 'direnv', 'note', 'that', 'this', 'functionality', 'is', 'not', 'supported', 'in', 'env', 'files', 'if', 'the', 'coexistence', 'of', 'both', 'is', 'needed', 'one', 'can', 'use', 'envrc', 'for', 'leveraging', 'stdlib', 'and', 'append', 'dotenv', 'at', 'the', 'end', 'of', 'it', 'to', 'instruct', 'direnv', 'to', 'also', 'read', 'the', 'env', 'file', 'next', 'docs', 'install', 'direnv', 'docs', 'installation', 'md', 'hook', 'into', 'your', 'shell', 'docs', 'hook', 'md', 'develop', 'for', 'direnv', 'docs', 'development', 'md', 'manage', 'your', 'rubies', 'with', 'direnv', 'and', 'ruby', 'install', 'docs', 'ruby', 'md', 'community', 'wiki', 'https', 'github', 'com', 'direnv', 'direnv', 'wiki', 'make', 'sure', 'to', 'take', 'a', 'look', 'at', 'the', 'wiki', 'it', 'contains', 'all', 'sorts', 'of', 'useful', 'information', 'such', 'as', 'common', 'recipes', 'editor', 'integration', 'tips', 'and', 'tricks', 'man', 'pages', 'direnv', '1', 'man', 'page', 'man', 'direnv', '1', 'md', 'direnv', 'fetchurl', '1', 'man', 'page', 'man', 'direnv', 'fetchurl', '1', 'md', 'direnv', 'stdlib', '1', 'man', 'page', 'man', 'direnv', 'stdlib', '1', 'md', 'direnv', 'toml', '1', 'man', 'page', 'man', 'direnv', 'toml', '1', 'md', 'faq', 'based', 'on', 'github', 'issues', 'interactions', 'here', 'are', 'the', 'top', 'things', 'that', 'have', 'been', 'confusing', 'for', 'users', '1', 'direnv', 'has', 'a', 'standard', 'library', 'of', 'functions', 'a', 'collection', 'of', 'utilities', 'that', 'i', 'found', 'useful', 'to', 'have', 'and', 'accumulated', 'over', 'the', 'years', 'you', 'can', 'find', 'it', 'here', 'https', 'github', 'com', 'direnv', 'direnv', 'blob', 'master', 'stdlib', 'sh', '2', 'it', 's', 'possible', 'to', 'override', 'the', 'stdlib', 'with', 'your', 'own', 'set', 'of', 'function', 'by', 'adding', 'a', 'bash', 'file', 'to', 'config', 'direnv', 'direnvrc', 'this', 'file', 'is', 'loaded', 'and', 'its', 'content', 'made', 'available', 'to', 'any', 'envrc', 'file', '3', 'direnv', 'is', 'not', 'loading', 'the', 'envrc', 'into', 'the', 'current', 'shell', 'it', 's', 'creating', 'a', 'new', 'bash', 'sub', 'process', 'to', 'load', 'the', 'stdlib', 'direnvrc', 'and', 'envrc', 'and', 'only', 'exports', 'the', 'environment', 'diff', 'back', 'to', 'the', 'original', 'shell', 'this', 'allows', 'direnv', 'to', 'record', 'the', 'environment', 'changes', 'accurately', 'and', 'also', 'work', 'with', 'all', 'sorts', 'of', 'shells', 'it', 'also', 'means', 'that', 'aliases', 'and', 'functions', 'are', 'not', 'exportable', 'right', 'now', 'contributing', 'bug', 'reports', 'contributions', 'and', 'forks', 'are', 'welcome', 'all', 'bugs', 'or', 'other', 'forms', 'of', 'discussion', 'happen', 'on', 'http', 'github', 'com', 'direnv', 'direnv', 'issues', 'or', 'drop', 'by', 'on', 'matrix', 'https', 'matrix', 'to', 'direnv', 'numtide', 'com', 'to', 'have', 'a', 'chat', 'if', 'you', 'ask', 'a', 'question', 'make', 'sure', 'to', 'stay', 'around', 'as', 'not', 'everyone', 'is', 'active', 'all', 'day', 'testing', 'to', 'run', 'our', 'tests', 'use', 'these', 'commands', 'you', 'may', 'need', 'to', 'install', 'homebrew', 'https', 'brew', 'sh', 'brew', 'bundle', 'make', 'test', 'complementary', 'projects', 'here', 'is', 'a', 'list', 'of', 'projects', 'you', 'might', 'want', 'to', 'look', 'into', 'if', 'you', 'are', 'using', 'direnv', 'starship', 'https', 'starship', 'rs', 'a', 'cross', 'shell', 'prompt', 'projects', 'for', 'nix', 'integration', 'https', 'github', 'com', 'direnv', 'direnv', 'wiki', 'nix', 'choose', 'from', 'one', 'of', 'a', 'variety', 'of', 'projects', 'offering', 'improvements', 'over', 'direnv', 's', 'built', 'in', 'use_nix', 'implementation', 'related', 'projects', 'here', 'is', 'a', 'list', 'of', 'other', 'projects', 'found', 'in', 'the', 'same', 'design', 'space', 'feel', 'free', 'to', 'submit', 'new', 'ones', 'environment', 'modules', 'http', 'modules', 'sourceforge', 'net', 'one', 'of', 'the', 'oldest', 'in', 'a', 'good', 'way', 'environment', 'loading', 'systems', 'autoenv', 'https', 'github', 'com', 'hyperupcall', 'autoenv', 'older', 'popular', 'and', 'lightweight', 'zsh', 'autoenv', 'https', 'github', 'com', 'tarrasch', 'zsh', 'autoenv', 'a', 'feature', 'rich', 'mixture', 'of', 'autoenv', 'and', 'smartcd', 'https', 'github', 'com', 'cxreg', 'smartcd', 'enter', 'leave', 'events', 'nesting', 'stashing', 'zsh', 'only', 'asdf', 'https', 'github', 'com', 'asdf', 'vm', 'asdf', 'a', 'pure', 'bash', 'solution', 'that', 'has', 'a', 'plugin', 'system', 'the', 'asdf', 'direnv', 'https', 'github', 'com', 'asdf', 'community', 'asdf', 'direnv', 'plugin', 'allows', 'using', 'asdf', 'managed', 'tools', 'with', 'direnv', 'ondir', 'https', 'github', 'com', 'alecthomas', 'ondir', 'ondir', 'is', 'a', 'small', 'program', 'to', 'automate', 'tasks', 'specific', 'to', 'certain', 'directories', 'shadowenv', 'https', 'shopify', 'github', 'io', 'shadowenv', 'uses', 'an', 's', 'expression', 'format', 'to', 'define', 'environment', 'changes', 'that', 'should', 'be', 'executed', 'quickenv', 'https', 'github', 'com', 'untitaker', 'quickenv', 'an', 'alternative', 'loader', 'for', 'envrc', 'files', 'that', 'does', 'not', 'hook', 'into', 'your', 'shell', 'and', 'favors', 'speed', 'over', 'convenience', 'commercial', 'support', 'looking', 'for', 'help', 'or', 'customization', 'get', 'in', 'touch', 'with', 'numtide', 'to', 'get', 'a', 'quote', 'we', 'make', 'it', 'easy', 'for', 'companies', 'to', 'work', 'with', 'open', 'source', 'projects', 'https', 'numtide', 'com', 'contact', 'copyright', 'mit', 'licence', 'license', 'copyright', 'c', '2019', 'zimbatm', 'and', 'contributors', 'https', 'github', 'com', 'direnv', 'direnv', 'graphs', 'contributors']]\n"
     ]
    }
   ],
   "source": [
    "import nltk\n",
    "nltk.download('wordnet')\n",
    "from nltk.stem import WordNetLemmatizer\n",
    "from nltk.stem.porter import PorterStemmer\n",
    "from math import isnan\n",
    "\n",
    "stemmer = PorterStemmer()\n",
    "lemmatizer = WordNetLemmatizer()\n",
    "\n",
    "\n",
    "from nltk.tokenize import RegexpTokenizer\n",
    "tokenizer = RegexpTokenizer(r'\\w+')\n",
    "\n",
    "tokenized_docs = []\n",
    "for doc in doc_set:\n",
    "    if type(doc) != str and isnan(doc):\n",
    "        doc = ''\n",
    "    tokens = tokenizer.tokenize(doc.lower())\n",
    "    tokenized_docs.append(tokens)\n",
    "    \n",
    "print(\"Tokenized Docs:\")\n",
    "print(tokenized_docs[0:3])\n",
    "# print(tokenized_docs)\n",
    "\n"
   ],
   "metadata": {
    "collapsed": false,
    "ExecuteTime": {
     "end_time": "2024-04-03T01:17:56.539199Z",
     "start_time": "2024-04-03T01:17:50.273397Z"
    }
   },
   "id": "d4203d513445ecc8",
   "execution_count": 16
  },
  {
   "cell_type": "code",
   "outputs": [
    {
     "name": "stdout",
     "output_type": "stream",
     "text": [
      "[['a', 'command', 'line', 'tool', 'that', 'make', 'git', 'easier', 'to', 'use', 'with', 'github', 'go', 'homebrew', 'git', 'github', 'api', 'pull', 'request', 'hub', 'is', 'a', 'command', 'line', 'tool', 'that', 'wrap', 'git', 'in', 'order', 'to', 'extend', 'it', 'with', 'extra', 'feature', 'and', 'command', 'that', 'make', 'working', 'with', 'github', 'easier', 'for', 'an', 'official', 'potentially', 'more', 'user', 'friendly', 'command', 'line', 'interface', 'to', 'github', 'see', 'cli', 'github', 'com', 'http', 'cli', 'github', 'com', 'and', 'this', 'comparison', 'http', 'github', 'com', 'cli', 'cli', 'blob', 'trunk', 'doc', 'gh', 'v', 'hub', 'md', 'this', 'repository', 'and', 'it', 'issue', 'tracker', 'is', 'not', 'for', 'reporting', 'problem', 'with', 'github', 'com', 'web', 'interface', 'if', 'you', 'have', 'a', 'problem', 'with', 'github', 'itself', 'please', 'contact', 'support', 'http', 'github', 'com', 'contact', 'usage', 'sh', 'hub', 'clone', 'rtomayko', 'tilt', 'git', 'clone', 'http', 'github', 'com', 'rtomayko', 'tilt', 'git', 'or', 'if', 'you', 'prefer', 'the', 'ssh', 'protocol', 'git', 'config', 'global', 'hub', 'protocol', 'ssh', 'hub', 'clone', 'rtomayko', 'tilt', 'git', 'clone', 'git', 'github', 'com', 'rtomayko', 'tilt', 'git', 'see', 'usage', 'example', 'http', 'hub', 'github', 'com', 'developer', 'or', 'the', 'full', 'reference', 'documentation', 'http', 'hub', 'github', 'com', 'hub', '1', 'html', 'to', 'see', 'all', 'available', 'command', 'and', 'flag', 'hub', 'can', 'also', 'be', 'used', 'to', 'make', 'shell', 'script', 'that', 'directly', 'interact', 'with', 'the', 'github', 'api', 'http', 'hub', 'github', 'com', 'scripting', 'hub', 'can', 'be', 'safely', 'aliased', 'aliasing', 'a', 'git', 'so', 'you', 'can', 'type', 'git', 'command', 'in', 'the', 'shell', 'and', 'have', 'it', 'expanded', 'with', 'hub', 'feature', 'installation', 'the', 'hub', 'executable', 'ha', 'no', 'dependency', 'but', 'since', 'it', 'wa', 'designed', 'to', 'wrap', 'git', 'it', 's', 'recommended', 'to', 'have', 'at', 'least', 'git', '1', '7', '3', 'or', 'newer', 'platform', 'manager', 'command', 'to', 'run', 'macos', 'linux', 'homebrew', 'http', 'doc', 'brew', 'sh', 'installation', 'brew', 'install', 'hub', 'macos', 'linux', 'nix', 'http', 'nixos', 'org', 'nix', 'env', 'i', 'hub', 'window', 'scoop', 'http', 'scoop', 'sh', 'scoop', 'install', 'hub', 'window', 'chocolatey', 'http', 'chocolatey', 'org', 'choco', 'install', 'hub', 'fedora', 'linux', 'dnf', 'http', 'fedoraproject', 'org', 'wiki', 'dnf', 'sudo', 'dnf', 'install', 'hub', 'arch', 'linux', 'pacman', 'http', 'wiki', 'archlinux', 'org', 'index', 'php', 'pacman', 'sudo', 'pacman', 's', 'hub', 'freebsd', 'pkg', '8', 'http', 'man', 'freebsd', 'org', 'pkg', '8', 'pkg', 'install', 'hub', 'debian', 'ubuntu', 'apt', '8', 'http', 'manpages', 'debian', 'org', 'buster', 'apt', 'apt', '8', 'en', 'html', 'sudo', 'apt', 'install', 'hub', 'ubuntu', 'snap', 'http', 'snapcraft', 'io', 'we', 'do', 'not', 'recommend', 'installing', 'the', 'snap', 'anymore', 'http', 'github', 'com', 'github', 'hub', 'issue', 'q', 'is', '3aissue', 'snap', 'opensuse', 'zypper', 'http', 'en', 'opensuse', 'org', 'sdb', 'zypper_manual', 'sudo', 'zypper', 'install', 'hub', 'void', 'linux', 'xbps', 'http', 'github', 'com', 'void', 'linux', 'xbps', 'sudo', 'xbps', 'install', 's', 'hub', 'gentoo', 'portage', 'http', 'wiki', 'gentoo', 'org', 'wiki', 'portage', 'sudo', 'emerge', 'dev', 'vcs', 'hub', '_any_', 'conda', 'http', 'doc', 'conda', 'io', 'en', 'latest', 'conda', 'install', 'c', 'conda', 'forge', 'hub', 'package', 'other', 'than', 'homebrew', 'are', 'community', 'maintained', 'thank', 'you', 'and', 'they', 'are', 'not', 'guaranteed', 'to', 'match', 'the', 'latest', 'hub', 'release', 'latest', 'check', 'hub', 'version', 'after', 'installing', 'a', 'community', 'package', 'standalone', 'hub', 'can', 'be', 'easily', 'installed', 'a', 'an', 'executable', 'download', 'the', 'latest', 'binary', 'latest', 'for', 'your', 'system', 'and', 'put', 'it', 'anywhere', 'in', 'your', 'executable', 'path', 'github', 'action', 'hub', 'is', 'ready', 'to', 'be', 'used', 'in', 'your', 'github', 'action', 'workflow', 'yaml', 'step', 'us', 'action', 'checkout', 'v2', 'name', 'list', 'open', 'pull', 'request', 'run', 'hub', 'pr', 'list', 'env', 'github_token', 'secret', 'github_token', 'note', 'that', 'the', 'default', 'secret', 'github_token', 'will', 'only', 'work', 'for', 'api', 'operation', 'scoped', 'to', 'the', 'repository', 'that', 'run', 'this', 'workflow', 'if', 'you', 'need', 'to', 'interact', 'with', 'other', 'repository', 'generate', 'a', 'personal', 'access', 'token', 'pat', 'with', 'at', 'least', 'the', 'repo', 'scope', 'and', 'add', 'it', 'to', 'your', 'repository', 'secret', 'github', 'action', 'http', 'doc', 'github', 'com', 'en', 'action', 'reference', 'workflow', 'syntax', 'for', 'github', 'action', 'pat', 'http', 'github', 'com', 'setting', 'token', 'repository', 'secret', 'http', 'doc', 'github', 'com', 'en', 'action', 'configuring', 'and', 'managing', 'workflow', 'creating', 'and', 'storing', 'encrypted', 'secret', 'source', 'prerequisite', 'for', 'building', 'from', 'source', 'are', 'make', 'go', '1', '11', 'http', 'golang', 'org', 'doc', 'install', 'clone', 'this', 'repository', 'and', 'run', 'make', 'install', 'sh', 'git', 'clone', 'config', 'transfer', 'fsckobjects', 'false', 'config', 'receive', 'fsckobjects', 'false', 'config', 'fetch', 'fsckobjects', 'false', 'http', 'github', 'com', 'github', 'hub', 'git', 'cd', 'hub', 'make', 'install', 'prefix', 'usr', 'local', 'aliasing', 'some', 'hub', 'feature', 'feel', 'best', 'when', 'it', 's', 'aliased', 'a', 'git', 'this', 'is', 'not', 'dangerous', 'your', '_normal', 'git', 'command', 'will', 'all', 'work_', 'hub', 'merely', 'add', 'some', 'sugar', 'hub', 'alias', 'display', 'instruction', 'for', 'the', 'current', 'shell', 'with', 'the', 's', 'flag', 'it', 'output', 'a', 'script', 'suitable', 'for', 'eval', 'you', 'should', 'place', 'this', 'command', 'in', 'your', 'bash_profile', 'or', 'other', 'startup', 'script', 'sh', 'eval', 'hub', 'alias', 's', 'powershell', 'if', 'you', 're', 'using', 'powershell', 'you', 'can', 'set', 'an', 'alias', 'for', 'hub', 'by', 'placing', 'the', 'following', 'in', 'your', 'powershell', 'profile', 'usually', 'document', 'windowspowershell', 'microsoft', 'powershell_profile', 'ps1', 'sh', 'set', 'alias', 'git', 'hub', 'a', 'simple', 'way', 'to', 'do', 'this', 'is', 'to', 'run', 'the', 'following', 'from', 'the', 'powershell', 'prompt', 'sh', 'add', 'content', 'profile', 'nset', 'alias', 'git', 'hub', 'note', 'you', 'll', 'need', 'to', 'restart', 'your', 'powershell', 'console', 'in', 'order', 'for', 'the', 'change', 'to', 'be', 'picked', 'up', 'if', 'your', 'powershell', 'profile', 'doesn', 't', 'exist', 'you', 'can', 'create', 'it', 'by', 'running', 'the', 'following', 'sh', 'new', 'item', 'type', 'file', 'force', 'profile', 'shell', 'tab', 'completion', 'hub', 'repository', 'contains', 'tab', 'completion', 'script', 'etc', 'for', 'bash', 'zsh', 'and', 'fish', 'these', 'script', 'complement', 'existing', 'completion', 'script', 'that', 'ship', 'with', 'git', 'meta', 'bug', 'http', 'github', 'com', 'github', 'hub', 'issue', 'author', 'http', 'github', 'com', 'github', 'hub', 'contributor', 'our', 'code', 'of', 'conduct', 'http', 'github', 'com', 'github', 'hub', 'blob', 'master', 'code_of_conduct', 'md', 'latest', 'http', 'github', 'com', 'github', 'hub', 'release', 'latest'], ['lantern官方版本下载', '蓝灯', '翻墙', '代理', '科学上网', '外网', '加速器', '梯子', '路由', 'быстрый', 'надежный', 'и', 'безопасный', 'доступ', 'к', 'открытому', 'интернету', 'lantern', 'proxy', 'vpn', 'censorship', 'circumvention', 'censorship', 'gfw', 'accelerator', 'پراکسی', 'لنترن', 'ضدسانسور', 'امن', 'قابل', 'اعتماد', 'و', 'پرسرعت', 'lantern', 'vpn', 'censorship', 'circumvention', 'gfw', 'accelerator', 'router', 'lantern', 'en', 'resource', 'english', 'svg', 'readme', 'md', 'zh', 'resource', 'chinese', 'svg', 'readme', 'zh', 'md', 'ru', 'resource', 'russian', 'svg', 'readme', 'ru', 'md', 'ar', 'resource', 'arabic', 'svg', 'readme', 'ar', 'md', 'fa', 'resource', 'farsi', 'svg', 'readme', 'fa', 'md', 'censorship', 'circumvention', 'tool', 'available', 'for', 'free', 'download', 'on', 'any', 'operating', 'system', 'cover', 'page', 'resource', 'cover_page', 'png', 'link', 'website', 'http', 'lantern', 'io', 'frequently', 'asked', 'question', 'http', 'lantern', 'io', 'faq', 'github', 'discussion', 'ا', 'ل', 'ع', 'ر', 'ب', 'ي', 'ة', 'http', 'github', 'com', 'getlantern', 'lantern', 'forum', 'uae', 'discussion', 'беларуская', 'http', 'github', 'com', 'getlantern', 'lantern', 'forum', 'belarus', 'english', 'http', 'github', 'com', 'getlantern', 'lantern', 'forum', 'en', 'discussion', 'فارسی', 'http', 'github', 'com', 'getlantern', 'lantern', 'forum', 'fa', 'discussion', 'русский', 'http', 'github', 'com', 'getlantern', 'lantern', 'forum', 'ru', 'discussion', 'українська', 'http', 'github', 'com', 'getlantern', 'lantern', 'forum', 'ukraine', 'discussion', '中文', 'http', 'github', 'com', 'getlantern', 'lantern', 'forum', 'cn', 'discussion', 'instagram', 'ا', 'ل', 'ع', 'ر', 'ب', 'ي', 'ة', 'http', 'www', 'instagram', 'com', 'lanternio_uae', 'беларуская', 'http', 'www', 'instagram', 'com', 'getlantern_belarus', 'english', 'http', 'www', 'instagram', 'com', 'getlantern', 'فارسی', 'http', 'www', 'instagram', 'com', 'getlantern_fa', 'française', 'http', 'www', 'instagram', 'com', 'lanternio_guinea', 'русский', 'http', 'www', 'instagram', 'com', 'lantern', 'io_ru', 'українська', 'http', 'www', 'instagram', 'com', 'getlantern_ua', '中文', 'http', 'www', 'instagram', 'com', 'lanternio_ch', 'telegram', 'ا', 'ل', 'ع', 'ر', 'ب', 'ي', 'ة', 'http', 't', 'me', 'lantern_uae', 'беларуская', 'http', 't', 'me', 'lantern_belarus', 'lantern_official_bot', 'http', 't', 'me', 'lantern_official_bot', 'فارسی', 'http', 't', 'me', 'lanternfarsi', 'française', 'http', 't', 'me', 'lanternguinea', 'русский', 'http', 't', 'me', 'lantern_russia', 'українська', 'http', 't', 'me', 'lanternukraine', '中文', 'http', 't', 'me', 'lantern_china', 'telegram', 'beta', 'tester', 'ا', 'ل', 'ع', 'ر', 'ب', 'ي', 'ة', 'http', 't', 'me', '43', 'cugbk1eqrre0mdqx', 'беларуская', 'http', 't', 'me', '43', 'brtww4odsrsxy2mx', 'فارسی', 'http', 't', 'me', 'lanternbetair', 'française', 'http', 't', 'me', '43', '_g9wgtstxvs3zdqx', 'русский', 'http', 't', 'me', '43', 'plva7h6mu_y2n2vi', 'українська', 'http', 't', 'me', '43', 'c_k4ofhv7nmzzjlh', '中文', 'http', 't', 'me', '43', 'n3sfwl0ho7w1odgz', 'twitter', 'ا', 'ل', 'ع', 'ر', 'ب', 'ي', 'ة', 'http', 'twitter', 'com', 'getlantern_uae', 'беларуская', 'http', 'twitter', 'com', 'lanternbelarus', 'english', 'http', 'twitter', 'com', 'getlantern', 'فارسی', 'http', 'twitter', 'com', 'getlantern_fa', 'française', 'http', 'twitter', 'com', 'getlantern_gu', 'русский', 'http', 'twitter', 'com', 'lantern_russia', 'українська', 'http', 'twitter', 'com', 'lanternua', '中文', 'http', 'twitter', 'com', 'getlantern_cn', 'downloads', 'table', 'tr', 'th', 'th', 'th', 'window', 'th', 'th', 'android', 'th', 'th', 'macos', 'th', 'th', 'io', 'th', 'th', 'linux', '32', 'bit', 'th', 'th', 'linux', '64', 'bit', 'th', 'tr', 'tr', 'th', 'stable', 'th', 'td', 'a', 'href', 'http', 'gitlab', 'com', 'getlantern', 'lantern', 'binary', 'mirror', 'raw', 'master', 'lantern', 'installer', 'exe', 'window', '10', '43', 'a', 'br', 'a', 'href', 'http', 'github', 'com', 'getlantern', 'lantern', 'binary', 'raw', 'main', 'lantern', 'installer', 'exe', 'window', '10', '43', 'a', 'br', 'a', 'href', 'http', 's3', 'amazonaws', 'com', 'lantern', 'lantern', 'installer', 'exe', 'window', '10', '43', 'a', 'br', 'a', 'href', 'http', 'github', 'com', 'getlantern', 'lantern', 'binary', 'raw', 'main', 'lantern', 'installer', 'win7', 'exe', 'window', '7', 'a', 'td', 'td', 'a', 'href', 'http', 'gitlab', 'com', 'getlantern', 'lantern', 'binary', 'mirror', 'raw', 'master', 'lantern', 'installer', 'apk', 'android', '6', '43', 'a', 'br', 'a', 'href', 'http', 's3', 'amazonaws', 'com', 'lantern', 'lantern', 'installer', 'apk', 'android', '6', '43', 'a', 'br', 'a', 'href', 'http', 'github', 'com', 'getlantern', 'lantern', 'binary', 'raw', 'main', 'lantern', 'installer', 'apk', 'android', '6', '43', 'a', 'td', 'td', 'a', 'href', 'http', 'gitlab', 'com', 'getlantern', 'lantern', 'binary', 'mirror', 'raw', 'master', 'lantern', 'installer', 'dmg', 'macos', '10', '13', '43', 'a', 'br', 'a', 'href', 'http', 'github', 'com', 'getlantern', 'lantern', 'binary', 'raw', 'main', 'lantern', 'installer', 'dmg', 'macos', '10', '13', '43', 'a', 'br', 'a', 'href', 'http', 's3', 'amazonaws', 'com', 'lantern', 'lantern', 'installer', 'dmg', 'macos', '10', '13', '43', 'a', 'td', 'td', 'td', 'td', 'a', 'href', 'http', 'github', 'com', 'getlantern', 'lantern', 'binary', 'raw', 'main', 'lantern', 'installer', '32', 'bit', 'deb', 'ubuntu', '14', '04', '43', '32', 'bit', 'a', 'br', 'a', 'href', 'http', 's3', 'amazonaws', 'com', 'lantern', 'lantern', 'installer', '32', 'bit', 'deb', 'ubuntu', '14', '04', '43', '32', 'bit', 'a', 'td', 'td', 'a', 'href', 'http', 'github', 'com', 'getlantern', 'lantern', 'binary', 'raw', 'main', 'lantern', 'installer', '64', 'bit', 'deb', 'ubuntu', '14', '04', '43', '64', 'bit', 'a', 'br', 'a', 'href', 'http', 's3', 'amazonaws', 'com', 'lantern', 'lantern', 'installer', '64', 'bit', 'deb', 'ubuntu', '14', '04', '43', '64', 'bit', 'a', 'td', 'tr', 'tr', 'th', 'app', 'store', 'th', 'td', 'td', 'td', 'a', 'href', 'http', 'play', 'google', 'com', 'store', 'apps', 'detail', 'id', 'org', 'getlantern', 'lantern', 'android', '6', '43', 'a', 'td', 'td', 'td', 'td', 'a', 'href', 'http', 'apps', 'apple', 'com', 'app', 'id1457872372', 'l', 'io', '11', '43', 'a', 'td', 'td', 'td', 'td', 'td', 'tr', 'tr', 'th', 'beta', 'th', 'td', 'a', 'href', 'http', 'github', 'com', 'getlantern', 'lantern', 'binary', 'raw', 'main', 'lantern', 'installer', 'preview', 'exe', 'window', '10', '43', 'a', 'td', 'td', 'a', 'href', 'http', 'github', 'com', 'getlantern', 'lantern', 'binary', 'raw', 'main', 'lantern', 'installer', 'preview', 'apk', 'android', '6', '43', 'a', 'td', 'td', 'a', 'href', 'http', 'github', 'com', 'getlantern', 'lantern', 'binary', 'raw', 'main', 'lantern', 'installer', 'preview', 'dmg', 'macos', '10', '13', '43', 'a', 'td', 'td', 'td', 'td', 'a', 'href', 'http', 'github', 'com', 'getlantern', 'lantern', 'binary', 'raw', 'main', 'lantern', 'installer', 'preview', '32', 'bit', 'deb', 'ubuntu', '14', '04', '43', '32', 'bit', 'a', 'td', 'td', 'a', 'href', 'http', 'github', 'com', 'getlantern', 'lantern', 'binary', 'raw', 'main', 'lantern', 'installer', 'preview', '64', 'bit', 'deb', 'ubuntu', '14', '04', '43', '64', 'bit', 'a', 'td', 'tr', 'table', 'if', 'the', 'app', 'store', 'is', 'unavailable', 'in', 'your', 'region', 'you', 'may', 'be', 'able', 'to', 'follow', 'these', 'step', 'http', 'lantern', 'io', 'faq', 'use', '2', 'to', 'download', 'lantern', 'for', 'stable', 'version', 'multiple', 'link', 'exist', 'for', 'hosting', 'redundancy', 'and', 'choice', 'try', 'the', 'early', 'release', '34', 'beta', '34', 'version', 'while', 'this', 'may', 'be', 'unstable', 'feedback', 'help', 'improve', 'join', 'our', 'forum', 'link', 'to', 'contribute', 'release', 'note', '7', '8', '1', 'improved', 'proxy', 'selection', '7', '8', '0', 'implemented', 'advanced', 'automatic', 'proxy', 'selection', 'added', 'new', 'protocol', '7', '7', '2', 'added', 'new', 'protocol', 'bug', 'fix'], ['unclutter', 'your', 'profile', 'direnv', 'environment', 'shell', 'extension', 'bash', 'zsh', 'tcsh', 'fish', 'shell', 'direnv', 'unclutter', 'your', 'profile', 'built', 'with', 'nix', 'http', 'builtwithnix', 'org', 'badge', 'svg', 'http', 'builtwithnix', 'org', 'packaging', 'status', 'http', 'repology', 'org', 'badge', 'tiny', 'repos', 'direnv', 'svg', 'http', 'repology', 'org', 'project', 'direnv', 'version', 'latest', 'packaged', 'version', 's', 'http', 'repology', 'org', 'badge', 'latest', 'version', 'direnv', 'svg', 'http', 'repology', 'org', 'project', 'direnv', 'version', 'support', 'room', 'on', 'matrix', 'http', 'img', 'shield', 'io', 'matrix', 'direnv', 'numtide', 'com', 'svg', 'label', '23direnv', '3anumtide', 'com', 'logo', 'matrix', 'server_fqdn', 'matrix', 'numtide', 'com', 'http', 'matrix', 'to', 'direnv', 'numtide', 'com', 'direnv', 'is', 'an', 'extension', 'for', 'your', 'shell', 'it', 'augments', 'existing', 'shell', 'with', 'a', 'new', 'feature', 'that', 'can', 'load', 'and', 'unload', 'environment', 'variable', 'depending', 'on', 'the', 'current', 'directory', 'use', 'case', 'load', '12factor', 'apps', 'http', '12factor', 'net', 'environment', 'variable', 'create', 'per', 'project', 'isolated', 'development', 'environment', 'load', 'secret', 'for', 'deployment', 'how', 'it', 'work', 'before', 'each', 'prompt', 'direnv', 'check', 'for', 'the', 'existence', 'of', 'a', 'envrc', 'file', 'and', 'optionally', 'man', 'direnv', 'toml', '1', 'md', 'codeloaddotenvcode', 'a', 'env', 'file', 'in', 'the', 'current', 'and', 'parent', 'directory', 'if', 'the', 'file', 'exists', 'and', 'is', 'authorized', 'it', 'is', 'loaded', 'into', 'a', 'bash', 'sub', 'shell', 'and', 'all', 'exported', 'variable', 'are', 'then', 'captured', 'by', 'direnv', 'and', 'then', 'made', 'available', 'to', 'the', 'current', 'shell', 'it', 'support', 'hook', 'for', 'all', 'the', 'common', 'shell', 'like', 'bash', 'zsh', 'tcsh', 'and', 'fish', 'this', 'allows', 'project', 'specific', 'environment', 'variable', 'without', 'cluttering', 'the', 'profile', 'file', 'because', 'direnv', 'is', 'compiled', 'into', 'a', 'single', 'static', 'executable', 'it', 'is', 'fast', 'enough', 'to', 'be', 'unnoticeable', 'on', 'each', 'prompt', 'it', 'is', 'also', 'language', 'agnostic', 'and', 'can', 'be', 'used', 'to', 'build', 'solution', 'similar', 'to', 'rbenv', 'pyenv', 'and', 'phpenv', 'getting', 'started', 'prerequisite', 'unix', 'like', 'operating', 'system', 'macos', 'linux', 'a', 'supported', 'shell', 'bash', 'zsh', 'tcsh', 'fish', 'elvish', 'powershell', 'murex', 'nushell', 'basic', 'installation', '1', 'direnv', 'is', 'packaged', 'in', 'most', 'distribution', 'already', 'see', 'the', 'installation', 'documentation', 'doc', 'installation', 'md', 'for', 'detail', '2', 'hook', 'direnv', 'into', 'your', 'shell', 'doc', 'hook', 'md', 'now', 'restart', 'your', 'shell', 'quick', 'demo', 'to', 'follow', 'along', 'in', 'your', 'shell', 'once', 'direnv', 'is', 'installed', 'shell', 'create', 'a', 'new', 'folder', 'for', 'demo', 'purpose', 'mkdir', 'my', 'project', 'cd', 'my', 'project', 'show', 'that', 'the', 'foo', 'environment', 'variable', 'is', 'not', 'loaded', 'echo', 'foo', 'nope', 'nope', 'create', 'a', 'new', 'envrc', 'this', 'file', 'is', 'bash', 'code', 'that', 'is', 'going', 'to', 'be', 'loaded', 'by', 'direnv', 'echo', 'export', 'foo', 'foo', 'envrc', 'envrc', 'is', 'not', 'allowed', 'the', 'security', 'mechanism', 'didn', 't', 'allow', 'to', 'load', 'the', 'envrc', 'since', 'we', 'trust', 'it', 'let', 's', 'allow', 'it', 'execution', 'direnv', 'allow', 'direnv', 'reloading', 'direnv', 'loading', 'envrc', 'direnv', 'export', 'foo', 'show', 'that', 'the', 'foo', 'environment', 'variable', 'is', 'loaded', 'echo', 'foo', 'nope', 'foo', 'exit', 'the', 'project', 'cd', 'direnv', 'unloading', 'and', 'now', 'foo', 'is', 'unset', 'again', 'echo', 'foo', 'nope', 'nope', 'the', 'stdlib', 'exporting', 'variable', 'by', 'hand', 'is', 'a', 'bit', 'repetitive', 'so', 'direnv', 'provides', 'a', 'set', 'of', 'utility', 'function', 'that', 'are', 'made', 'available', 'in', 'the', 'context', 'of', 'the', 'envrc', 'file', 'a', 'an', 'example', 'the', 'path_add', 'function', 'is', 'used', 'to', 'expand', 'and', 'prepend', 'a', 'path', 'to', 'the', 'path', 'environment', 'variable', 'instead', 'of', 'export', 'path', 'pwd', 'bin', 'path', 'you', 'can', 'write', 'path_add', 'bin', 'it', 's', 'shorter', 'and', 'avoids', 'a', 'common', 'mistake', 'where', 'path', 'bin', 'to', 'find', 'the', 'documentation', 'for', 'all', 'available', 'function', 'check', 'the', 'direnv', 'stdlib', '1', 'man', 'page', 'man', 'direnv', 'stdlib', '1', 'md', 'it', 's', 'also', 'possible', 'to', 'create', 'your', 'own', 'extension', 'by', 'creating', 'a', 'bash', 'file', 'at', 'config', 'direnv', 'direnvrc', 'or', 'config', 'direnv', 'lib', 'sh', 'this', 'file', 'is', 'loaded', 'before', 'your', 'envrc', 'and', 'thus', 'allows', 'you', 'to', 'make', 'your', 'own', 'extension', 'to', 'direnv', 'note', 'that', 'this', 'functionality', 'is', 'not', 'supported', 'in', 'env', 'file', 'if', 'the', 'coexistence', 'of', 'both', 'is', 'needed', 'one', 'can', 'use', 'envrc', 'for', 'leveraging', 'stdlib', 'and', 'append', 'dotenv', 'at', 'the', 'end', 'of', 'it', 'to', 'instruct', 'direnv', 'to', 'also', 'read', 'the', 'env', 'file', 'next', 'doc', 'install', 'direnv', 'doc', 'installation', 'md', 'hook', 'into', 'your', 'shell', 'doc', 'hook', 'md', 'develop', 'for', 'direnv', 'doc', 'development', 'md', 'manage', 'your', 'ruby', 'with', 'direnv', 'and', 'ruby', 'install', 'doc', 'ruby', 'md', 'community', 'wiki', 'http', 'github', 'com', 'direnv', 'direnv', 'wiki', 'make', 'sure', 'to', 'take', 'a', 'look', 'at', 'the', 'wiki', 'it', 'contains', 'all', 'sort', 'of', 'useful', 'information', 'such', 'a', 'common', 'recipe', 'editor', 'integration', 'tip', 'and', 'trick', 'man', 'page', 'direnv', '1', 'man', 'page', 'man', 'direnv', '1', 'md', 'direnv', 'fetchurl', '1', 'man', 'page', 'man', 'direnv', 'fetchurl', '1', 'md', 'direnv', 'stdlib', '1', 'man', 'page', 'man', 'direnv', 'stdlib', '1', 'md', 'direnv', 'toml', '1', 'man', 'page', 'man', 'direnv', 'toml', '1', 'md', 'faq', 'based', 'on', 'github', 'issue', 'interaction', 'here', 'are', 'the', 'top', 'thing', 'that', 'have', 'been', 'confusing', 'for', 'user', '1', 'direnv', 'ha', 'a', 'standard', 'library', 'of', 'function', 'a', 'collection', 'of', 'utility', 'that', 'i', 'found', 'useful', 'to', 'have', 'and', 'accumulated', 'over', 'the', 'year', 'you', 'can', 'find', 'it', 'here', 'http', 'github', 'com', 'direnv', 'direnv', 'blob', 'master', 'stdlib', 'sh', '2', 'it', 's', 'possible', 'to', 'override', 'the', 'stdlib', 'with', 'your', 'own', 'set', 'of', 'function', 'by', 'adding', 'a', 'bash', 'file', 'to', 'config', 'direnv', 'direnvrc', 'this', 'file', 'is', 'loaded', 'and', 'it', 'content', 'made', 'available', 'to', 'any', 'envrc', 'file', '3', 'direnv', 'is', 'not', 'loading', 'the', 'envrc', 'into', 'the', 'current', 'shell', 'it', 's', 'creating', 'a', 'new', 'bash', 'sub', 'process', 'to', 'load', 'the', 'stdlib', 'direnvrc', 'and', 'envrc', 'and', 'only', 'export', 'the', 'environment', 'diff', 'back', 'to', 'the', 'original', 'shell', 'this', 'allows', 'direnv', 'to', 'record', 'the', 'environment', 'change', 'accurately', 'and', 'also', 'work', 'with', 'all', 'sort', 'of', 'shell', 'it', 'also', 'mean', 'that', 'alias', 'and', 'function', 'are', 'not', 'exportable', 'right', 'now', 'contributing', 'bug', 'report', 'contribution', 'and', 'fork', 'are', 'welcome', 'all', 'bug', 'or', 'other', 'form', 'of', 'discussion', 'happen', 'on', 'http', 'github', 'com', 'direnv', 'direnv', 'issue', 'or', 'drop', 'by', 'on', 'matrix', 'http', 'matrix', 'to', 'direnv', 'numtide', 'com', 'to', 'have', 'a', 'chat', 'if', 'you', 'ask', 'a', 'question', 'make', 'sure', 'to', 'stay', 'around', 'a', 'not', 'everyone', 'is', 'active', 'all', 'day', 'testing', 'to', 'run', 'our', 'test', 'use', 'these', 'command', 'you', 'may', 'need', 'to', 'install', 'homebrew', 'http', 'brew', 'sh', 'brew', 'bundle', 'make', 'test', 'complementary', 'project', 'here', 'is', 'a', 'list', 'of', 'project', 'you', 'might', 'want', 'to', 'look', 'into', 'if', 'you', 'are', 'using', 'direnv', 'starship', 'http', 'starship', 'r', 'a', 'cross', 'shell', 'prompt', 'project', 'for', 'nix', 'integration', 'http', 'github', 'com', 'direnv', 'direnv', 'wiki', 'nix', 'choose', 'from', 'one', 'of', 'a', 'variety', 'of', 'project', 'offering', 'improvement', 'over', 'direnv', 's', 'built', 'in', 'use_nix', 'implementation', 'related', 'project', 'here', 'is', 'a', 'list', 'of', 'other', 'project', 'found', 'in', 'the', 'same', 'design', 'space', 'feel', 'free', 'to', 'submit', 'new', 'one', 'environment', 'module', 'http', 'module', 'sourceforge', 'net', 'one', 'of', 'the', 'oldest', 'in', 'a', 'good', 'way', 'environment', 'loading', 'system', 'autoenv', 'http', 'github', 'com', 'hyperupcall', 'autoenv', 'older', 'popular', 'and', 'lightweight', 'zsh', 'autoenv', 'http', 'github', 'com', 'tarrasch', 'zsh', 'autoenv', 'a', 'feature', 'rich', 'mixture', 'of', 'autoenv', 'and', 'smartcd', 'http', 'github', 'com', 'cxreg', 'smartcd', 'enter', 'leave', 'event', 'nesting', 'stashing', 'zsh', 'only', 'asdf', 'http', 'github', 'com', 'asdf', 'vm', 'asdf', 'a', 'pure', 'bash', 'solution', 'that', 'ha', 'a', 'plugin', 'system', 'the', 'asdf', 'direnv', 'http', 'github', 'com', 'asdf', 'community', 'asdf', 'direnv', 'plugin', 'allows', 'using', 'asdf', 'managed', 'tool', 'with', 'direnv', 'ondir', 'http', 'github', 'com', 'alecthomas', 'ondir', 'ondir', 'is', 'a', 'small', 'program', 'to', 'automate', 'task', 'specific', 'to', 'certain', 'directory', 'shadowenv', 'http', 'shopify', 'github', 'io', 'shadowenv', 'us', 'an', 's', 'expression', 'format', 'to', 'define', 'environment', 'change', 'that', 'should', 'be', 'executed', 'quickenv', 'http', 'github', 'com', 'untitaker', 'quickenv', 'an', 'alternative', 'loader', 'for', 'envrc', 'file', 'that', 'doe', 'not', 'hook', 'into', 'your', 'shell', 'and', 'favor', 'speed', 'over', 'convenience', 'commercial', 'support', 'looking', 'for', 'help', 'or', 'customization', 'get', 'in', 'touch', 'with', 'numtide', 'to', 'get', 'a', 'quote', 'we', 'make', 'it', 'easy', 'for', 'company', 'to', 'work', 'with', 'open', 'source', 'project', 'http', 'numtide', 'com', 'contact', 'copyright', 'mit', 'licence', 'license', 'copyright', 'c', '2019', 'zimbatm', 'and', 'contributor', 'http', 'github', 'com', 'direnv', 'direnv', 'graph', 'contributor']]\n"
     ]
    }
   ],
   "source": [
    "lemmatized_tokens = []\n",
    "for lst in tokenized_docs:\n",
    "    tokens_lemma = [lemmatizer.lemmatize(i) for i in lst]\n",
    "    lemmatized_tokens.append(tokens_lemma)\n",
    "    \n",
    "print(lemmatized_tokens[0:3])\n"
   ],
   "metadata": {
    "collapsed": false,
    "ExecuteTime": {
     "end_time": "2024-04-03T01:18:32.754550Z",
     "start_time": "2024-04-03T01:18:06.640807Z"
    }
   },
   "id": "3e1f95c51c14252a",
   "execution_count": 17
  },
  {
   "cell_type": "code",
   "outputs": [],
   "source": [
    "from stop_words import get_stop_words\n",
    "en_stop_words = get_stop_words('en')"
   ],
   "metadata": {
    "collapsed": false,
    "ExecuteTime": {
     "end_time": "2024-04-03T01:18:42.244385Z",
     "start_time": "2024-04-03T01:18:42.216858Z"
    }
   },
   "id": "8a1b1b4a5b7e658f",
   "execution_count": 18
  },
  {
   "cell_type": "code",
   "outputs": [
    {
     "name": "stdout",
     "output_type": "stream",
     "text": [
      "[['command', 'line', 'tool', 'make', 'git', 'easier', 'use', 'github', 'homebrew', 'git', 'github', 'api', 'pull', 'request', 'hub', 'command', 'line', 'tool', 'wrap', 'git', 'order', 'extend', 'extra', 'feature', 'command', 'make', 'working', 'github', 'easier', 'official', 'potentially', 'user', 'friendly', 'command', 'line', 'interface', 'github', 'see', 'cli', 'github', 'com', 'http', 'cli', 'github', 'com', 'comparison', 'http', 'github', 'com', 'cli', 'cli', 'blob', 'trunk', 'doc', 'hub', 'repository', 'issue', 'tracker', 'reporting', 'problem', 'github', 'com', 'web', 'interface', 'problem', 'github', 'please', 'contact', 'support', 'http', 'github', 'com', 'contact', 'usage', 'hub', 'clone', 'rtomayko', 'tilt', 'git', 'clone', 'http', 'github', 'com', 'rtomayko', 'tilt', 'git', 'prefer', 'ssh', 'protocol', 'git', 'config', 'global', 'hub', 'protocol', 'ssh', 'hub', 'clone', 'rtomayko', 'tilt', 'git', 'clone', 'git', 'github', 'com', 'rtomayko', 'tilt', 'git', 'see', 'usage', 'example', 'http', 'hub', 'github', 'com', 'developer', 'full', 'reference', 'documentation', 'http', 'hub', 'github', 'com', 'hub', 'html', 'see', 'available', 'command', 'flag', 'hub', 'can', 'also', 'used', 'make', 'shell', 'script', 'directly', 'interact', 'github', 'api', 'http', 'hub', 'github', 'com', 'scripting', 'hub', 'can', 'safely', 'aliased', 'aliasing', 'git', 'can', 'type', 'git', 'command', 'shell', 'expanded', 'hub', 'feature', 'installation', 'hub', 'executable', 'dependency', 'since', 'designed', 'wrap', 'git', 'recommended', 'least', 'git', 'newer', 'platform', 'manager', 'command', 'run', 'macos', 'linux', 'homebrew', 'http', 'doc', 'brew', 'installation', 'brew', 'install', 'hub', 'macos', 'linux', 'nix', 'http', 'nixos', 'org', 'nix', 'env', 'hub', 'window', 'scoop', 'http', 'scoop', 'scoop', 'install', 'hub', 'window', 'chocolatey', 'http', 'chocolatey', 'org', 'choco', 'install', 'hub', 'fedora', 'linux', 'dnf', 'http', 'fedoraproject', 'org', 'wiki', 'dnf', 'sudo', 'dnf', 'install', 'hub', 'arch', 'linux', 'pacman', 'http', 'wiki', 'archlinux', 'org', 'index', 'php', 'pacman', 'sudo', 'pacman', 'hub', 'freebsd', 'pkg', 'http', 'man', 'freebsd', 'org', 'pkg', 'pkg', 'install', 'hub', 'debian', 'ubuntu', 'apt', 'http', 'manpages', 'debian', 'org', 'buster', 'apt', 'apt', 'html', 'sudo', 'apt', 'install', 'hub', 'ubuntu', 'snap', 'http', 'snapcraft', 'recommend', 'installing', 'snap', 'anymore', 'http', 'github', 'com', 'github', 'hub', 'issue', '3aissue', 'snap', 'opensuse', 'zypper', 'http', 'opensuse', 'org', 'sdb', 'zypper_manual', 'sudo', 'zypper', 'install', 'hub', 'void', 'linux', 'xbps', 'http', 'github', 'com', 'void', 'linux', 'xbps', 'sudo', 'xbps', 'install', 'hub', 'gentoo', 'portage', 'http', 'wiki', 'gentoo', 'org', 'wiki', 'portage', 'sudo', 'emerge', 'dev', 'vcs', 'hub', '_any_', 'conda', 'http', 'doc', 'conda', 'latest', 'conda', 'install', 'conda', 'forge', 'hub', 'package', 'homebrew', 'community', 'maintained', 'thank', 'guaranteed', 'match', 'latest', 'hub', 'release', 'latest', 'check', 'hub', 'version', 'installing', 'community', 'package', 'standalone', 'hub', 'can', 'easily', 'installed', 'executable', 'download', 'latest', 'binary', 'latest', 'system', 'put', 'anywhere', 'executable', 'path', 'github', 'action', 'hub', 'ready', 'used', 'github', 'action', 'workflow', 'yaml', 'step', 'action', 'checkout', 'name', 'list', 'open', 'pull', 'request', 'run', 'hub', 'list', 'env', 'github_token', 'secret', 'github_token', 'note', 'default', 'secret', 'github_token', 'will', 'work', 'api', 'operation', 'scoped', 'repository', 'run', 'workflow', 'need', 'interact', 'repository', 'generate', 'personal', 'access', 'token', 'pat', 'least', 'repo', 'scope', 'add', 'repository', 'secret', 'github', 'action', 'http', 'doc', 'github', 'com', 'action', 'reference', 'workflow', 'syntax', 'github', 'action', 'pat', 'http', 'github', 'com', 'setting', 'token', 'repository', 'secret', 'http', 'doc', 'github', 'com', 'action', 'configuring', 'managing', 'workflow', 'creating', 'storing', 'encrypted', 'secret', 'source', 'prerequisite', 'building', 'source', 'make', 'http', 'golang', 'org', 'doc', 'install', 'clone', 'repository', 'run', 'make', 'install', 'git', 'clone', 'config', 'transfer', 'fsckobjects', 'false', 'config', 'receive', 'fsckobjects', 'false', 'config', 'fetch', 'fsckobjects', 'false', 'http', 'github', 'com', 'github', 'hub', 'git', 'hub', 'make', 'install', 'prefix', 'usr', 'local', 'aliasing', 'hub', 'feature', 'feel', 'best', 'aliased', 'git', 'dangerous', '_normal', 'git', 'command', 'will', 'work_', 'hub', 'merely', 'add', 'sugar', 'hub', 'alias', 'display', 'instruction', 'current', 'shell', 'flag', 'output', 'script', 'suitable', 'eval', 'place', 'command', 'bash_profile', 'startup', 'script', 'eval', 'hub', 'alias', 'powershell', 'using', 'powershell', 'can', 'set', 'alias', 'hub', 'placing', 'following', 'powershell', 'profile', 'usually', 'document', 'windowspowershell', 'microsoft', 'powershell_profile', 'ps1', 'set', 'alias', 'git', 'hub', 'simple', 'way', 'run', 'following', 'powershell', 'prompt', 'add', 'content', 'profile', 'nset', 'alias', 'git', 'hub', 'note', 'need', 'restart', 'powershell', 'console', 'order', 'change', 'picked', 'powershell', 'profile', 'doesn', 'exist', 'can', 'create', 'running', 'following', 'new', 'item', 'type', 'file', 'force', 'profile', 'shell', 'tab', 'completion', 'hub', 'repository', 'contains', 'tab', 'completion', 'script', 'etc', 'bash', 'zsh', 'fish', 'script', 'complement', 'existing', 'completion', 'script', 'ship', 'git', 'meta', 'bug', 'http', 'github', 'com', 'github', 'hub', 'issue', 'author', 'http', 'github', 'com', 'github', 'hub', 'contributor', 'code', 'conduct', 'http', 'github', 'com', 'github', 'hub', 'blob', 'master', 'code_of_conduct', 'latest', 'http', 'github', 'com', 'github', 'hub', 'release', 'latest'], ['lantern官方版本下载', '科学上网', '加速器', 'быстрый', 'надежный', 'безопасный', 'доступ', 'открытому', 'интернету', 'lantern', 'proxy', 'vpn', 'censorship', 'circumvention', 'censorship', 'gfw', 'accelerator', 'پراکسی', 'لنترن', 'ضدسانسور', 'امن', 'قابل', 'اعتماد', 'پرسرعت', 'lantern', 'vpn', 'censorship', 'circumvention', 'gfw', 'accelerator', 'router', 'lantern', 'resource', 'english', 'svg', 'readme', 'resource', 'chinese', 'svg', 'readme', 'resource', 'russian', 'svg', 'readme', 'resource', 'arabic', 'svg', 'readme', 'resource', 'farsi', 'svg', 'readme', 'censorship', 'circumvention', 'tool', 'available', 'free', 'download', 'operating', 'system', 'cover', 'page', 'resource', 'cover_page', 'png', 'link', 'website', 'http', 'lantern', 'frequently', 'asked', 'question', 'http', 'lantern', 'faq', 'github', 'discussion', 'http', 'github', 'com', 'getlantern', 'lantern', 'forum', 'uae', 'discussion', 'беларуская', 'http', 'github', 'com', 'getlantern', 'lantern', 'forum', 'belarus', 'english', 'http', 'github', 'com', 'getlantern', 'lantern', 'forum', 'discussion', 'فارسی', 'http', 'github', 'com', 'getlantern', 'lantern', 'forum', 'discussion', 'русский', 'http', 'github', 'com', 'getlantern', 'lantern', 'forum', 'discussion', 'українська', 'http', 'github', 'com', 'getlantern', 'lantern', 'forum', 'ukraine', 'discussion', 'http', 'github', 'com', 'getlantern', 'lantern', 'forum', 'discussion', 'instagram', 'http', 'www', 'instagram', 'com', 'lanternio_uae', 'беларуская', 'http', 'www', 'instagram', 'com', 'getlantern_belarus', 'english', 'http', 'www', 'instagram', 'com', 'getlantern', 'فارسی', 'http', 'www', 'instagram', 'com', 'getlantern_fa', 'française', 'http', 'www', 'instagram', 'com', 'lanternio_guinea', 'русский', 'http', 'www', 'instagram', 'com', 'lantern', 'io_ru', 'українська', 'http', 'www', 'instagram', 'com', 'getlantern_ua', 'http', 'www', 'instagram', 'com', 'lanternio_ch', 'telegram', 'http', 'lantern_uae', 'беларуская', 'http', 'lantern_belarus', 'lantern_official_bot', 'http', 'lantern_official_bot', 'فارسی', 'http', 'lanternfarsi', 'française', 'http', 'lanternguinea', 'русский', 'http', 'lantern_russia', 'українська', 'http', 'lanternukraine', 'http', 'lantern_china', 'telegram', 'beta', 'tester', 'http', 'cugbk1eqrre0mdqx', 'беларуская', 'http', 'brtww4odsrsxy2mx', 'فارسی', 'http', 'lanternbetair', 'française', 'http', '_g9wgtstxvs3zdqx', 'русский', 'http', 'plva7h6mu_y2n2vi', 'українська', 'http', 'c_k4ofhv7nmzzjlh', 'http', 'n3sfwl0ho7w1odgz', 'twitter', 'http', 'twitter', 'com', 'getlantern_uae', 'беларуская', 'http', 'twitter', 'com', 'lanternbelarus', 'english', 'http', 'twitter', 'com', 'getlantern', 'فارسی', 'http', 'twitter', 'com', 'getlantern_fa', 'française', 'http', 'twitter', 'com', 'getlantern_gu', 'русский', 'http', 'twitter', 'com', 'lantern_russia', 'українська', 'http', 'twitter', 'com', 'lanternua', 'http', 'twitter', 'com', 'getlantern_cn', 'downloads', 'table', 'window', 'android', 'macos', 'linux', 'bit', 'linux', 'bit', 'stable', 'href', 'http', 'gitlab', 'com', 'getlantern', 'lantern', 'binary', 'mirror', 'raw', 'master', 'lantern', 'installer', 'exe', 'window', 'href', 'http', 'github', 'com', 'getlantern', 'lantern', 'binary', 'raw', 'main', 'lantern', 'installer', 'exe', 'window', 'href', 'http', 'amazonaws', 'com', 'lantern', 'lantern', 'installer', 'exe', 'window', 'href', 'http', 'github', 'com', 'getlantern', 'lantern', 'binary', 'raw', 'main', 'lantern', 'installer', 'win7', 'exe', 'window', 'href', 'http', 'gitlab', 'com', 'getlantern', 'lantern', 'binary', 'mirror', 'raw', 'master', 'lantern', 'installer', 'apk', 'android', 'href', 'http', 'amazonaws', 'com', 'lantern', 'lantern', 'installer', 'apk', 'android', 'href', 'http', 'github', 'com', 'getlantern', 'lantern', 'binary', 'raw', 'main', 'lantern', 'installer', 'apk', 'android', 'href', 'http', 'gitlab', 'com', 'getlantern', 'lantern', 'binary', 'mirror', 'raw', 'master', 'lantern', 'installer', 'dmg', 'macos', 'href', 'http', 'github', 'com', 'getlantern', 'lantern', 'binary', 'raw', 'main', 'lantern', 'installer', 'dmg', 'macos', 'href', 'http', 'amazonaws', 'com', 'lantern', 'lantern', 'installer', 'dmg', 'macos', 'href', 'http', 'github', 'com', 'getlantern', 'lantern', 'binary', 'raw', 'main', 'lantern', 'installer', 'bit', 'deb', 'ubuntu', 'bit', 'href', 'http', 'amazonaws', 'com', 'lantern', 'lantern', 'installer', 'bit', 'deb', 'ubuntu', 'bit', 'href', 'http', 'github', 'com', 'getlantern', 'lantern', 'binary', 'raw', 'main', 'lantern', 'installer', 'bit', 'deb', 'ubuntu', 'bit', 'href', 'http', 'amazonaws', 'com', 'lantern', 'lantern', 'installer', 'bit', 'deb', 'ubuntu', 'bit', 'app', 'store', 'href', 'http', 'play', 'google', 'com', 'store', 'apps', 'detail', 'org', 'getlantern', 'lantern', 'android', 'href', 'http', 'apps', 'apple', 'com', 'app', 'id1457872372', 'beta', 'href', 'http', 'github', 'com', 'getlantern', 'lantern', 'binary', 'raw', 'main', 'lantern', 'installer', 'preview', 'exe', 'window', 'href', 'http', 'github', 'com', 'getlantern', 'lantern', 'binary', 'raw', 'main', 'lantern', 'installer', 'preview', 'apk', 'android', 'href', 'http', 'github', 'com', 'getlantern', 'lantern', 'binary', 'raw', 'main', 'lantern', 'installer', 'preview', 'dmg', 'macos', 'href', 'http', 'github', 'com', 'getlantern', 'lantern', 'binary', 'raw', 'main', 'lantern', 'installer', 'preview', 'bit', 'deb', 'ubuntu', 'bit', 'href', 'http', 'github', 'com', 'getlantern', 'lantern', 'binary', 'raw', 'main', 'lantern', 'installer', 'preview', 'bit', 'deb', 'ubuntu', 'bit', 'table', 'app', 'store', 'unavailable', 'region', 'may', 'able', 'follow', 'step', 'http', 'lantern', 'faq', 'use', 'download', 'lantern', 'stable', 'version', 'multiple', 'link', 'exist', 'hosting', 'redundancy', 'choice', 'try', 'early', 'release', 'beta', 'version', 'may', 'unstable', 'feedback', 'help', 'improve', 'join', 'forum', 'link', 'contribute', 'release', 'note', 'improved', 'proxy', 'selection', 'implemented', 'advanced', 'automatic', 'proxy', 'selection', 'added', 'new', 'protocol', 'added', 'new', 'protocol', 'bug', 'fix'], ['unclutter', 'profile', 'direnv', 'environment', 'shell', 'extension', 'bash', 'zsh', 'tcsh', 'fish', 'shell', 'direnv', 'unclutter', 'profile', 'built', 'nix', 'http', 'builtwithnix', 'org', 'badge', 'svg', 'http', 'builtwithnix', 'org', 'packaging', 'status', 'http', 'repology', 'org', 'badge', 'tiny', 'repos', 'direnv', 'svg', 'http', 'repology', 'org', 'project', 'direnv', 'version', 'latest', 'packaged', 'version', 'http', 'repology', 'org', 'badge', 'latest', 'version', 'direnv', 'svg', 'http', 'repology', 'org', 'project', 'direnv', 'version', 'support', 'room', 'matrix', 'http', 'img', 'shield', 'matrix', 'direnv', 'numtide', 'com', 'svg', 'label', '23direnv', '3anumtide', 'com', 'logo', 'matrix', 'server_fqdn', 'matrix', 'numtide', 'com', 'http', 'matrix', 'direnv', 'numtide', 'com', 'direnv', 'extension', 'shell', 'augments', 'existing', 'shell', 'new', 'feature', 'can', 'load', 'unload', 'environment', 'variable', 'depending', 'current', 'directory', 'use', 'case', 'load', '12factor', 'apps', 'http', '12factor', 'net', 'environment', 'variable', 'create', 'per', 'project', 'isolated', 'development', 'environment', 'load', 'secret', 'deployment', 'work', 'prompt', 'direnv', 'check', 'existence', 'envrc', 'file', 'optionally', 'man', 'direnv', 'toml', 'codeloaddotenvcode', 'env', 'file', 'current', 'parent', 'directory', 'file', 'exists', 'authorized', 'loaded', 'bash', 'sub', 'shell', 'exported', 'variable', 'captured', 'direnv', 'made', 'available', 'current', 'shell', 'support', 'hook', 'common', 'shell', 'like', 'bash', 'zsh', 'tcsh', 'fish', 'allows', 'project', 'specific', 'environment', 'variable', 'without', 'cluttering', 'profile', 'file', 'direnv', 'compiled', 'single', 'static', 'executable', 'fast', 'enough', 'unnoticeable', 'prompt', 'also', 'language', 'agnostic', 'can', 'used', 'build', 'solution', 'similar', 'rbenv', 'pyenv', 'phpenv', 'getting', 'started', 'prerequisite', 'unix', 'like', 'operating', 'system', 'macos', 'linux', 'supported', 'shell', 'bash', 'zsh', 'tcsh', 'fish', 'elvish', 'powershell', 'murex', 'nushell', 'basic', 'installation', 'direnv', 'packaged', 'distribution', 'already', 'see', 'installation', 'documentation', 'doc', 'installation', 'detail', 'hook', 'direnv', 'shell', 'doc', 'hook', 'now', 'restart', 'shell', 'quick', 'demo', 'follow', 'along', 'shell', 'direnv', 'installed', 'shell', 'create', 'new', 'folder', 'demo', 'purpose', 'mkdir', 'project', 'project', 'show', 'foo', 'environment', 'variable', 'loaded', 'echo', 'foo', 'nope', 'nope', 'create', 'new', 'envrc', 'file', 'bash', 'code', 'going', 'loaded', 'direnv', 'echo', 'export', 'foo', 'foo', 'envrc', 'envrc', 'allowed', 'security', 'mechanism', 'didn', 'allow', 'load', 'envrc', 'since', 'trust', 'let', 'allow', 'execution', 'direnv', 'allow', 'direnv', 'reloading', 'direnv', 'loading', 'envrc', 'direnv', 'export', 'foo', 'show', 'foo', 'environment', 'variable', 'loaded', 'echo', 'foo', 'nope', 'foo', 'exit', 'project', 'direnv', 'unloading', 'now', 'foo', 'unset', 'echo', 'foo', 'nope', 'nope', 'stdlib', 'exporting', 'variable', 'hand', 'bit', 'repetitive', 'direnv', 'provides', 'set', 'utility', 'function', 'made', 'available', 'context', 'envrc', 'file', 'example', 'path_add', 'function', 'used', 'expand', 'prepend', 'path', 'path', 'environment', 'variable', 'instead', 'export', 'path', 'pwd', 'bin', 'path', 'can', 'write', 'path_add', 'bin', 'shorter', 'avoids', 'common', 'mistake', 'path', 'bin', 'find', 'documentation', 'available', 'function', 'check', 'direnv', 'stdlib', 'man', 'page', 'man', 'direnv', 'stdlib', 'also', 'possible', 'create', 'extension', 'creating', 'bash', 'file', 'config', 'direnv', 'direnvrc', 'config', 'direnv', 'lib', 'file', 'loaded', 'envrc', 'thus', 'allows', 'make', 'extension', 'direnv', 'note', 'functionality', 'supported', 'env', 'file', 'coexistence', 'needed', 'one', 'can', 'use', 'envrc', 'leveraging', 'stdlib', 'append', 'dotenv', 'end', 'instruct', 'direnv', 'also', 'read', 'env', 'file', 'next', 'doc', 'install', 'direnv', 'doc', 'installation', 'hook', 'shell', 'doc', 'hook', 'develop', 'direnv', 'doc', 'development', 'manage', 'ruby', 'direnv', 'ruby', 'install', 'doc', 'ruby', 'community', 'wiki', 'http', 'github', 'com', 'direnv', 'direnv', 'wiki', 'make', 'sure', 'take', 'look', 'wiki', 'contains', 'sort', 'useful', 'information', 'common', 'recipe', 'editor', 'integration', 'tip', 'trick', 'man', 'page', 'direnv', 'man', 'page', 'man', 'direnv', 'direnv', 'fetchurl', 'man', 'page', 'man', 'direnv', 'fetchurl', 'direnv', 'stdlib', 'man', 'page', 'man', 'direnv', 'stdlib', 'direnv', 'toml', 'man', 'page', 'man', 'direnv', 'toml', 'faq', 'based', 'github', 'issue', 'interaction', 'top', 'thing', 'confusing', 'user', 'direnv', 'standard', 'library', 'function', 'collection', 'utility', 'found', 'useful', 'accumulated', 'year', 'can', 'find', 'http', 'github', 'com', 'direnv', 'direnv', 'blob', 'master', 'stdlib', 'possible', 'override', 'stdlib', 'set', 'function', 'adding', 'bash', 'file', 'config', 'direnv', 'direnvrc', 'file', 'loaded', 'content', 'made', 'available', 'envrc', 'file', 'direnv', 'loading', 'envrc', 'current', 'shell', 'creating', 'new', 'bash', 'sub', 'process', 'load', 'stdlib', 'direnvrc', 'envrc', 'export', 'environment', 'diff', 'back', 'original', 'shell', 'allows', 'direnv', 'record', 'environment', 'change', 'accurately', 'also', 'work', 'sort', 'shell', 'also', 'mean', 'alias', 'function', 'exportable', 'right', 'now', 'contributing', 'bug', 'report', 'contribution', 'fork', 'welcome', 'bug', 'form', 'discussion', 'happen', 'http', 'github', 'com', 'direnv', 'direnv', 'issue', 'drop', 'matrix', 'http', 'matrix', 'direnv', 'numtide', 'com', 'chat', 'ask', 'question', 'make', 'sure', 'stay', 'around', 'everyone', 'active', 'day', 'testing', 'run', 'test', 'use', 'command', 'may', 'need', 'install', 'homebrew', 'http', 'brew', 'brew', 'bundle', 'make', 'test', 'complementary', 'project', 'list', 'project', 'might', 'want', 'look', 'using', 'direnv', 'starship', 'http', 'starship', 'cross', 'shell', 'prompt', 'project', 'nix', 'integration', 'http', 'github', 'com', 'direnv', 'direnv', 'wiki', 'nix', 'choose', 'one', 'variety', 'project', 'offering', 'improvement', 'direnv', 'built', 'use_nix', 'implementation', 'related', 'project', 'list', 'project', 'found', 'design', 'space', 'feel', 'free', 'submit', 'new', 'one', 'environment', 'module', 'http', 'module', 'sourceforge', 'net', 'one', 'oldest', 'good', 'way', 'environment', 'loading', 'system', 'autoenv', 'http', 'github', 'com', 'hyperupcall', 'autoenv', 'older', 'popular', 'lightweight', 'zsh', 'autoenv', 'http', 'github', 'com', 'tarrasch', 'zsh', 'autoenv', 'feature', 'rich', 'mixture', 'autoenv', 'smartcd', 'http', 'github', 'com', 'cxreg', 'smartcd', 'enter', 'leave', 'event', 'nesting', 'stashing', 'zsh', 'asdf', 'http', 'github', 'com', 'asdf', 'asdf', 'pure', 'bash', 'solution', 'plugin', 'system', 'asdf', 'direnv', 'http', 'github', 'com', 'asdf', 'community', 'asdf', 'direnv', 'plugin', 'allows', 'using', 'asdf', 'managed', 'tool', 'direnv', 'ondir', 'http', 'github', 'com', 'alecthomas', 'ondir', 'ondir', 'small', 'program', 'automate', 'task', 'specific', 'certain', 'directory', 'shadowenv', 'http', 'shopify', 'github', 'shadowenv', 'expression', 'format', 'define', 'environment', 'change', 'executed', 'quickenv', 'http', 'github', 'com', 'untitaker', 'quickenv', 'alternative', 'loader', 'envrc', 'file', 'doe', 'hook', 'shell', 'favor', 'speed', 'convenience', 'commercial', 'support', 'looking', 'help', 'customization', 'get', 'touch', 'numtide', 'get', 'quote', 'make', 'easy', 'company', 'work', 'open', 'source', 'project', 'http', 'numtide', 'com', 'contact', 'copyright', 'mit', 'licence', 'license', 'copyright', '2019', 'zimbatm', 'contributor', 'http', 'github', 'com', 'direnv', 'direnv', 'graph', 'contributor']]\n"
     ]
    }
   ],
   "source": [
    "n=2\n",
    "tokens = []\n",
    "for lst in lemmatized_tokens:\n",
    "    tokens.append([i for i in lst if not i in en_stop_words if len(i) > n])\n",
    "\n",
    "print(tokens[0:3])\n",
    "# tokens"
   ],
   "metadata": {
    "collapsed": false,
    "ExecuteTime": {
     "end_time": "2024-04-03T01:19:04.980863Z",
     "start_time": "2024-04-03T01:18:45.921353Z"
    }
   },
   "id": "2d25fb521de7a627",
   "execution_count": 19
  },
  {
   "cell_type": "code",
   "outputs": [],
   "source": [
    "from gensim import corpora, models\n",
    "\n",
    "dictionary = corpora.Dictionary(tokens)"
   ],
   "metadata": {
    "collapsed": false,
    "ExecuteTime": {
     "end_time": "2024-04-03T01:19:17.424857Z",
     "start_time": "2024-04-03T01:19:10.882529Z"
    }
   },
   "id": "e9fd852febacdf9b",
   "execution_count": 20
  },
  {
   "cell_type": "code",
   "outputs": [],
   "source": [
    "corpus = [dictionary.doc2bow(text) for text in tokens]\n",
    "\n",
    "import pickle\n",
    "pickle.dump(corpus, open('corpus.pkl', 'wb'))\n",
    "dictionary.save('dictionary.gensim')"
   ],
   "metadata": {
    "collapsed": false,
    "ExecuteTime": {
     "end_time": "2024-04-03T01:19:36.146628Z",
     "start_time": "2024-04-03T01:19:20.758294Z"
    }
   },
   "id": "7162fbca7cadc8d7",
   "execution_count": 21
  },
  {
   "cell_type": "code",
   "outputs": [
    {
     "data": {
      "text/plain": "[(0, 1),\n (1, 1),\n (2, 1),\n (3, 1),\n (4, 7),\n (5, 3),\n (6, 5),\n (7, 2),\n (8, 2),\n (9, 1),\n (10, 1),\n (11, 1),\n (12, 3),\n (13, 4),\n (14, 1),\n (15, 1),\n (16, 1),\n (17, 1),\n (18, 1),\n (19, 1),\n (20, 1),\n (21, 1),\n (22, 2),\n (23, 2),\n (24, 1),\n (25, 1),\n (26, 1),\n (27, 6),\n (28, 1),\n (29, 1),\n (30, 1),\n (31, 1),\n (32, 2),\n (33, 4),\n (34, 6),\n (35, 1),\n (36, 1),\n (37, 20),\n (38, 9),\n (39, 2),\n (40, 1),\n (41, 1),\n (42, 3),\n (43, 4),\n (44, 1),\n (45, 4),\n (46, 1),\n (47, 1),\n (48, 2),\n (49, 1),\n (50, 1),\n (51, 1),\n (52, 1),\n (53, 1),\n (54, 1),\n (55, 1),\n (56, 2),\n (57, 1),\n (58, 1),\n (59, 1),\n (60, 1),\n (61, 1),\n (62, 1),\n (63, 1),\n (64, 3),\n (65, 6),\n (66, 1),\n (67, 1),\n (68, 1),\n (69, 1),\n (70, 2),\n (71, 1),\n (72, 1),\n (73, 1),\n (74, 2),\n (75, 1),\n (76, 2),\n (77, 1),\n (78, 3),\n (79, 1),\n (80, 1),\n (81, 1),\n (82, 1),\n (83, 1),\n (84, 3),\n (85, 3),\n (86, 1),\n (87, 1),\n (88, 1),\n (89, 1),\n (90, 1),\n (91, 1),\n (92, 2),\n (93, 3),\n (94, 1),\n (95, 1),\n (96, 2),\n (97, 1),\n (98, 3),\n (99, 1),\n (100, 1),\n (101, 2),\n (102, 20),\n (103, 36),\n (104, 3),\n (105, 1),\n (106, 1),\n (107, 1),\n (108, 3),\n (109, 2),\n (110, 30),\n (111, 45),\n (112, 1),\n (113, 12),\n (114, 2),\n (115, 1),\n (116, 2),\n (117, 1),\n (118, 2),\n (119, 2),\n (120, 3),\n (121, 1),\n (122, 7),\n (123, 2),\n (124, 3),\n (125, 6),\n (126, 2),\n (127, 1),\n (128, 2),\n (129, 1),\n (130, 6),\n (131, 1),\n (132, 1),\n (133, 1),\n (134, 1),\n (135, 1),\n (136, 1),\n (137, 1),\n (138, 1),\n (139, 1),\n (140, 1),\n (141, 2),\n (142, 1),\n (143, 1),\n (144, 2),\n (145, 1),\n (146, 2),\n (147, 1),\n (148, 1),\n (149, 1),\n (150, 2),\n (151, 1),\n (152, 2),\n (153, 9),\n (154, 1),\n (155, 2),\n (156, 3),\n (157, 2),\n (158, 1),\n (159, 1),\n (160, 1),\n (161, 1),\n (162, 3),\n (163, 1),\n (164, 1),\n (165, 1),\n (166, 1),\n (167, 2),\n (168, 1),\n (169, 6),\n (170, 1),\n (171, 1),\n (172, 1),\n (173, 1),\n (174, 2),\n (175, 4),\n (176, 1),\n (177, 2),\n (178, 1),\n (179, 2),\n (180, 1),\n (181, 1),\n (182, 1),\n (183, 1),\n (184, 1),\n (185, 2),\n (186, 2),\n (187, 1),\n (188, 1),\n (189, 7),\n (190, 2),\n (191, 1),\n (192, 4),\n (193, 5),\n (194, 1),\n (195, 1),\n (196, 3),\n (197, 1),\n (198, 1),\n (199, 6),\n (200, 1),\n (201, 1),\n (202, 5),\n (203, 3),\n (204, 2),\n (205, 1),\n (206, 4),\n (207, 1),\n (208, 1),\n (209, 1),\n (210, 3),\n (211, 1),\n (212, 2),\n (213, 2),\n (214, 1),\n (215, 1),\n (216, 1),\n (217, 1),\n (218, 6),\n (219, 1),\n (220, 1),\n (221, 1),\n (222, 1),\n (223, 1),\n (224, 2),\n (225, 1),\n (226, 4),\n (227, 2),\n (228, 2),\n (229, 1),\n (230, 1),\n (231, 1),\n (232, 2),\n (233, 2),\n (234, 2),\n (235, 1),\n (236, 2),\n (237, 1),\n (238, 1),\n (239, 1),\n (240, 1),\n (241, 1),\n (242, 1),\n (243, 2),\n (244, 1),\n (245, 1),\n (246, 4),\n (247, 2),\n (248, 2),\n (249, 1),\n (250, 1),\n (251, 1),\n (252, 4),\n (253, 1),\n (254, 2),\n (255, 3),\n (256, 1),\n (257, 1),\n (258, 2),\n (259, 1)]"
     },
     "execution_count": 22,
     "metadata": {},
     "output_type": "execute_result"
    }
   ],
   "source": [
    "corpus[0]"
   ],
   "metadata": {
    "collapsed": false,
    "ExecuteTime": {
     "end_time": "2024-04-03T01:19:38.733969Z",
     "start_time": "2024-04-03T01:19:38.693988Z"
    }
   },
   "id": "35459c25e809bf55",
   "execution_count": 22
  },
  {
   "cell_type": "code",
   "outputs": [],
   "source": [
    "import gensim\n",
    "ldamodel_3 = gensim.models.ldamodel.LdaModel(corpus, num_topics=3, id2word = dictionary, passes=20)\n",
    "ldamodel_3.save('model3.gensim')\n",
    "ldamodel_4 = gensim.models.ldamodel.LdaModel(corpus, num_topics=3, id2word = dictionary, passes=20)\n",
    "ldamodel_4.save('model4.gensim')"
   ],
   "metadata": {
    "collapsed": false,
    "ExecuteTime": {
     "end_time": "2024-04-03T01:25:34.476826Z",
     "start_time": "2024-04-03T01:19:48.290883Z"
    }
   },
   "id": "fc037a38edfddcc1",
   "execution_count": 23
  },
  {
   "cell_type": "code",
   "outputs": [
    {
     "name": "stdout",
     "output_type": "stream",
     "text": [
      "(0, '0.016*\"http\" + 0.014*\"com\" + 0.013*\"github\"') \n",
      "\n",
      "(1, '0.019*\"http\" + 0.014*\"com\" + 0.010*\"github\"') \n",
      "\n",
      "(2, '0.080*\"http\" + 0.048*\"com\" + 0.033*\"github\"') \n"
     ]
    }
   ],
   "source": [
    "for el in ldamodel_3.print_topics(num_topics=3, num_words=3):\n",
    "    print(el,'\\n')\n"
   ],
   "metadata": {
    "collapsed": false,
    "ExecuteTime": {
     "end_time": "2024-04-03T01:25:43.565504Z",
     "start_time": "2024-04-03T01:25:43.523707Z"
    }
   },
   "id": "6cd90e1b9c5d9874",
   "execution_count": 24
  },
  {
   "cell_type": "code",
   "outputs": [
    {
     "name": "stdout",
     "output_type": "stream",
     "text": [
      "(0, '0.021*\"http\" + 0.018*\"com\" + 0.016*\"github\"') \n",
      "\n",
      "(1, '0.081*\"http\" + 0.046*\"com\" + 0.029*\"github\"') \n",
      "\n",
      "(2, '0.023*\"http\" + 0.016*\"com\" + 0.012*\"github\"') \n"
     ]
    }
   ],
   "source": [
    "for el in ldamodel_4.print_topics(num_topics=3, num_words=3):\n",
    "    print(el,'\\n')\n"
   ],
   "metadata": {
    "collapsed": false,
    "ExecuteTime": {
     "end_time": "2024-04-03T01:25:48.814771Z",
     "start_time": "2024-04-03T01:25:48.792915Z"
    }
   },
   "id": "bca890aaf9181063",
   "execution_count": 25
  },
  {
   "cell_type": "code",
   "outputs": [],
   "source": [
    "dictionary = gensim.corpora.Dictionary.load('dictionary.gensim')"
   ],
   "metadata": {
    "collapsed": false,
    "ExecuteTime": {
     "end_time": "2024-04-03T01:25:52.836919Z",
     "start_time": "2024-04-03T01:25:52.610844Z"
    }
   },
   "id": "37e98672eacebbfe",
   "execution_count": 26
  },
  {
   "cell_type": "code",
   "outputs": [],
   "source": [
    "corpus = pickle.load(open('corpus.pkl', 'rb'))"
   ],
   "metadata": {
    "collapsed": false,
    "ExecuteTime": {
     "end_time": "2024-04-03T01:26:02.274749Z",
     "start_time": "2024-04-03T01:26:01.123551Z"
    }
   },
   "id": "d42458db6cd4d66b",
   "execution_count": 27
  },
  {
   "cell_type": "code",
   "outputs": [],
   "source": [
    "lda = gensim.models.ldamodel.LdaModel.load('model3.gensim')"
   ],
   "metadata": {
    "collapsed": false,
    "ExecuteTime": {
     "end_time": "2024-04-03T01:26:04.615091Z",
     "start_time": "2024-04-03T01:26:04.354054Z"
    }
   },
   "id": "7a42addc490986d1",
   "execution_count": 28
  },
  {
   "cell_type": "code",
   "outputs": [
    {
     "name": "stdout",
     "output_type": "stream",
     "text": [
      "Readme 1 Topics (Model 3):\n",
      "Topic 1: Probability 0.954727053642273\n",
      "Topic 2: Probability 0.04464356228709221\n",
      "\n",
      "\n",
      "Readme 2 Topics (Model 3):\n",
      "Topic 1: Probability 0.17346502840518951\n",
      "Topic 2: Probability 0.825884997844696\n",
      "\n",
      "\n",
      "Readme 3 Topics (Model 3):\n",
      "Topic 0: Probability 0.09684497863054276\n",
      "Topic 1: Probability 0.8593143820762634\n",
      "Topic 2: Probability 0.0438406728208065\n",
      "\n",
      "\n",
      "Readme 4 Topics (Model 3):\n",
      "Topic 0: Probability 0.9971430897712708\n",
      "\n"
     ]
    }
   ],
   "source": [
    "topic_distributions_3 = [ldamodel_3.get_document_topics(doc) for doc in corpus]\n",
    "for i, (readme, topics_3) in enumerate(zip(doc_set, topic_distributions_3)):\n",
    "    print(f\"Readme {i+1} Topics (Model 3):\")\n",
    "    for topic, prob in topics_3:\n",
    "        print(f\"Topic {topic}: Probability {prob}\")\n",
    "    print(\"\\n\")\n",
    "    if i >= 3:\n",
    "        break\n",
    "    "
   ],
   "metadata": {
    "collapsed": false,
    "ExecuteTime": {
     "end_time": "2024-04-03T01:57:21.451994Z",
     "start_time": "2024-04-03T01:57:14.969791Z"
    }
   },
   "id": "997b80c51e0497dc",
   "execution_count": 36
  },
  {
   "cell_type": "code",
   "outputs": [
    {
     "name": "stderr",
     "output_type": "stream",
     "text": [
      "/Users/jbenitezg/Documents/GitHub/ECI-MS-Thesis/topic-analysis/lda/.venv/lib/python3.12/site-packages/joblib/externals/loky/backend/fork_exec.py:38: DeprecationWarning: This process (pid=20417) is multi-threaded, use of fork() may lead to deadlocks in the child.\n",
      "  pid = os.fork()\n",
      "/Users/jbenitezg/Documents/GitHub/ECI-MS-Thesis/topic-analysis/lda/.venv/lib/python3.12/site-packages/joblib/_utils.py:38: DeprecationWarning: ast.Num is deprecated and will be removed in Python 3.14; use ast.Constant instead\n",
      "  if isinstance(node, ast.Num):  # <number>\n",
      "/Users/jbenitezg/Documents/GitHub/ECI-MS-Thesis/topic-analysis/lda/.venv/lib/python3.12/site-packages/joblib/_utils.py:38: DeprecationWarning: ast.Num is deprecated and will be removed in Python 3.14; use ast.Constant instead\n",
      "  if isinstance(node, ast.Num):  # <number>\n",
      "/Users/jbenitezg/Documents/GitHub/ECI-MS-Thesis/topic-analysis/lda/.venv/lib/python3.12/site-packages/joblib/_utils.py:38: DeprecationWarning: ast.Num is deprecated and will be removed in Python 3.14; use ast.Constant instead\n",
      "  if isinstance(node, ast.Num):  # <number>\n",
      "/Users/jbenitezg/Documents/GitHub/ECI-MS-Thesis/topic-analysis/lda/.venv/lib/python3.12/site-packages/joblib/_utils.py:39: DeprecationWarning: Attribute n is deprecated and will be removed in Python 3.14; use value instead\n",
      "  return node.n\n",
      "/Users/jbenitezg/Documents/GitHub/ECI-MS-Thesis/topic-analysis/lda/.venv/lib/python3.12/site-packages/joblib/_utils.py:38: DeprecationWarning: ast.Num is deprecated and will be removed in Python 3.14; use ast.Constant instead\n",
      "  if isinstance(node, ast.Num):  # <number>\n",
      "/Users/jbenitezg/Documents/GitHub/ECI-MS-Thesis/topic-analysis/lda/.venv/lib/python3.12/site-packages/joblib/_utils.py:39: DeprecationWarning: Attribute n is deprecated and will be removed in Python 3.14; use value instead\n",
      "  return node.n\n",
      "/Users/jbenitezg/Documents/GitHub/ECI-MS-Thesis/topic-analysis/lda/.venv/lib/python3.12/site-packages/joblib/externals/loky/backend/fork_exec.py:38: DeprecationWarning: This process (pid=20417) is multi-threaded, use of fork() may lead to deadlocks in the child.\n",
      "  pid = os.fork()\n",
      "/Users/jbenitezg/Documents/GitHub/ECI-MS-Thesis/topic-analysis/lda/.venv/lib/python3.12/site-packages/joblib/externals/loky/backend/fork_exec.py:38: DeprecationWarning: This process (pid=20417) is multi-threaded, use of fork() may lead to deadlocks in the child.\n",
      "  pid = os.fork()\n",
      "/Users/jbenitezg/Documents/GitHub/ECI-MS-Thesis/topic-analysis/lda/.venv/lib/python3.12/site-packages/joblib/externals/loky/backend/fork_exec.py:38: DeprecationWarning: This process (pid=20417) is multi-threaded, use of fork() may lead to deadlocks in the child.\n",
      "  pid = os.fork()\n",
      "/Users/jbenitezg/Documents/GitHub/ECI-MS-Thesis/topic-analysis/lda/.venv/lib/python3.12/site-packages/joblib/externals/loky/backend/fork_exec.py:38: DeprecationWarning: This process (pid=20417) is multi-threaded, use of fork() may lead to deadlocks in the child.\n",
      "  pid = os.fork()\n",
      "/Users/jbenitezg/Documents/GitHub/ECI-MS-Thesis/topic-analysis/lda/.venv/lib/python3.12/site-packages/joblib/externals/loky/backend/fork_exec.py:38: DeprecationWarning: This process (pid=20417) is multi-threaded, use of fork() may lead to deadlocks in the child.\n",
      "  pid = os.fork()\n",
      "/Users/jbenitezg/Documents/GitHub/ECI-MS-Thesis/topic-analysis/lda/.venv/lib/python3.12/site-packages/joblib/externals/loky/backend/fork_exec.py:38: DeprecationWarning: This process (pid=20417) is multi-threaded, use of fork() may lead to deadlocks in the child.\n",
      "  pid = os.fork()\n",
      "/Users/jbenitezg/Documents/GitHub/ECI-MS-Thesis/topic-analysis/lda/.venv/lib/python3.12/site-packages/joblib/externals/loky/backend/fork_exec.py:38: DeprecationWarning: This process (pid=20417) is multi-threaded, use of fork() may lead to deadlocks in the child.\n",
      "  pid = os.fork()\n",
      "/Users/jbenitezg/Documents/GitHub/ECI-MS-Thesis/topic-analysis/lda/.venv/lib/python3.12/site-packages/joblib/externals/loky/backend/fork_exec.py:38: DeprecationWarning: This process (pid=20417) is multi-threaded, use of fork() may lead to deadlocks in the child.\n",
      "  pid = os.fork()\n"
     ]
    }
   ],
   "source": [
    "import pyLDAvis.gensim\n",
    "lda_display = pyLDAvis.gensim.prepare(lda, corpus, dictionary, sort_topics=False)"
   ],
   "metadata": {
    "collapsed": false,
    "ExecuteTime": {
     "end_time": "2024-04-03T01:26:20.218902Z",
     "start_time": "2024-04-03T01:26:06.463764Z"
    }
   },
   "id": "5030d57c658e1429",
   "execution_count": 29
  },
  {
   "cell_type": "code",
   "outputs": [
    {
     "data": {
      "text/plain": "<IPython.core.display.HTML object>",
      "text/html": "\n<link rel=\"stylesheet\" type=\"text/css\" href=\"https://cdn.jsdelivr.net/gh/bmabey/pyLDAvis@3.4.0/pyLDAvis/js/ldavis.v1.0.0.css\">\n\n\n<div id=\"ldavis_el20417155257628963933321308\" style=\"background-color:white;\"></div>\n<script type=\"text/javascript\">\n\nvar ldavis_el20417155257628963933321308_data = {\"mdsDat\": {\"x\": [-0.11130342326650047, -0.11452563769776179, 0.22582906096426222], \"y\": [-0.10117737295658481, 0.10021950402590912, 0.0009578689306756681], \"topics\": [1, 2, 3], \"cluster\": [1, 1, 1], \"Freq\": [37.395000634942264, 43.40255561250221, 19.202443752555524]}, \"tinfo\": {\"Term\": [\"http\", \"com\", \"github\", \"img\", \"net\", \"musana\", \"fuzzuli\", \"err\", \"src\", \"string\", \"href\", \"func\", \"shield\", \"badge\", \"width\", \"png\", \"docker\", \"kubernetes\", \"center\", \"return\", \"error\", \"alt\", \"align\", \"image\", \"style\", \"nil\", \"www\", \"githubusercontent\", \"fmt\", \"svg\", \"err\", \"func\", \"nil\", \"fmt\", \"println\", \"struct\", \"ctx\", \"allocs\", \"printf\", \"panic\", \"row\", \"float64\", \"int64\", \"len\", \"pterm\", \"resp\", \"conn\", \"val\", \"structs\", \"chan\", \"defer\", \"pointer\", \"responsewriter\", \"uint64\", \"slog\", \"str\", \"dongle\", \"sprintf\", \"unmarshal\", \"uint32\", \"int\", \"bool\", \"return\", \"slice\", \"byte\", \"logger\", \"carbon\", \"string\", \"handler\", \"error\", \"encoding\", \"map\", \"body\", \"function\", \"import\", \"transaction\", \"column\", \"context\", \"parse\", \"type\", \"field\", \"method\", \"package\", \"time\", \"value\", \"library\", \"json\", \"example\", \"result\", \"interface\", \"main\", \"data\", \"github\", \"request\", \"com\", \"can\", \"http\", \"get\", \"name\", \"code\", \"file\", \"use\", \"will\", \"test\", \"golang\", \"org\", \"user\", \"pod\", \"terraform\", \"kubectl\", \"helm\", \"kube\", \"ssh\", \"exporter\", \"vault\", \"manifest\", \"iam\", \"csi\", \"apiversion\", \"ibm_articles\", \"openshift\", \"kubeconfig\", \"cni\", \"ec2\", \"tunnel\", \"sigs\", \"systemd\", \"victoriametrics\", \"probe\", \"configmap\", \"kustomize\", \"gpg\", \"bitnami\", \"crd\", \"sbom\", \"quay\", \"sidecar\", \"kubernetes\", \"cluster\", \"aws\", \"provider\", \"k8s\", \"deployment\", \"registry\", \"dns\", \"cert\", \"prometheus\", \"certificate\", \"ingres\", \"volume\", \"secret\", \"container\", \"namespace\", \"azure\", \"docker\", \"deploy\", \"credential\", \"nginx\", \"sudo\", \"proxy\", \"service\", \"agent\", \"configuration\", \"yaml\", \"resource\", \"port\", \"environment\", \"local\", \"host\", \"cloud\", \"config\", \"operator\", \"install\", \"run\", \"server\", \"command\", \"running\", \"version\", \"can\", \"file\", \"build\", \"release\", \"default\", \"will\", \"bash\", \"use\", \"doc\", \"http\", \"using\", \"com\", \"name\", \"github\", \"image\", \"user\", \"example\", \"api\", \"key\", \"musana\", \"fuzzuli\", \"leetcode\", \"avatar\", \"logocolor\", \"ffffff\", \"kbd\", \"rar\", \"lingua\", \"pemistahl\", \"halfrost\", \"u2fftug6kq\", \"100px\", \"msn\", \"minerproxy\", \"podcast\", \"opencollective\", \"alfredworkflow\", \"chatgpt\", \"packal\", \"bilibili\", \"favicons\", \"alfred\", \"valign\", \"sana\", \"musa\", \"musan\", \"usana\", \"ana\", \"uli\", \"href\", \"sponsor\", \"bz2\", \"war\", \"episode\", \"charm\", \"career\", \"_blank\", \"width\", \"alt\", \"center\", \"ipfs\", \"net\", \"align\", \"img\", \"githubusercontent\", \"logo\", \"src\", \"height\", \"style\", \"shield\", \"http\", \"color\", \"png\", \"com\", \"medium\", \"github\", \"badge\", \"www\", \"static\", \"svg\", \"sub\", \"master\", \"image\", \"raw\", \"license\", \"doc\", \"org\", \"main\", \"golang\", \"api\"], \"Freq\": [312438.0, 214524.0, 161620.0, 42211.0, 29217.0, 23046.0, 21851.0, 31481.0, 25521.0, 43088.0, 15415.0, 22096.0, 18054.0, 26338.0, 12105.0, 19995.0, 31304.0, 21345.0, 11332.0, 18054.0, 22045.0, 10715.0, 10905.0, 29973.0, 12571.0, 14566.0, 19094.0, 10777.0, 14089.0, 24383.0, 31481.28793807101, 22095.759630786808, 14565.859932515577, 14089.087376461845, 8517.769531274416, 7865.7799162572, 5376.058932761883, 3439.4091120273033, 3696.317687940275, 3619.797161999072, 2643.2502122177007, 1647.7623648471963, 1649.5054312911989, 1515.8176238536794, 1469.105785129938, 1358.4236807628238, 1405.797184416391, 1126.6542794104837, 1144.6017700998193, 1050.2671096484369, 1958.0936762438243, 1539.0068195695724, 929.7400677790504, 896.9285359238747, 876.5550541799756, 996.1467837851561, 785.2962261472265, 793.4178220964457, 689.5212507480835, 694.0239829148694, 11820.239696345603, 4265.686953967339, 17666.149851668466, 4200.057523721581, 8374.112297829786, 2933.787737656887, 1471.2235676579107, 39123.8334758181, 5227.812336793675, 20297.468039651634, 2555.2872031395327, 7618.942971982253, 3737.0639692992795, 13667.002450051434, 9530.04593251387, 3584.3253278487196, 2801.2037282956016, 9534.775358816409, 2912.9475661300094, 22524.16197933134, 7973.619021500575, 8066.2593877167, 18345.380962188297, 17973.89544018469, 19316.635956788647, 9833.417711205304, 16062.12672195048, 27368.5642733036, 8389.243733482732, 9326.112160843402, 16731.065873231946, 16519.24760221211, 49509.39897477382, 13185.616884342611, 55917.60062776099, 26956.258345278744, 64022.40393033831, 15361.96426202169, 18470.96360161171, 14963.885721621946, 21702.23134419314, 19228.2848164269, 17631.315807940162, 14079.7931442723, 12621.834707887949, 14376.70925606077, 13412.652993995918, 7477.090556743583, 7692.463063317238, 6749.847721484367, 6064.611629714129, 3498.4354145181615, 5663.376423802533, 2345.17304105675, 2523.718986633198, 2160.274385054814, 1787.077982394566, 1551.6476740936428, 1440.899336265982, 1238.8244523626292, 1181.6660247587554, 1106.5048201901284, 1063.057751621194, 1603.1445572991283, 978.0067238889259, 961.2930546946491, 1263.0714749811493, 1048.0670492842787, 901.6089945322204, 792.6173373687033, 787.6817284224135, 780.9910222393045, 760.9652849153548, 755.5421123054272, 764.3266372204996, 688.5019766029495, 712.7739382018289, 21310.997893836757, 14854.544476908475, 11656.28201932215, 10368.993606841645, 5218.625995970916, 6013.849588739441, 4335.752311469399, 4835.272962642865, 3162.7340430905706, 5230.490616912637, 5324.780019416833, 1901.9846642806524, 3419.1080807067638, 9571.479322543822, 13916.95704463968, 4824.318812412674, 4397.577231350553, 29590.340349432765, 5300.636975192615, 3610.4098529040148, 3477.1391087186585, 4339.962116915867, 10073.900812575588, 21918.843975126998, 5042.86556296264, 15237.781392232737, 15289.54257584912, 11449.418851189816, 11997.571833586653, 10611.856523003296, 10693.712326347204, 10552.20037074746, 10431.246579909495, 17559.69810836693, 8166.51956406883, 20139.27434120018, 30759.74576446642, 24094.399225575926, 22577.154940864053, 11126.036544346049, 19122.57465733155, 41006.874581949465, 33848.13631124914, 20442.069981590328, 17627.30095455482, 21361.405774899886, 25843.237701990813, 14605.800711664006, 26531.75623860453, 23089.416903907848, 86944.136494682, 19609.40888878193, 61354.73908268379, 21123.92123355011, 44965.74268852009, 17548.200314755362, 18391.25080204825, 21428.046952892753, 15720.379427781245, 14818.464501894721, 23045.818863444096, 21850.340020645708, 4283.654094939483, 4103.267525443191, 3900.3171642736743, 2750.699848038147, 2622.809717165767, 1941.7615525094338, 1684.5007944261286, 1594.8962054618105, 1444.373745743436, 1273.6011785351661, 1290.4998533041157, 1044.5520487881838, 1290.183438077187, 926.3238495214107, 1017.5014658454326, 772.7046071226556, 1308.640370269971, 739.0717117718888, 723.6601301903111, 664.5608880615838, 655.6793695101434, 734.6591788360615, 616.64972640606, 614.8532818741317, 614.8532818741317, 614.8532818741317, 618.6987777067931, 597.8877629290134, 15152.065518504178, 3810.9883586178453, 1891.0974032420504, 1930.0593264820677, 1102.9439686125809, 891.0885620767802, 775.1349913131115, 1497.1012492138768, 11467.055955974645, 10041.281003863372, 10540.050412614703, 992.1241473370416, 25803.17183785156, 9985.562967844104, 35553.53391009022, 9192.72682137286, 8196.426576832291, 20293.79567585539, 3739.5453031289208, 10100.895967784478, 13774.723813172863, 161471.99860502305, 7146.415606450076, 13390.101139156892, 97252.40524651346, 4287.372616027021, 67145.18862913539, 15593.025515020465, 10928.321552686419, 5365.91700085826, 11727.151607677815, 4752.968632056948, 9985.124890378629, 11181.05675571594, 5954.0929763507065, 9654.792063800454, 11597.925293832383, 9460.204405292761, 8991.827671534224, 7034.078626702686, 7311.80899804217], \"Total\": [312438.0, 214524.0, 161620.0, 42211.0, 29217.0, 23046.0, 21851.0, 31481.0, 25521.0, 43088.0, 15415.0, 22096.0, 18054.0, 26338.0, 12105.0, 19995.0, 31304.0, 21345.0, 11332.0, 18054.0, 22045.0, 10715.0, 10905.0, 29973.0, 12571.0, 14566.0, 19094.0, 10777.0, 14089.0, 24383.0, 31481.92031561111, 22096.397667712183, 14566.501265041035, 14089.742022202654, 8518.401731918348, 7866.415665911978, 5376.704948341144, 3440.022772614921, 3697.032136524632, 3620.717295999873, 2643.9687122065384, 1648.3789738279936, 1650.147448021393, 1516.4870012669428, 1469.8047218690772, 1359.0887544018203, 1406.4982276699386, 1127.2875137483534, 1145.2556776677561, 1050.9134997368533, 1959.3182338233269, 1540.0042266054197, 930.378909059554, 897.5456399878567, 877.1734733631041, 996.8866250995401, 785.9166815029191, 794.0818990802745, 690.137645911278, 694.6539309018269, 11841.451583873697, 4289.113087468991, 18054.66991128161, 4238.8350850454135, 8533.53060086992, 2985.5201235609466, 1482.6391952317038, 43088.6574960415, 5436.581560674834, 22045.590462372827, 2635.7311686479648, 8253.338414140442, 3938.1899975289034, 15603.043991762912, 10666.859806301734, 3783.77383978971, 2912.3067233079296, 10963.165518837779, 3081.9819931737384, 29440.26853736606, 9344.10457093567, 9546.435118354606, 24579.391706131242, 24627.239626360493, 27927.467229362785, 12921.913217308265, 23729.678153061977, 50022.12616387571, 10955.972520454066, 12681.936994984091, 29805.52233101181, 29577.76375427542, 161620.3302924293, 21828.010431582854, 214524.74495695822, 68256.95847131158, 312438.53903004335, 28208.026067831168, 39623.45718305963, 27932.555757380676, 55811.34045452268, 45983.132208651645, 43487.377128197135, 29517.109718153926, 23036.5631324424, 33937.44666590729, 33034.8311854798, 7477.761818988638, 7693.17257202719, 6750.503926957955, 6065.3558541713755, 3499.088443793755, 5664.539701395864, 2345.840396189368, 2524.4687055712607, 2160.9919117431327, 1787.7571137505474, 1552.2950510562332, 1441.5524817286232, 1239.464707381129, 1182.3494159239965, 1107.1713535553108, 1063.7038265934339, 1604.1263322127097, 978.6864110393456, 961.9760974291999, 1264.0084239754508, 1048.8850972212388, 902.3418449110086, 793.2721316669613, 788.3492532969284, 781.6634237905153, 761.6258735515651, 756.2032811648547, 765.0477314878664, 689.1632509481952, 713.4806589616281, 21345.20601413643, 14891.747171667324, 11696.095613256193, 10400.018720206288, 5232.234489471992, 6050.398998264074, 4348.277528980464, 4865.282557159467, 3170.276074996708, 5286.079245956994, 5388.304607468618, 1905.1265017485737, 3450.635031811657, 9804.087851385777, 14377.002373759358, 4901.6973906413095, 4462.222026138949, 31304.347811925974, 5421.658293422394, 3682.378617172238, 3542.768213784489, 4456.6868740779955, 10721.823174117144, 24306.343955566037, 5230.305835142018, 16794.856170997686, 16981.579266790657, 12592.279730741915, 13411.770357351275, 11824.469700589107, 11927.07661965515, 11764.80445094271, 11872.312548156598, 21516.975739495945, 8996.699820807318, 25865.909854226527, 43717.33629465675, 33004.79396635161, 30803.22638758287, 13102.06831682865, 25991.665758278432, 68256.95847131158, 55811.34045452268, 29205.692169255293, 24358.382154079758, 32814.640047861925, 43487.377128197135, 19276.32951723464, 45983.132208651645, 38453.311147293534, 312438.53903004335, 32024.78037748485, 214524.74495695822, 39623.45718305963, 161620.3302924293, 29973.306852147725, 33034.8311854798, 50022.12616387571, 32206.261354606002, 26791.96933583619, 23046.492729970752, 21851.013700494837, 4284.339984897121, 4104.018454601291, 3901.1825796172143, 2751.5489887764084, 2623.6231015104563, 1942.514966353186, 1685.1847269436537, 1595.5724964914157, 1445.0558053033938, 1274.2802270957134, 1291.1897010646528, 1045.2258289031786, 1291.0909281720633, 927.0679106620297, 1018.3491915249967, 773.3875766192501, 1309.8426238750155, 739.7534799865721, 724.3583623426925, 665.2405968726453, 656.3685078745524, 735.4318418711325, 617.3234993300871, 615.5269580882414, 615.5269580882414, 615.5269580882414, 619.3838064308541, 598.5621093643067, 15415.076184509833, 3839.8521911075613, 1897.4762423009581, 1939.024334258551, 1105.19047577829, 892.3967949350719, 776.5852249873619, 1510.7176323482804, 12105.33702875903, 10715.26258184536, 11332.838649623143, 999.7170745541006, 29217.628753331126, 10905.072977010603, 42211.944421208624, 10777.351026354816, 9531.95752347079, 25521.96208874262, 4131.017631596855, 12571.91708369003, 18054.006773311048, 312438.53903004335, 9308.626616683716, 19995.782190664955, 214524.74495695822, 5279.459533172696, 161620.3302924293, 26338.1331069819, 19094.89883863066, 7512.457709232176, 24383.33631738431, 6434.929959142595, 21649.35268801204, 29973.306852147725, 9633.090719282984, 25977.575496397472, 38453.311147293534, 33937.44666590729, 29805.52233101181, 23036.5631324424, 32206.261354606002], \"Category\": [\"Default\", \"Default\", \"Default\", \"Default\", \"Default\", \"Default\", \"Default\", \"Default\", \"Default\", \"Default\", \"Default\", \"Default\", \"Default\", \"Default\", \"Default\", \"Default\", \"Default\", \"Default\", \"Default\", \"Default\", \"Default\", \"Default\", \"Default\", \"Default\", \"Default\", \"Default\", \"Default\", \"Default\", \"Default\", \"Default\", \"Topic1\", \"Topic1\", \"Topic1\", \"Topic1\", \"Topic1\", \"Topic1\", \"Topic1\", \"Topic1\", \"Topic1\", \"Topic1\", \"Topic1\", \"Topic1\", \"Topic1\", \"Topic1\", \"Topic1\", \"Topic1\", \"Topic1\", \"Topic1\", \"Topic1\", \"Topic1\", \"Topic1\", \"Topic1\", \"Topic1\", \"Topic1\", \"Topic1\", \"Topic1\", \"Topic1\", \"Topic1\", \"Topic1\", \"Topic1\", \"Topic1\", \"Topic1\", \"Topic1\", \"Topic1\", \"Topic1\", \"Topic1\", \"Topic1\", \"Topic1\", \"Topic1\", \"Topic1\", \"Topic1\", \"Topic1\", \"Topic1\", \"Topic1\", \"Topic1\", \"Topic1\", \"Topic1\", \"Topic1\", \"Topic1\", \"Topic1\", \"Topic1\", \"Topic1\", \"Topic1\", \"Topic1\", \"Topic1\", \"Topic1\", \"Topic1\", \"Topic1\", \"Topic1\", \"Topic1\", \"Topic1\", \"Topic1\", \"Topic1\", \"Topic1\", \"Topic1\", \"Topic1\", \"Topic1\", \"Topic1\", \"Topic1\", \"Topic1\", \"Topic1\", \"Topic1\", \"Topic1\", \"Topic1\", \"Topic1\", \"Topic1\", \"Topic1\", \"Topic2\", \"Topic2\", \"Topic2\", \"Topic2\", \"Topic2\", \"Topic2\", \"Topic2\", \"Topic2\", \"Topic2\", \"Topic2\", \"Topic2\", \"Topic2\", \"Topic2\", \"Topic2\", \"Topic2\", \"Topic2\", \"Topic2\", \"Topic2\", \"Topic2\", \"Topic2\", \"Topic2\", \"Topic2\", \"Topic2\", \"Topic2\", \"Topic2\", \"Topic2\", \"Topic2\", \"Topic2\", \"Topic2\", \"Topic2\", \"Topic2\", \"Topic2\", \"Topic2\", \"Topic2\", \"Topic2\", \"Topic2\", \"Topic2\", \"Topic2\", \"Topic2\", \"Topic2\", \"Topic2\", \"Topic2\", \"Topic2\", \"Topic2\", \"Topic2\", \"Topic2\", \"Topic2\", \"Topic2\", \"Topic2\", \"Topic2\", \"Topic2\", \"Topic2\", \"Topic2\", \"Topic2\", \"Topic2\", \"Topic2\", \"Topic2\", \"Topic2\", \"Topic2\", \"Topic2\", \"Topic2\", \"Topic2\", \"Topic2\", \"Topic2\", \"Topic2\", \"Topic2\", \"Topic2\", \"Topic2\", \"Topic2\", \"Topic2\", \"Topic2\", \"Topic2\", \"Topic2\", \"Topic2\", \"Topic2\", \"Topic2\", \"Topic2\", \"Topic2\", \"Topic2\", \"Topic2\", \"Topic2\", \"Topic2\", \"Topic2\", \"Topic2\", \"Topic2\", \"Topic2\", \"Topic2\", \"Topic2\", \"Topic2\", \"Topic2\", \"Topic3\", \"Topic3\", \"Topic3\", \"Topic3\", \"Topic3\", \"Topic3\", \"Topic3\", \"Topic3\", \"Topic3\", \"Topic3\", \"Topic3\", \"Topic3\", \"Topic3\", \"Topic3\", \"Topic3\", \"Topic3\", \"Topic3\", \"Topic3\", \"Topic3\", \"Topic3\", \"Topic3\", \"Topic3\", \"Topic3\", \"Topic3\", \"Topic3\", \"Topic3\", \"Topic3\", \"Topic3\", \"Topic3\", \"Topic3\", \"Topic3\", \"Topic3\", \"Topic3\", \"Topic3\", \"Topic3\", \"Topic3\", \"Topic3\", \"Topic3\", \"Topic3\", \"Topic3\", \"Topic3\", \"Topic3\", \"Topic3\", \"Topic3\", \"Topic3\", \"Topic3\", \"Topic3\", \"Topic3\", \"Topic3\", \"Topic3\", \"Topic3\", \"Topic3\", \"Topic3\", \"Topic3\", \"Topic3\", \"Topic3\", \"Topic3\", \"Topic3\", \"Topic3\", \"Topic3\", \"Topic3\", \"Topic3\", \"Topic3\", \"Topic3\", \"Topic3\", \"Topic3\", \"Topic3\", \"Topic3\", \"Topic3\", \"Topic3\", \"Topic3\"], \"logprob\": [30.0, 29.0, 28.0, 27.0, 26.0, 25.0, 24.0, 23.0, 22.0, 21.0, 20.0, 19.0, 18.0, 17.0, 16.0, 15.0, 14.0, 13.0, 12.0, 11.0, 10.0, 9.0, 8.0, 7.0, 6.0, 5.0, 4.0, 3.0, 2.0, 1.0, -4.821, -5.175, -5.5917, -5.6249, -6.1282, -6.2078, -6.5884, -7.035, -6.963, -6.9839, -7.2983, -7.7709, -7.7699, -7.8544, -7.8857, -7.964, -7.9297, -8.1511, -8.1353, -8.2213, -7.5984, -7.8392, -8.3432, -8.3791, -8.4021, -8.2742, -8.512, -8.5017, -8.6421, -8.6356, -5.8005, -6.8197, -5.3987, -6.8352, -6.1452, -7.1941, -7.8843, -4.6036, -6.6164, -5.2598, -7.3322, -6.2397, -6.952, -5.6554, -6.0159, -6.9938, -7.2403, -6.0154, -7.2012, -5.1558, -6.1942, -6.1827, -5.361, -5.3814, -5.3094, -5.9846, -5.4939, -4.9609, -6.1434, -6.0375, -5.4531, -5.4658, -4.3682, -5.6912, -4.2465, -4.9761, -4.1111, -5.5384, -5.3541, -5.5647, -5.1929, -5.314, -5.4007, -5.6256, -5.7349, -5.6047, -5.6741, -6.4075, -6.3791, -6.5098, -6.6169, -7.167, -6.6853, -7.567, -7.4936, -7.6491, -7.8387, -7.98, -8.0541, -8.2052, -8.2524, -8.3181, -8.3582, -7.9474, -8.4416, -8.4588, -8.1858, -8.3724, -8.5229, -8.6517, -8.658, -8.6665, -8.6925, -8.6996, -8.6881, -8.7926, -8.7579, -5.3601, -5.721, -5.9635, -6.0805, -6.7671, -6.6253, -6.9524, -6.8434, -7.2679, -6.7648, -6.747, -7.7764, -7.1899, -6.1605, -5.7862, -6.8457, -6.9383, -5.0319, -6.7515, -7.1355, -7.1731, -6.9515, -6.1094, -5.332, -6.8014, -5.6955, -5.6922, -5.9814, -5.9346, -6.0574, -6.0497, -6.063, -6.0745, -5.5537, -6.3193, -5.4167, -4.9931, -5.2373, -5.3024, -6.01, -5.4685, -4.7056, -4.8974, -5.4017, -5.5499, -5.3577, -5.1673, -5.7379, -5.141, -5.28, -3.9541, -5.4433, -4.3027, -5.3689, -4.6134, -5.5544, -5.5075, -5.3546, -5.6644, -5.7235, -4.4664, -4.5196, -6.149, -6.1921, -6.2428, -6.592, -6.6396, -6.9402, -7.0824, -7.137, -7.2362, -7.362, -7.3488, -7.5603, -7.3491, -7.6804, -7.5865, -7.8617, -7.3349, -7.9062, -7.9273, -8.0125, -8.0259, -7.9122, -8.0873, -8.0902, -8.0902, -8.0902, -8.084, -8.1182, -4.8857, -6.266, -6.9667, -6.9463, -7.5059, -7.7192, -7.8586, -7.2003, -5.1644, -5.2971, -5.2487, -7.6118, -4.3533, -5.3027, -4.0328, -5.3854, -5.5001, -4.5935, -6.2849, -5.2912, -4.981, -2.5195, -5.6372, -5.0093, -3.0265, -6.1482, -3.397, -4.857, -5.2125, -5.9238, -5.1419, -6.0451, -5.3027, -5.1896, -5.8198, -5.3364, -5.153, -5.3568, -5.4075, -5.6531, -5.6144], \"loglift\": [30.0, 29.0, 28.0, 27.0, 26.0, 25.0, 24.0, 23.0, 22.0, 21.0, 20.0, 19.0, 18.0, 17.0, 16.0, 15.0, 14.0, 13.0, 12.0, 11.0, 10.0, 9.0, 8.0, 7.0, 6.0, 5.0, 4.0, 3.0, 2.0, 1.0, 0.9836, 0.9836, 0.9836, 0.9836, 0.9836, 0.9836, 0.9835, 0.9835, 0.9834, 0.9834, 0.9834, 0.9833, 0.9832, 0.9832, 0.9832, 0.9831, 0.9831, 0.9831, 0.9831, 0.983, 0.983, 0.983, 0.9829, 0.9829, 0.9829, 0.9829, 0.9828, 0.9828, 0.9827, 0.9827, 0.9818, 0.9782, 0.9619, 0.9744, 0.9648, 0.9662, 0.9759, 0.8871, 0.9445, 0.901, 0.9526, 0.9037, 0.9312, 0.8512, 0.8709, 0.9295, 0.9447, 0.844, 0.9272, 0.7159, 0.825, 0.8152, 0.6911, 0.6687, 0.615, 0.7105, 0.5934, 0.3806, 0.7167, 0.6763, 0.4062, 0.4011, -0.1995, 0.4796, -0.3609, 0.0546, -0.6015, 0.3759, 0.2204, 0.3595, 0.0391, 0.1117, 0.0808, 0.2434, 0.382, 0.1247, 0.0823, 0.8346, 0.8346, 0.8346, 0.8345, 0.8345, 0.8344, 0.8344, 0.8344, 0.8343, 0.8343, 0.8342, 0.8342, 0.8341, 0.8341, 0.834, 0.834, 0.834, 0.834, 0.8339, 0.8339, 0.8339, 0.8338, 0.8338, 0.8338, 0.8338, 0.8338, 0.8338, 0.8337, 0.8337, 0.8337, 0.833, 0.8322, 0.8312, 0.8317, 0.832, 0.8286, 0.8318, 0.8285, 0.8323, 0.8241, 0.8228, 0.833, 0.8255, 0.8106, 0.8021, 0.8187, 0.8201, 0.7783, 0.8121, 0.8149, 0.816, 0.8081, 0.7723, 0.7313, 0.7982, 0.7374, 0.7297, 0.7395, 0.7232, 0.7265, 0.7255, 0.7259, 0.7052, 0.6314, 0.7378, 0.5844, 0.4831, 0.52, 0.524, 0.6712, 0.5277, 0.3251, 0.3346, 0.4779, 0.5112, 0.4054, 0.3142, 0.5572, 0.2847, 0.3246, -0.4445, 0.3442, -0.4171, 0.2056, -0.4447, 0.2993, 0.249, -0.0131, 0.1174, 0.2424, 1.6501, 1.6501, 1.65, 1.6499, 1.6499, 1.6498, 1.6498, 1.6497, 1.6497, 1.6497, 1.6497, 1.6496, 1.6496, 1.6495, 1.6494, 1.6493, 1.6493, 1.6492, 1.6492, 1.6492, 1.6492, 1.6491, 1.6491, 1.6491, 1.649, 1.649, 1.649, 1.649, 1.649, 1.649, 1.6329, 1.6426, 1.6468, 1.6455, 1.6481, 1.6487, 1.6483, 1.6411, 1.596, 1.5852, 1.5776, 1.6425, 1.5259, 1.562, 1.4785, 1.4911, 1.4992, 1.4209, 1.5506, 1.4313, 1.3796, 0.9901, 1.3858, 1.2491, 0.859, 1.442, 0.7717, 1.1259, 1.0921, 1.3136, 0.9181, 1.3472, 0.8763, 0.664, 1.169, 0.6604, 0.4515, 0.3727, 0.4518, 0.4638, 0.1675]}, \"token.table\": {\"Topic\": [3, 1, 3, 1, 2, 3, 3, 3, 1, 2, 3, 1, 1, 2, 3, 3, 1, 2, 3, 2, 3, 2, 3, 2, 3, 1, 2, 3, 1, 2, 3, 3, 2, 1, 2, 1, 2, 1, 2, 3, 1, 2, 3, 1, 3, 1, 2, 3, 1, 3, 1, 2, 3, 1, 2, 3, 1, 2, 1, 2, 1, 2, 3, 1, 2, 3, 1, 2, 3, 1, 2, 3, 2, 1, 2, 3, 1, 2, 3, 1, 2, 3, 1, 2, 3, 1, 2, 3, 1, 2, 3, 2, 1, 2, 3, 1, 1, 2, 3, 1, 2, 3, 2, 1, 2, 2, 1, 1, 2, 3, 1, 2, 3, 1, 3, 2, 3, 2, 3, 1, 2, 3, 1, 2, 3, 1, 2, 3, 1, 2, 3, 1, 2, 3, 1, 2, 3, 1, 3, 1, 1, 2, 1, 2, 3, 2, 3, 3, 1, 2, 1, 2, 3, 1, 1, 1, 1, 2, 3, 3, 1, 2, 3, 1, 2, 3, 1, 2, 3, 1, 2, 3, 2, 3, 1, 2, 3, 1, 3, 2, 1, 2, 3, 1, 3, 1, 2, 3, 2, 2, 1, 2, 3, 1, 2, 3, 1, 2, 3, 2, 3, 1, 2, 3, 1, 2, 3, 1, 1, 2, 3, 1, 2, 3, 1, 2, 3, 2, 3, 3, 1, 2, 3, 2, 2, 2, 2, 3, 2, 3, 1, 1, 2, 3, 1, 2, 3, 3, 1, 2, 3, 1, 2, 1, 2, 3, 3, 1, 2, 3, 2, 1, 2, 3, 1, 2, 3, 1, 2, 3, 1, 2, 3, 2, 3, 3, 3, 3, 3, 1, 2, 3, 1, 2, 1, 2, 3, 2, 3, 1, 1, 3, 2, 1, 2, 3, 1, 2, 3, 1, 2, 3, 3, 1, 2, 1, 2, 3, 3, 1, 2, 3, 2, 3, 1, 2, 1, 2, 3, 1, 1, 2, 1, 2, 3, 1, 2, 1, 2, 3, 1, 2, 3, 1, 2, 3, 2, 3, 1, 2, 3, 1, 2, 3, 1, 2, 3, 1, 1, 1, 2, 3, 1, 2, 1, 1, 2, 3, 1, 2, 3, 3, 2, 1, 2, 3, 1, 2, 3, 1, 2, 3, 1, 2, 3, 2, 2, 1, 3, 1, 1, 3, 1, 1, 2, 3, 2, 3, 1, 2, 3, 1, 1, 2, 3, 1, 1, 1, 2, 3, 1, 2, 3, 1, 2, 3, 1, 2, 3, 1, 2, 2, 1, 2, 3, 1, 2, 3, 1, 2, 3, 2, 1, 2, 3, 3, 1, 1, 3, 1, 3, 1, 2, 3, 1, 2, 3, 1, 2, 3, 1, 3, 1, 2, 2, 1, 2, 3, 2, 1, 2, 1, 2, 3, 1, 2, 3, 1, 2, 3, 1, 2, 3, 1, 2, 3], \"Freq\": [0.9990786008719929, 0.008605181882859619, 0.9909197906646806, 0.02523752991901588, 0.964188358951493, 0.010515637466256616, 0.9994385655769109, 0.9994988584883348, 0.03402086357258857, 0.050343542052159365, 0.915720602792101, 0.999702684347597, 0.027250848756121885, 0.03565008296177589, 0.9370745628774653, 0.9993803415154399, 0.2848514423636438, 0.4881038449919861, 0.2270365976196821, 0.9996167453244846, 0.9997518396633551, 0.9965718805161998, 0.0033344460655569488, 0.9856076130316359, 0.0143426301123294, 0.2023302099034252, 0.2056334052987335, 0.592031331023477, 0.1764340040441425, 0.7577168665300633, 0.06588391212468714, 0.9995052692681927, 0.9991782401658094, 0.9489130799542064, 0.05103867515943149, 0.9946112198495028, 0.005362413984186255, 0.19208584297500825, 0.6999320502843348, 0.10799264683479073, 0.9813054398781135, 0.01851519697883233, 0.00011718479100526791, 0.003162094927061723, 0.9965869178456196, 0.39491944270164947, 0.6007739125562598, 0.0043072531590104225, 0.9921496779060365, 0.0074192022141172, 0.0012876886757873533, 0.0012876886757873533, 0.9979587237351989, 0.02108915580545635, 0.048884486678756556, 0.930040594935188, 0.002208009597399895, 0.9977049080822669, 0.01169198933421043, 0.9882514794392149, 0.9991307564922498, 0.0011205777583196688, 0.9984347826628249, 0.0007634504953286811, 0.0007634504953286811, 0.9993566983852437, 0.002526887653800697, 0.8785988372265023, 0.11884794931709278, 0.002417446360390319, 0.9975323800999497, 6.715128778861997e-05, 0.9993383246578252, 0.5357189700067467, 0.29950714401740464, 0.1647539895730452, 0.22989427851413755, 0.0023633991249116942, 0.7676750066644985, 0.961780563009688, 0.02849974535159018, 0.009614371925837651, 0.26065990667519157, 0.2860043022650377, 0.45333697993447064, 0.2626997541810093, 0.7329427026871784, 0.004350193655493728, 0.17627941983676068, 0.8160998187011647, 0.007668363900096366, 0.9996569504258401, 0.09240924627149127, 0.9073016074001186, 0.0003572522407403013, 0.9996457672962987, 0.028309100146136787, 0.9680042917292031, 0.003686443016573095, 0.869730552149031, 0.12979827747331632, 0.0005472871854110316, 0.9997311818529251, 0.019552579320398628, 0.9803446020366534, 0.9998099259183797, 0.9998688884088086, 0.5584938786189407, 0.38048853501892116, 0.06099176445478352, 0.34795444909181483, 0.6509594488570902, 0.0010665971026636468, 0.9993271976953154, 0.0005103816127146656, 0.9777451313062687, 0.02231789490436871, 0.9939840334043231, 0.005950020818516067, 0.004316296073924344, 0.9937757865440098, 0.0018498411745390046, 0.09793694970959771, 0.6004424407447959, 0.30161251798510735, 0.0006708333336367946, 0.9452361115387026, 0.05408194446890921, 0.9988336149053788, 0.9992978531739729, 0.0006233922976755913, 0.9693704845136475, 0.028075700921334604, 0.002655809546612733, 0.100638762678779, 0.8974609660060526, 0.0018605485537253259, 0.0018096428116534148, 0.9980180106268584, 0.9999707668527877, 0.920682983503785, 0.07929023280113397, 0.5471378787526422, 0.4283704361106221, 0.024509154128785827, 0.9996417504827978, 0.9996383310432702, 0.9998004801009731, 0.8533722990218554, 0.14661650986455255, 0.3888457045335376, 0.606471726433102, 0.00467646893757503, 0.9997700930222899, 0.9999473359979562, 0.9999820030523453, 0.8759188275835805, 0.118566607962949, 0.005511745018818169, 0.9999536085369434, 0.5445967740904438, 0.4042111976421846, 0.0511911041392137, 0.30632903614551715, 0.27821994868244815, 0.41544897154034116, 0.03730044600170799, 0.10967444570651454, 0.8529925375465213, 0.5479115928636261, 0.14676668479416258, 0.3053406864365985, 0.9991512666829182, 0.9992693671071257, 0.9616336923585227, 0.037891457656055026, 0.0003678782296704371, 0.09464980178476218, 0.9053459301151164, 0.999941330042304, 0.10216914399318248, 0.8969124853710995, 0.0009349921663269612, 0.017061219604239203, 0.9829338381879559, 0.20491070083336868, 0.278275529868739, 0.5168120440624427, 0.9995765007759029, 0.9996250741321139, 0.04150359538693548, 0.5854542538986687, 0.3730319132004225, 0.055434546597770785, 0.10229332145691207, 0.8422734486056165, 0.8934213229623489, 0.07406115898638568, 0.032530660972501055, 0.9983589007104231, 0.0015746985815621815, 0.1260732763076242, 0.7785923678501206, 0.09529918003627526, 0.998188432919583, 8.444910599996472e-05, 0.0017734312259992592, 0.9999106455477237, 0.735376622962926, 0.2584778651160703, 0.0060716277040687655, 0.001000283005515361, 0.007001981038607528, 0.9922807414712381, 0.6768739085459289, 0.31715558683331224, 0.005941926354437553, 0.9974705855598366, 0.002484598124598175, 0.9997625034212813, 0.44632777270334184, 0.5530761779493326, 0.0005598692582831683, 0.9996889350437297, 0.9998452330303159, 0.9999253497274563, 0.9983974849381272, 0.0015928635206182875, 0.9995569815085538, 0.9999206447438066, 0.9996788622213472, 0.7609554277790058, 0.1521446528031654, 0.08690663534992611, 0.256605933102742, 0.37170520402641416, 0.3716667092869748, 0.9998903817838483, 0.10002451045162258, 0.8966153518605633, 0.0034375565201312038, 0.9827433340159515, 0.01708245059127932, 0.03262708622381253, 0.1075330012199609, 0.8598443687793167, 0.9996968663749826, 0.5613389295510471, 0.1369880371380626, 0.3016890595017044, 0.9995409923851438, 0.9231415964897756, 0.0672455159537768, 0.00957188425287994, 0.2522015359389189, 0.286613650274907, 0.4612147136172355, 0.07121941131236259, 0.11667861002238125, 0.8120149369577085, 0.8449227276988219, 0.15052739396270856, 0.0046090503370627535, 0.0007745387859055038, 0.9991550338181, 0.999783942477373, 0.9991438911304907, 0.9991438911304907, 0.9999786201754634, 0.4661632606832949, 0.5331185490051389, 0.0007318896951878918, 0.01570884407246645, 0.9841488805919241, 0.07875382425542186, 0.03809344041559519, 0.883131215672599, 0.9814359252946346, 0.018347234726531853, 0.9999655878215424, 0.0009819814345828483, 0.9996571004053395, 0.9997044732130024, 0.09147798819480321, 0.9077773142004347, 0.0007780630830663699, 0.4236323416293652, 0.2976358268622256, 0.27874813603768483, 0.7463569570529244, 0.19813346311516716, 0.055493643467985215, 0.9989814444852821, 0.9998018911886146, 0.0002761883677316615, 0.9451709991985626, 0.049967845477713234, 0.0048669979361409, 0.9996411968163937, 0.1412797945618178, 0.1890898772524719, 0.6696412209496426, 0.9998981220574981, 0.9988480772015212, 0.9993479065913778, 0.0006493488671808822, 0.10542978013524938, 0.8945873423357299, 7.456137208999249e-05, 0.9997208202453977, 0.9999528395195495, 0.9996211580866647, 0.004161874799138981, 0.989391145431676, 0.006242812198708472, 0.0029807638653351486, 0.9970174361180696, 0.03917244233367835, 0.9395790096892279, 0.02126504012399682, 0.9994524974256077, 0.9997631171598738, 0.9997348970988096, 0.17211506133551802, 0.2097976712660325, 0.6180778499346647, 0.9971764615071976, 0.002759713454355713, 0.08539154968679326, 0.7236523299659158, 0.1909404315352286, 0.6040862057185584, 0.3800163109688641, 0.015897005413646276, 0.07989022015958093, 0.9092078833071988, 0.01080026833171273, 0.9991989085346383, 0.9995927368345688, 0.7657010807884284, 0.2230746741503062, 0.011226753240788733, 0.9784726105106609, 0.021490284890645108, 0.9996336143457122, 0.21769395865875737, 0.7036110295621916, 0.07871019352157026, 0.14860249182941754, 0.8491789029759115, 0.0022133909928367277, 0.9994759646596345, 0.9986305018043401, 0.023663598645457622, 0.9762254423951504, 0.00010199827002352423, 0.23960155630912913, 0.7300151615720988, 0.03035922602702926, 0.08594464078262289, 0.9017810346167118, 0.01230131526759418, 0.080259192222196, 0.15675190751470994, 0.7629885250936852, 0.9993263181621101, 0.9989853204962074, 0.990838264696255, 0.00896472715677564, 0.9998022359677169, 0.007291947347568012, 0.9924861193422033, 0.9986375472334433, 0.09654430139157819, 0.10829888354152684, 0.7951583005035259, 0.9997281859644334, 0.00017653685077952206, 0.1167394258901772, 0.1689194201307125, 0.7142802272824297, 0.9991106058831398, 0.9079883726615123, 0.09074313815321831, 0.0012764380047127896, 0.9999471594269066, 0.9997767505782842, 0.12901771378243299, 0.06753146670856079, 0.8034574148682834, 0.2012453916705177, 0.06014051473088058, 0.7386249780771974, 0.0008975277180153081, 0.9738175740466093, 0.025355158033932453, 0.2738755645690234, 0.2451674341110545, 0.4809432084008592, 0.0007911339679643003, 0.9992022015389113, 0.9998475827733992, 0.47701147349601, 0.49588188476996437, 0.027102924630455112, 0.7298422508043085, 0.25041377326750697, 0.019774851237437312, 0.9472024893007842, 0.021935771934142045, 0.03092150983487493, 0.9992986404719602, 0.765074543101133, 0.2309421869359174, 0.004008115613831189, 0.9997800898972182, 0.9990586234774804, 0.9993920754961675, 0.999060900522247, 0.9998005529591184, 0.9991438911304907, 0.4181533331124905, 0.5769941873382878, 0.004849604393805147, 0.40602598889306807, 0.5567154224806095, 0.03726369882407864, 0.3762711206123306, 0.6123070874761154, 0.011428649804490704, 0.9997449508267883, 0.9994128050397794, 0.6916846358229798, 0.30833444111775526, 0.9998143349647289, 0.22514909411437467, 0.735735838473887, 0.03912792698467516, 0.9991561542598102, 0.00898385361367074, 0.9908321130690405, 0.004125786282645628, 0.0005157232853307034, 0.9953459406882577, 0.026765054060887607, 0.025938972145428115, 0.9472681324574018, 0.4054279923120057, 0.5942643982371484, 0.00029893732063161895, 0.08986693328421207, 0.337786549931916, 0.572299444597826, 0.0947497270260709, 0.9003873997691884, 0.004887649063495267], \"Term\": [\"100px\", \"_blank\", \"_blank\", \"agent\", \"agent\", \"agent\", \"alfred\", \"alfredworkflow\", \"align\", \"align\", \"align\", \"allocs\", \"alt\", \"alt\", \"alt\", \"ana\", \"api\", \"api\", \"api\", \"apiversion\", \"avatar\", \"aws\", \"aws\", \"azure\", \"azure\", \"badge\", \"badge\", \"badge\", \"bash\", \"bash\", \"bash\", \"bilibili\", \"bitnami\", \"body\", \"body\", \"bool\", \"bool\", \"build\", \"build\", \"build\", \"byte\", \"byte\", \"byte\", \"bz2\", \"bz2\", \"can\", \"can\", \"can\", \"carbon\", \"carbon\", \"career\", \"career\", \"career\", \"center\", \"center\", \"center\", \"cert\", \"cert\", \"certificate\", \"certificate\", \"chan\", \"charm\", \"charm\", \"chatgpt\", \"chatgpt\", \"chatgpt\", \"cloud\", \"cloud\", \"cloud\", \"cluster\", \"cluster\", \"cluster\", \"cni\", \"code\", \"code\", \"code\", \"color\", \"color\", \"color\", \"column\", \"column\", \"column\", \"com\", \"com\", \"com\", \"command\", \"command\", \"command\", \"config\", \"config\", \"config\", \"configmap\", \"configuration\", \"configuration\", \"configuration\", \"conn\", \"container\", \"container\", \"container\", \"context\", \"context\", \"context\", \"crd\", \"credential\", \"credential\", \"csi\", \"ctx\", \"data\", \"data\", \"data\", \"default\", \"default\", \"default\", \"defer\", \"defer\", \"deploy\", \"deploy\", \"deployment\", \"deployment\", \"dns\", \"dns\", \"dns\", \"doc\", \"doc\", \"doc\", \"docker\", \"docker\", \"docker\", \"dongle\", \"ec2\", \"ec2\", \"encoding\", \"encoding\", \"encoding\", \"environment\", \"environment\", \"environment\", \"episode\", \"episode\", \"err\", \"error\", \"error\", \"example\", \"example\", \"example\", \"exporter\", \"favicons\", \"ffffff\", \"field\", \"field\", \"file\", \"file\", \"file\", \"float64\", \"fmt\", \"func\", \"function\", \"function\", \"function\", \"fuzzuli\", \"get\", \"get\", \"get\", \"github\", \"github\", \"github\", \"githubusercontent\", \"githubusercontent\", \"githubusercontent\", \"golang\", \"golang\", \"golang\", \"gpg\", \"halfrost\", \"handler\", \"handler\", \"handler\", \"height\", \"height\", \"helm\", \"host\", \"host\", \"host\", \"href\", \"href\", \"http\", \"http\", \"http\", \"iam\", \"ibm_articles\", \"image\", \"image\", \"image\", \"img\", \"img\", \"img\", \"import\", \"import\", \"import\", \"ingres\", \"ingres\", \"install\", \"install\", \"install\", \"int\", \"int\", \"int\", \"int64\", \"interface\", \"interface\", \"interface\", \"ipfs\", \"ipfs\", \"ipfs\", \"json\", \"json\", \"json\", \"k8s\", \"k8s\", \"kbd\", \"key\", \"key\", \"key\", \"kube\", \"kubeconfig\", \"kubectl\", \"kubernetes\", \"kubernetes\", \"kustomize\", \"leetcode\", \"len\", \"library\", \"library\", \"library\", \"license\", \"license\", \"license\", \"lingua\", \"local\", \"local\", \"local\", \"logger\", \"logger\", \"logo\", \"logo\", \"logo\", \"logocolor\", \"main\", \"main\", \"main\", \"manifest\", \"map\", \"map\", \"map\", \"master\", \"master\", \"master\", \"medium\", \"medium\", \"medium\", \"method\", \"method\", \"method\", \"minerproxy\", \"minerproxy\", \"msn\", \"musa\", \"musan\", \"musana\", \"name\", \"name\", \"name\", \"namespace\", \"namespace\", \"net\", \"net\", \"net\", \"nginx\", \"nginx\", \"nil\", \"opencollective\", \"opencollective\", \"openshift\", \"operator\", \"operator\", \"operator\", \"org\", \"org\", \"org\", \"package\", \"package\", \"package\", \"packal\", \"panic\", \"panic\", \"parse\", \"parse\", \"parse\", \"pemistahl\", \"png\", \"png\", \"png\", \"pod\", \"podcast\", \"pointer\", \"pointer\", \"port\", \"port\", \"port\", \"printf\", \"println\", \"probe\", \"prometheus\", \"prometheus\", \"prometheus\", \"provider\", \"provider\", \"proxy\", \"proxy\", \"proxy\", \"pterm\", \"quay\", \"rar\", \"raw\", \"raw\", \"raw\", \"registry\", \"registry\", \"release\", \"release\", \"release\", \"request\", \"request\", \"request\", \"resource\", \"resource\", \"resource\", \"resp\", \"responsewriter\", \"result\", \"result\", \"result\", \"return\", \"return\", \"row\", \"run\", \"run\", \"run\", \"running\", \"running\", \"running\", \"sana\", \"sbom\", \"secret\", \"secret\", \"secret\", \"server\", \"server\", \"server\", \"service\", \"service\", \"service\", \"shield\", \"shield\", \"shield\", \"sidecar\", \"sigs\", \"slice\", \"slice\", \"slog\", \"sponsor\", \"sponsor\", \"sprintf\", \"src\", \"src\", \"src\", \"ssh\", \"ssh\", \"static\", \"static\", \"static\", \"str\", \"string\", \"string\", \"string\", \"struct\", \"structs\", \"style\", \"style\", \"style\", \"sub\", \"sub\", \"sub\", \"sudo\", \"sudo\", \"sudo\", \"svg\", \"svg\", \"svg\", \"systemd\", \"systemd\", \"terraform\", \"test\", \"test\", \"test\", \"time\", \"time\", \"time\", \"transaction\", \"transaction\", \"transaction\", \"tunnel\", \"type\", \"type\", \"type\", \"u2fftug6kq\", \"uint32\", \"uint64\", \"uli\", \"unmarshal\", \"usana\", \"use\", \"use\", \"use\", \"user\", \"user\", \"user\", \"using\", \"using\", \"using\", \"val\", \"valign\", \"value\", \"value\", \"vault\", \"version\", \"version\", \"version\", \"victoriametrics\", \"volume\", \"volume\", \"war\", \"war\", \"war\", \"width\", \"width\", \"width\", \"will\", \"will\", \"will\", \"www\", \"www\", \"www\", \"yaml\", \"yaml\", \"yaml\"]}, \"R\": 30, \"lambda.step\": 0.01, \"plot.opts\": {\"xlab\": \"PC1\", \"ylab\": \"PC2\"}, \"topic.order\": [1, 2, 3]};\n\nfunction LDAvis_load_lib(url, callback){\n  var s = document.createElement('script');\n  s.src = url;\n  s.async = true;\n  s.onreadystatechange = s.onload = callback;\n  s.onerror = function(){console.warn(\"failed to load library \" + url);};\n  document.getElementsByTagName(\"head\")[0].appendChild(s);\n}\n\nif(typeof(LDAvis) !== \"undefined\"){\n   // already loaded: just create the visualization\n   !function(LDAvis){\n       new LDAvis(\"#\" + \"ldavis_el20417155257628963933321308\", ldavis_el20417155257628963933321308_data);\n   }(LDAvis);\n}else if(typeof define === \"function\" && define.amd){\n   // require.js is available: use it to load d3/LDAvis\n   require.config({paths: {d3: \"https://d3js.org/d3.v5\"}});\n   require([\"d3\"], function(d3){\n      window.d3 = d3;\n      LDAvis_load_lib(\"https://cdn.jsdelivr.net/gh/bmabey/pyLDAvis@3.4.0/pyLDAvis/js/ldavis.v3.0.0.js\", function(){\n        new LDAvis(\"#\" + \"ldavis_el20417155257628963933321308\", ldavis_el20417155257628963933321308_data);\n      });\n    });\n}else{\n    // require.js not available: dynamically load d3 & LDAvis\n    LDAvis_load_lib(\"https://d3js.org/d3.v5.js\", function(){\n         LDAvis_load_lib(\"https://cdn.jsdelivr.net/gh/bmabey/pyLDAvis@3.4.0/pyLDAvis/js/ldavis.v3.0.0.js\", function(){\n                 new LDAvis(\"#\" + \"ldavis_el20417155257628963933321308\", ldavis_el20417155257628963933321308_data);\n            })\n         });\n}\n</script>"
     },
     "execution_count": 30,
     "metadata": {},
     "output_type": "execute_result"
    }
   ],
   "source": [
    "pyLDAvis.display(lda_display)"
   ],
   "metadata": {
    "collapsed": false,
    "ExecuteTime": {
     "end_time": "2024-04-03T01:26:23.780976Z",
     "start_time": "2024-04-03T01:26:23.742403Z"
    }
   },
   "id": "25dc3d5d9d3566bb",
   "execution_count": 30
  }
 ],
 "metadata": {
  "kernelspec": {
   "display_name": "Python 3",
   "language": "python",
   "name": "python3"
  },
  "language_info": {
   "codemirror_mode": {
    "name": "ipython",
    "version": 2
   },
   "file_extension": ".py",
   "mimetype": "text/x-python",
   "name": "python",
   "nbconvert_exporter": "python",
   "pygments_lexer": "ipython2",
   "version": "2.7.6"
  }
 },
 "nbformat": 4,
 "nbformat_minor": 5
}
